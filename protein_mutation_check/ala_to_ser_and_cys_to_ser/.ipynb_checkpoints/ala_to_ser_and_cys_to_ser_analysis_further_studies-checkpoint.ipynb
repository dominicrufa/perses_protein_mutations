{
 "cells": [
  {
   "cell_type": "code",
   "execution_count": 7,
   "metadata": {},
   "outputs": [],
   "source": [
    "from pymbar import timeseries\n",
    "from pymbar import MBAR\n",
    "from perses.analysis import utils\n",
    "import os\n",
    "from openmmtools.multistate import MultiStateReporter, MultiStateSamplerAnalyzer\n",
    "import networkx as nx\n",
    "from itertools import combinations \n",
    "import time\n",
    "import pickle"
   ]
  },
  {
   "cell_type": "code",
   "execution_count": 4,
   "metadata": {},
   "outputs": [
    {
     "name": "stderr",
     "output_type": "stream",
     "text": [
      "DEBUG:openmmtools.multistate.multistateanalyzer:Isolating restraint force...\n",
      "DEBUG:openmmtools.multistate.multistateanalyzer:No force of type <class 'openmmtools.forces.RadiallySymmetricRestraintForce'> could be found. The restraint will not be unbiased.\n",
      "DEBUG:openmmtools.multistate.multistateanalyzer:Reading energies...\n"
     ]
    },
    {
     "name": "stdout",
     "output_type": "stream",
     "text": [
      "ALA_SER.vacuum.default_map..nc\n"
     ]
    },
    {
     "name": "stderr",
     "output_type": "stream",
     "text": [
      "DEBUG:openmmtools.multistate.multistatereporter:read_replica_thermodynamic_states: iteration = [   0    1    2 ...  998  999 1000]\n",
      "DEBUG:openmmtools.multistate.multistateanalyzer:Done.\n",
      "DEBUG:openmmtools.multistate.multistateanalyzer:Assembling effective timeseries...\n",
      "DEBUG:openmmtools.multistate.multistateanalyzer:Done.\n",
      "DEBUG:openmmtools.multistate.multistateanalyzer:Could not find t0: None of the requested keys could be found on disk!\n",
      "DEBUG:openmmtools.multistate.multistateanalyzer:Equilibration data:\n",
      "DEBUG:openmmtools.multistate.multistateanalyzer: number of iterations discarded to equilibration : 1\n",
      "DEBUG:openmmtools.multistate.multistateanalyzer: statistical inefficiency of production region   : 1.2289316654205322\n",
      "DEBUG:openmmtools.multistate.multistateanalyzer: effective number of uncorrelated samples        : 814.5286254882812\n",
      "DEBUG:openmmtools.multistate.multistateanalyzer:Assembling uncorrelated energies...\n",
      "DEBUG:openmmtools.multistate.multistateanalyzer:Done.\n",
      "DEBUG:openmmtools.multistate.multistateanalyzer:Computing free energy differences...\n",
      "DEBUG:openmmtools.multistate.multistateanalyzer:Done.\n",
      "DEBUG:openmmtools.multistate.multistateanalyzer:Computing covariance matrix...\n",
      "DEBUG:openmmtools.multistate.multistateanalyzer:Deltaf_ij:\n",
      "DEBUG:openmmtools.multistate.multistateanalyzer:   0.000   0.505   1.332   2.445   2.975   3.310  10.770  17.535  23.638  29.127  34.094\n",
      "DEBUG:openmmtools.multistate.multistateanalyzer:  -0.505   0.000   0.827   1.940   2.470   2.805  10.265  17.030  23.133  28.622  33.589\n",
      "DEBUG:openmmtools.multistate.multistateanalyzer:  -1.332  -0.827   0.000   1.113   1.644   1.978   9.438  16.204  22.306  27.795  32.762\n",
      "DEBUG:openmmtools.multistate.multistateanalyzer:  -2.445  -1.940  -1.113   0.000   0.530   0.865   8.325  15.090  21.193  26.682  31.649\n",
      "DEBUG:openmmtools.multistate.multistateanalyzer:  -2.975  -2.470  -1.644  -0.530   0.000   0.334   7.794  14.560  20.662  26.151  31.119\n",
      "DEBUG:openmmtools.multistate.multistateanalyzer:  -3.310  -2.805  -1.978  -0.865  -0.334   0.000   7.460  14.226  20.328  25.817  30.784\n",
      "DEBUG:openmmtools.multistate.multistateanalyzer: -10.770 -10.265  -9.438  -8.325  -7.794  -7.460   0.000   6.765  12.868  18.357  23.324\n",
      "DEBUG:openmmtools.multistate.multistateanalyzer: -17.535 -17.030 -16.204 -15.090 -14.560 -14.226  -6.765   0.000   6.103  11.592  16.559\n",
      "DEBUG:openmmtools.multistate.multistateanalyzer: -23.638 -23.133 -22.306 -21.193 -20.662 -20.328 -12.868  -6.103   0.000   5.489  10.456\n",
      "DEBUG:openmmtools.multistate.multistateanalyzer: -29.127 -28.622 -27.795 -26.682 -26.151 -25.817 -18.357 -11.592  -5.489   0.000   4.967\n",
      "DEBUG:openmmtools.multistate.multistateanalyzer: -34.094 -33.589 -32.762 -31.649 -31.119 -30.784 -23.324 -16.559 -10.456  -4.967   0.000\n",
      "DEBUG:openmmtools.multistate.multistateanalyzer:dDeltaf_ij:\n",
      "DEBUG:openmmtools.multistate.multistateanalyzer:   0.000   0.006   0.012   0.023   0.028   0.030   0.033   0.039   0.046   0.054   0.061\n",
      "DEBUG:openmmtools.multistate.multistateanalyzer:   0.006   0.000   0.007   0.020   0.026   0.028   0.031   0.037   0.045   0.053   0.060\n",
      "DEBUG:openmmtools.multistate.multistateanalyzer:   0.012   0.007   0.000   0.014   0.020   0.022   0.026   0.033   0.042   0.050   0.058\n",
      "DEBUG:openmmtools.multistate.multistateanalyzer:   0.023   0.020   0.014   0.000   0.007   0.010   0.017   0.026   0.037   0.046   0.054\n",
      "DEBUG:openmmtools.multistate.multistateanalyzer:   0.028   0.026   0.020   0.007   0.000   0.004   0.014   0.025   0.036   0.045   0.054\n",
      "DEBUG:openmmtools.multistate.multistateanalyzer:   0.030   0.028   0.022   0.010   0.004   0.000   0.013   0.024   0.035   0.045   0.053\n",
      "DEBUG:openmmtools.multistate.multistateanalyzer:   0.033   0.031   0.026   0.017   0.014   0.013   0.000   0.013   0.026   0.038   0.048\n",
      "DEBUG:openmmtools.multistate.multistateanalyzer:   0.039   0.037   0.033   0.026   0.025   0.024   0.013   0.000   0.015   0.028   0.040\n",
      "DEBUG:openmmtools.multistate.multistateanalyzer:   0.046   0.045   0.042   0.037   0.036   0.035   0.026   0.015   0.000   0.015   0.029\n",
      "DEBUG:openmmtools.multistate.multistateanalyzer:   0.054   0.053   0.050   0.046   0.045   0.045   0.038   0.028   0.015   0.000   0.017\n",
      "DEBUG:openmmtools.multistate.multistateanalyzer:   0.061   0.060   0.058   0.054   0.054   0.053   0.048   0.040   0.029   0.017   0.000\n",
      "/home/rufad/miniconda3/envs/openmm/lib/python3.6/site-packages/openmmtools-0.18.3+0.g6cf88cc.dirty-py3.6-linux-x86_64.egg/openmmtools/multistate/multistatereporter.py:116: UserWarning: Warning: The openmmtools.multistate API is experimental and may change in future releases\n",
      "  warnings.warn('Warning: The openmmtools.multistate API is experimental and may change in future releases')\n",
      "DEBUG:openmmtools.multistate.multistatereporter:Initial checkpoint file automatically chosen as SER_ALA.vacuum.default_map._checkpoint.nc\n",
      "/home/rufad/miniconda3/envs/openmm/lib/python3.6/site-packages/openmmtools-0.18.3+0.g6cf88cc.dirty-py3.6-linux-x86_64.egg/openmmtools/multistate/multistateanalyzer.py:1175: UserWarning: Warning: The openmmtools.multistate API is experimental and may change in future releases\n",
      "  warnings.warn('Warning: The openmmtools.multistate API is experimental and may change in future releases')\n",
      "DEBUG:openmmtools.multistate.multistatereporter:checkpoint_interval != on-file checkpoint interval! Using on file analysis interval of 10.\n",
      "DEBUG:openmmtools.multistate.multistatereporter:analysis_particle_indices != on-file analysis_particle_indices!Using on file analysis indices of [ 0  1  2  3  4  5  6  7  8  9 10 11 12 13 14 15 16 23 24 25 26 17 18 19\n",
      " 20 21 22]\n",
      "DEBUG:openmmtools.multistate.multistateanalyzer:Checking if we need to unbias the restraint...\n",
      "DEBUG:openmmtools.multistate.multistateanalyzer:Trying to get radially symmetric restraint data...\n",
      "DEBUG:openmmtools.multistate.multistateanalyzer:Retrieving end thermodynamic states...\n",
      "DEBUG:openmmtools.multistate.multistateanalyzer:Isolating restraint force...\n",
      "DEBUG:openmmtools.multistate.multistateanalyzer:No force of type <class 'openmmtools.forces.RadiallySymmetricRestraintForce'> could be found. The restraint will not be unbiased.\n",
      "DEBUG:openmmtools.multistate.multistateanalyzer:Reading energies...\n",
      "DEBUG:openmmtools.multistate.multistatereporter:read_replica_thermodynamic_states: iteration = [   0    1    2 ...  998  999 1000]\n",
      "DEBUG:openmmtools.multistate.multistateanalyzer:Done.\n"
     ]
    },
    {
     "name": "stdout",
     "output_type": "stream",
     "text": [
      "SER_ALA.vacuum.default_map..nc\n"
     ]
    },
    {
     "name": "stderr",
     "output_type": "stream",
     "text": [
      "DEBUG:openmmtools.multistate.multistateanalyzer:Assembling effective timeseries...\n",
      "DEBUG:openmmtools.multistate.multistateanalyzer:Done.\n",
      "DEBUG:openmmtools.multistate.multistateanalyzer:Could not find t0: None of the requested keys could be found on disk!\n",
      "DEBUG:openmmtools.multistate.multistateanalyzer:Equilibration data:\n",
      "DEBUG:openmmtools.multistate.multistateanalyzer: number of iterations discarded to equilibration : 1\n",
      "DEBUG:openmmtools.multistate.multistateanalyzer: statistical inefficiency of production region   : 1.1590832471847534\n",
      "DEBUG:openmmtools.multistate.multistateanalyzer: effective number of uncorrelated samples        : 863.613525390625\n",
      "DEBUG:openmmtools.multistate.multistateanalyzer:Assembling uncorrelated energies...\n",
      "DEBUG:openmmtools.multistate.multistateanalyzer:Done.\n",
      "DEBUG:openmmtools.multistate.multistateanalyzer:Computing free energy differences...\n",
      "DEBUG:openmmtools.multistate.multistateanalyzer:Done.\n",
      "DEBUG:openmmtools.multistate.multistateanalyzer:Computing covariance matrix...\n",
      "DEBUG:openmmtools.multistate.multistateanalyzer:Deltaf_ij:\n",
      "DEBUG:openmmtools.multistate.multistateanalyzer:   0.000  -4.669 -10.184 -16.301 -23.071 -30.532 -30.863 -31.382 -32.479 -33.317 -33.842\n",
      "DEBUG:openmmtools.multistate.multistateanalyzer:   4.669   0.000  -5.515 -11.632 -18.402 -25.863 -26.193 -26.713 -27.810 -28.648 -29.173\n",
      "DEBUG:openmmtools.multistate.multistateanalyzer:  10.184   5.515   0.000  -6.116 -12.887 -20.348 -20.678 -21.197 -22.295 -23.133 -23.658\n",
      "DEBUG:openmmtools.multistate.multistateanalyzer:  16.301  11.632   6.116   0.000  -6.771 -14.231 -14.562 -15.081 -16.178 -17.017 -17.541\n",
      "DEBUG:openmmtools.multistate.multistateanalyzer:  23.071  18.402  12.887   6.771   0.000  -7.461  -7.791  -8.311  -9.408 -10.246 -10.771\n",
      "DEBUG:openmmtools.multistate.multistateanalyzer:  30.532  25.863  20.348  14.231   7.461   0.000  -0.330  -0.850  -1.947  -2.785  -3.310\n",
      "DEBUG:openmmtools.multistate.multistateanalyzer:  30.863  26.193  20.678  14.562   7.791   0.330   0.000  -0.519  -1.616  -2.455  -2.979\n",
      "DEBUG:openmmtools.multistate.multistateanalyzer:  31.382  26.713  21.197  15.081   8.311   0.850   0.519   0.000  -1.097  -1.936  -2.460\n",
      "DEBUG:openmmtools.multistate.multistateanalyzer:  32.479  27.810  22.295  16.178   9.408   1.947   1.616   1.097   0.000  -0.839  -1.363\n",
      "DEBUG:openmmtools.multistate.multistateanalyzer:  33.317  28.648  23.133  17.017  10.246   2.785   2.455   1.936   0.839   0.000  -0.525\n",
      "DEBUG:openmmtools.multistate.multistateanalyzer:  33.842  29.173  23.658  17.541  10.771   3.310   2.979   2.460   1.363   0.525   0.000\n",
      "DEBUG:openmmtools.multistate.multistateanalyzer:dDeltaf_ij:\n",
      "DEBUG:openmmtools.multistate.multistateanalyzer:   0.000   0.027   0.036   0.045   0.052   0.057   0.057   0.057   0.060   0.063   0.064\n",
      "DEBUG:openmmtools.multistate.multistateanalyzer:   0.027   0.000   0.015   0.027   0.037   0.043   0.044   0.044   0.048   0.051   0.052\n",
      "DEBUG:openmmtools.multistate.multistateanalyzer:   0.036   0.015   0.000   0.014   0.026   0.034   0.034   0.035   0.040   0.043   0.045\n",
      "DEBUG:openmmtools.multistate.multistateanalyzer:   0.045   0.027   0.014   0.000   0.013   0.023   0.024   0.025   0.032   0.036   0.038\n",
      "DEBUG:openmmtools.multistate.multistateanalyzer:   0.052   0.037   0.026   0.013   0.000   0.012   0.013   0.016   0.025   0.030   0.032\n",
      "DEBUG:openmmtools.multistate.multistateanalyzer:   0.057   0.043   0.034   0.023   0.012   0.000   0.004   0.009   0.022   0.027   0.030\n",
      "DEBUG:openmmtools.multistate.multistateanalyzer:   0.057   0.044   0.034   0.024   0.013   0.004   0.000   0.006   0.019   0.025   0.028\n",
      "DEBUG:openmmtools.multistate.multistateanalyzer:   0.057   0.044   0.035   0.025   0.016   0.009   0.006   0.000   0.014   0.020   0.023\n",
      "DEBUG:openmmtools.multistate.multistateanalyzer:   0.060   0.048   0.040   0.032   0.025   0.022   0.019   0.014   0.000   0.007   0.012\n",
      "DEBUG:openmmtools.multistate.multistateanalyzer:   0.063   0.051   0.043   0.036   0.030   0.027   0.025   0.020   0.007   0.000   0.005\n",
      "DEBUG:openmmtools.multistate.multistateanalyzer:   0.064   0.052   0.045   0.038   0.032   0.030   0.028   0.023   0.012   0.005   0.000\n"
     ]
    }
   ],
   "source": [
    "residues = ['ALA', 'SER']\n",
    "phase = 'vacuum'\n",
    "reporter_dict = {}\n",
    "for peptide_transform in combinations(residues, 2):\n",
    "    for direct in [peptide_transform, peptide_transform[::-1]]:\n",
    "        try:\n",
    "            #filename = \"{}_{}.{}.default_map.nc\".format(direct[0], direct[1], phase)\n",
    "            filename = f\"{direct[0]}_{direct[1]}.{phase}.default_map..nc\"\n",
    "            print(filename)\n",
    "            reporter = MultiStateReporter(filename)\n",
    "            analyzer = MultiStateSamplerAnalyzer(reporter)\n",
    "            f_ij, df_ij = analyzer.get_free_energy()\n",
    "            dg = f_ij[0,-1]\n",
    "            ddg = df_ij[0,-1]**2\n",
    "            reporter_dict[direct] = (dg, ddg)\n",
    "\n",
    "        except Exception as e:\n",
    "            print(e)"
   ]
  },
  {
   "cell_type": "code",
   "execution_count": 5,
   "metadata": {},
   "outputs": [
    {
     "data": {
      "text/plain": [
       "{('ALA', 'SER'): (34.09403272527055, 0.0037497935610104724),\n",
       " ('SER', 'ALA'): (-33.841897421933055, 0.004069442786996544)}"
      ]
     },
     "execution_count": 5,
     "metadata": {},
     "output_type": "execute_result"
    }
   ],
   "source": [
    "reporter_dict"
   ]
  },
  {
   "cell_type": "code",
   "execution_count": 20,
   "metadata": {},
   "outputs": [
    {
     "name": "stderr",
     "output_type": "stream",
     "text": [
      "/home/rufad/miniconda3/envs/openmm/lib/python3.6/site-packages/openmmtools-0.18.3+0.g6cf88cc.dirty-py3.6-linux-x86_64.egg/openmmtools/multistate/multistatereporter.py:116: UserWarning: Warning: The openmmtools.multistate API is experimental and may change in future releases\n",
      "  warnings.warn('Warning: The openmmtools.multistate API is experimental and may change in future releases')\n",
      "DEBUG:openmmtools.multistate.multistatereporter:Initial checkpoint file automatically chosen as ALA_SER.vacuum.default_map.t2_checkpoint.nc\n",
      "/home/rufad/miniconda3/envs/openmm/lib/python3.6/site-packages/openmmtools-0.18.3+0.g6cf88cc.dirty-py3.6-linux-x86_64.egg/openmmtools/multistate/multistateanalyzer.py:1175: UserWarning: Warning: The openmmtools.multistate API is experimental and may change in future releases\n",
      "  warnings.warn('Warning: The openmmtools.multistate API is experimental and may change in future releases')\n",
      "DEBUG:openmmtools.multistate.multistatereporter:checkpoint_interval != on-file checkpoint interval! Using on file analysis interval of 10.\n",
      "DEBUG:openmmtools.multistate.multistatereporter:analysis_particle_indices != on-file analysis_particle_indices!Using on file analysis indices of [ 0  1  2  3  4  5  6  7  8  9 10 11 12 13 14 15 22 23 24 25 26 16 17 18\n",
      " 19 20 21]\n",
      "DEBUG:openmmtools.multistate.multistateanalyzer:Checking if we need to unbias the restraint...\n",
      "DEBUG:openmmtools.multistate.multistateanalyzer:Trying to get radially symmetric restraint data...\n",
      "DEBUG:openmmtools.multistate.multistateanalyzer:Retrieving end thermodynamic states...\n",
      "DEBUG:openmmtools.multistate.multistateanalyzer:Isolating restraint force...\n",
      "DEBUG:openmmtools.multistate.multistateanalyzer:No force of type <class 'openmmtools.forces.RadiallySymmetricRestraintForce'> could be found. The restraint will not be unbiased.\n",
      "DEBUG:openmmtools.multistate.multistateanalyzer:Reading energies...\n",
      "DEBUG:openmmtools.multistate.multistatereporter:read_replica_thermodynamic_states: iteration = [   0    1    2 ...  998  999 1000]\n",
      "DEBUG:openmmtools.multistate.multistateanalyzer:Done.\n",
      "DEBUG:openmmtools.multistate.multistateanalyzer:Assembling effective timeseries...\n"
     ]
    },
    {
     "name": "stdout",
     "output_type": "stream",
     "text": [
      "ALA_SER.vacuum.default_map.t2.nc\n"
     ]
    },
    {
     "name": "stderr",
     "output_type": "stream",
     "text": [
      "DEBUG:openmmtools.multistate.multistateanalyzer:Done.\n",
      "DEBUG:openmmtools.multistate.multistateanalyzer:Could not find t0: None of the requested keys could be found on disk!\n",
      "DEBUG:openmmtools.multistate.multistateanalyzer:Equilibration data:\n",
      "DEBUG:openmmtools.multistate.multistateanalyzer: number of iterations discarded to equilibration : 1\n",
      "DEBUG:openmmtools.multistate.multistateanalyzer: statistical inefficiency of production region   : 1.0419782400131226\n",
      "DEBUG:openmmtools.multistate.multistateanalyzer: effective number of uncorrelated samples        : 960.6726684570312\n",
      "DEBUG:openmmtools.multistate.multistateanalyzer:Assembling uncorrelated energies...\n",
      "DEBUG:openmmtools.multistate.multistateanalyzer:Done.\n",
      "DEBUG:openmmtools.multistate.multistateanalyzer:Computing free energy differences...\n",
      "DEBUG:openmmtools.multistate.multistateanalyzer:Done.\n",
      "DEBUG:openmmtools.multistate.multistateanalyzer:Computing covariance matrix...\n",
      "DEBUG:openmmtools.multistate.multistateanalyzer:Deltaf_ij:\n",
      "DEBUG:openmmtools.multistate.multistateanalyzer:   0.000   0.523   1.360   2.456   2.976   3.305  10.773  17.538  23.635  29.120  33.870\n",
      "DEBUG:openmmtools.multistate.multistateanalyzer:  -0.523   0.000   0.837   1.933   2.453   2.781  10.250  17.015  23.112  28.596  33.346\n",
      "DEBUG:openmmtools.multistate.multistateanalyzer:  -1.360  -0.837   0.000   1.096   1.615   1.944   9.412  16.178  22.275  27.759  32.509\n",
      "DEBUG:openmmtools.multistate.multistateanalyzer:  -2.456  -1.933  -1.096   0.000   0.520   0.848   8.317  15.082  21.179  26.663  31.414\n",
      "DEBUG:openmmtools.multistate.multistateanalyzer:  -2.976  -2.453  -1.615  -0.520   0.000   0.329   7.797  14.563  20.659  26.144  30.894\n",
      "DEBUG:openmmtools.multistate.multistateanalyzer:  -3.305  -2.781  -1.944  -0.848  -0.329   0.000   7.468  14.234  20.330  25.815  30.565\n",
      "DEBUG:openmmtools.multistate.multistateanalyzer: -10.773 -10.250  -9.412  -8.317  -7.797  -7.468   0.000   6.766  12.862  18.347  23.097\n",
      "DEBUG:openmmtools.multistate.multistateanalyzer: -17.538 -17.015 -16.178 -15.082 -14.563 -14.234  -6.766   0.000   6.097  11.581  16.331\n",
      "DEBUG:openmmtools.multistate.multistateanalyzer: -23.635 -23.112 -22.275 -21.179 -20.659 -20.330 -12.862  -6.097   0.000   5.484  10.235\n",
      "DEBUG:openmmtools.multistate.multistateanalyzer: -29.120 -28.596 -27.759 -26.663 -26.144 -25.815 -18.347 -11.581  -5.484   0.000   4.750\n",
      "DEBUG:openmmtools.multistate.multistateanalyzer: -33.870 -33.346 -32.509 -31.414 -30.894 -30.565 -23.097 -16.331 -10.235  -4.750   0.000\n",
      "DEBUG:openmmtools.multistate.multistateanalyzer:dDeltaf_ij:\n",
      "DEBUG:openmmtools.multistate.multistateanalyzer:   0.000   0.005   0.012   0.022   0.026   0.028   0.031   0.036   0.043   0.050   0.059\n",
      "DEBUG:openmmtools.multistate.multistateanalyzer:   0.005   0.000   0.007   0.019   0.024   0.026   0.028   0.034   0.041   0.049   0.058\n",
      "DEBUG:openmmtools.multistate.multistateanalyzer:   0.012   0.007   0.000   0.013   0.018   0.020   0.024   0.030   0.038   0.046   0.056\n",
      "DEBUG:openmmtools.multistate.multistateanalyzer:   0.022   0.019   0.013   0.000   0.006   0.009   0.015   0.024   0.034   0.043   0.053\n",
      "DEBUG:openmmtools.multistate.multistateanalyzer:   0.026   0.024   0.018   0.006   0.000   0.004   0.013   0.023   0.033   0.042   0.052\n",
      "DEBUG:openmmtools.multistate.multistateanalyzer:   0.028   0.026   0.020   0.009   0.004   0.000   0.012   0.022   0.033   0.042   0.052\n",
      "DEBUG:openmmtools.multistate.multistateanalyzer:   0.031   0.028   0.024   0.015   0.013   0.012   0.000   0.012   0.025   0.035   0.047\n",
      "DEBUG:openmmtools.multistate.multistateanalyzer:   0.036   0.034   0.030   0.024   0.023   0.022   0.012   0.000   0.014   0.026   0.041\n",
      "DEBUG:openmmtools.multistate.multistateanalyzer:   0.043   0.041   0.038   0.034   0.033   0.033   0.025   0.014   0.000   0.014   0.032\n",
      "DEBUG:openmmtools.multistate.multistateanalyzer:   0.050   0.049   0.046   0.043   0.042   0.042   0.035   0.026   0.014   0.000   0.023\n",
      "DEBUG:openmmtools.multistate.multistateanalyzer:   0.059   0.058   0.056   0.053   0.052   0.052   0.047   0.041   0.032   0.023   0.000\n",
      "/home/rufad/miniconda3/envs/openmm/lib/python3.6/site-packages/openmmtools-0.18.3+0.g6cf88cc.dirty-py3.6-linux-x86_64.egg/openmmtools/multistate/multistatereporter.py:116: UserWarning: Warning: The openmmtools.multistate API is experimental and may change in future releases\n",
      "  warnings.warn('Warning: The openmmtools.multistate API is experimental and may change in future releases')\n",
      "DEBUG:openmmtools.multistate.multistatereporter:Initial checkpoint file automatically chosen as SER_ALA.vacuum.default_map.t2_checkpoint.nc\n",
      "/home/rufad/miniconda3/envs/openmm/lib/python3.6/site-packages/openmmtools-0.18.3+0.g6cf88cc.dirty-py3.6-linux-x86_64.egg/openmmtools/multistate/multistateanalyzer.py:1175: UserWarning: Warning: The openmmtools.multistate API is experimental and may change in future releases\n",
      "  warnings.warn('Warning: The openmmtools.multistate API is experimental and may change in future releases')\n",
      "DEBUG:openmmtools.multistate.multistatereporter:checkpoint_interval != on-file checkpoint interval! Using on file analysis interval of 10.\n",
      "DEBUG:openmmtools.multistate.multistatereporter:analysis_particle_indices != on-file analysis_particle_indices!Using on file analysis indices of [ 0  1  2  3  4  5  6  7  8  9 10 11 12 13 14 15 16 23 24 25 26 17 18 19\n",
      " 20 21 22]\n",
      "DEBUG:openmmtools.multistate.multistateanalyzer:Checking if we need to unbias the restraint...\n",
      "DEBUG:openmmtools.multistate.multistateanalyzer:Trying to get radially symmetric restraint data...\n",
      "DEBUG:openmmtools.multistate.multistateanalyzer:Retrieving end thermodynamic states...\n",
      "DEBUG:openmmtools.multistate.multistateanalyzer:Isolating restraint force...\n"
     ]
    },
    {
     "name": "stdout",
     "output_type": "stream",
     "text": [
      "SER_ALA.vacuum.default_map.t2.nc\n"
     ]
    },
    {
     "name": "stderr",
     "output_type": "stream",
     "text": [
      "DEBUG:openmmtools.multistate.multistateanalyzer:No force of type <class 'openmmtools.forces.RadiallySymmetricRestraintForce'> could be found. The restraint will not be unbiased.\n",
      "DEBUG:openmmtools.multistate.multistateanalyzer:Reading energies...\n",
      "DEBUG:openmmtools.multistate.multistatereporter:read_replica_thermodynamic_states: iteration = [   0    1    2 ...  998  999 1000]\n",
      "DEBUG:openmmtools.multistate.multistateanalyzer:Done.\n",
      "DEBUG:openmmtools.multistate.multistateanalyzer:Assembling effective timeseries...\n",
      "DEBUG:openmmtools.multistate.multistateanalyzer:Done.\n",
      "DEBUG:openmmtools.multistate.multistateanalyzer:Could not find t0: None of the requested keys could be found on disk!\n",
      "DEBUG:openmmtools.multistate.multistateanalyzer:Equilibration data:\n",
      "DEBUG:openmmtools.multistate.multistateanalyzer: number of iterations discarded to equilibration : 1\n",
      "DEBUG:openmmtools.multistate.multistateanalyzer: statistical inefficiency of production region   : 1.0028458833694458\n",
      "DEBUG:openmmtools.multistate.multistateanalyzer: effective number of uncorrelated samples        : 998.1593627929688\n",
      "DEBUG:openmmtools.multistate.multistateanalyzer:Assembling uncorrelated energies...\n",
      "DEBUG:openmmtools.multistate.multistateanalyzer:Done.\n",
      "DEBUG:openmmtools.multistate.multistateanalyzer:Computing free energy differences...\n",
      "DEBUG:openmmtools.multistate.multistateanalyzer:Done.\n",
      "DEBUG:openmmtools.multistate.multistateanalyzer:Computing covariance matrix...\n",
      "DEBUG:openmmtools.multistate.multistateanalyzer:Deltaf_ij:\n",
      "DEBUG:openmmtools.multistate.multistateanalyzer:   0.000  -4.639 -10.134 -16.240 -23.006 -30.462 -30.790 -31.318 -32.432 -33.265 -33.776\n",
      "DEBUG:openmmtools.multistate.multistateanalyzer:   4.639   0.000  -5.495 -11.601 -18.367 -25.823 -26.151 -26.679 -27.792 -28.625 -29.136\n",
      "DEBUG:openmmtools.multistate.multistateanalyzer:  10.134   5.495   0.000  -6.107 -12.872 -20.328 -20.656 -21.184 -22.298 -23.131 -23.642\n",
      "DEBUG:openmmtools.multistate.multistateanalyzer:  16.240  11.601   6.107   0.000  -6.765 -14.222 -14.550 -15.077 -16.191 -17.024 -17.535\n",
      "DEBUG:openmmtools.multistate.multistateanalyzer:  23.006  18.367  12.872   6.765   0.000  -7.456  -7.784  -8.312  -9.426 -10.259 -10.770\n",
      "DEBUG:openmmtools.multistate.multistateanalyzer:  30.462  25.823  20.328  14.222   7.456   0.000  -0.328  -0.856  -1.970  -2.803  -3.314\n",
      "DEBUG:openmmtools.multistate.multistateanalyzer:  30.790  26.151  20.656  14.550   7.784   0.328   0.000  -0.528  -1.641  -2.474  -2.985\n",
      "DEBUG:openmmtools.multistate.multistateanalyzer:  31.318  26.679  21.184  15.077   8.312   0.856   0.528   0.000  -1.114  -1.947  -2.458\n",
      "DEBUG:openmmtools.multistate.multistateanalyzer:  32.432  27.792  22.298  16.191   9.426   1.970   1.641   1.114   0.000  -0.833  -1.344\n",
      "DEBUG:openmmtools.multistate.multistateanalyzer:  33.265  28.625  23.131  17.024  10.259   2.803   2.474   1.947   0.833   0.000  -0.511\n",
      "DEBUG:openmmtools.multistate.multistateanalyzer:  33.776  29.136  23.642  17.535  10.770   3.314   2.985   2.458   1.344   0.511   0.000\n",
      "DEBUG:openmmtools.multistate.multistateanalyzer:dDeltaf_ij:\n",
      "DEBUG:openmmtools.multistate.multistateanalyzer:   0.000   0.026   0.034   0.042   0.048   0.053   0.053   0.054   0.057   0.058   0.060\n",
      "DEBUG:openmmtools.multistate.multistateanalyzer:   0.026   0.000   0.014   0.026   0.034   0.041   0.041   0.042   0.045   0.048   0.049\n",
      "DEBUG:openmmtools.multistate.multistateanalyzer:   0.034   0.014   0.000   0.013   0.024   0.032   0.032   0.033   0.037   0.040   0.042\n",
      "DEBUG:openmmtools.multistate.multistateanalyzer:   0.042   0.026   0.013   0.000   0.012   0.022   0.022   0.024   0.030   0.033   0.035\n",
      "DEBUG:openmmtools.multistate.multistateanalyzer:   0.048   0.034   0.024   0.012   0.000   0.012   0.012   0.015   0.024   0.028   0.030\n",
      "DEBUG:openmmtools.multistate.multistateanalyzer:   0.053   0.041   0.032   0.022   0.012   0.000   0.004   0.009   0.020   0.025   0.028\n",
      "DEBUG:openmmtools.multistate.multistateanalyzer:   0.053   0.041   0.032   0.022   0.012   0.004   0.000   0.006   0.018   0.023   0.026\n",
      "DEBUG:openmmtools.multistate.multistateanalyzer:   0.054   0.042   0.033   0.024   0.015   0.009   0.006   0.000   0.013   0.018   0.021\n",
      "DEBUG:openmmtools.multistate.multistateanalyzer:   0.057   0.045   0.037   0.030   0.024   0.020   0.018   0.013   0.000   0.007   0.011\n",
      "DEBUG:openmmtools.multistate.multistateanalyzer:   0.058   0.048   0.040   0.033   0.028   0.025   0.023   0.018   0.007   0.000   0.005\n",
      "DEBUG:openmmtools.multistate.multistateanalyzer:   0.060   0.049   0.042   0.035   0.030   0.028   0.026   0.021   0.011   0.005   0.000\n"
     ]
    }
   ],
   "source": [
    "residues = ['ALA', 'SER']\n",
    "phase = 'vacuum'\n",
    "reporter_dict = {}\n",
    "for peptide_transform in combinations(residues, 2):\n",
    "    for direct in [peptide_transform, peptide_transform[::-1]]:\n",
    "        try:\n",
    "            #filename = \"{}_{}.{}.default_map.nc\".format(direct[0], direct[1], phase)\n",
    "            filename = f\"{direct[0]}_{direct[1]}.{phase}.default_map.t2.nc\"\n",
    "            print(filename)\n",
    "            reporter = MultiStateReporter(filename)\n",
    "            analyzer = MultiStateSamplerAnalyzer(reporter)\n",
    "            f_ij, df_ij = analyzer.get_free_energy()\n",
    "            dg = f_ij[0,-1]\n",
    "            ddg = df_ij[0,-1]**2\n",
    "            reporter_dict[direct] = (dg, ddg)\n",
    "\n",
    "        except Exception as e:\n",
    "            print(e)"
   ]
  },
  {
   "cell_type": "code",
   "execution_count": 21,
   "metadata": {},
   "outputs": [
    {
     "data": {
      "text/plain": [
       "{('ALA', 'SER'): (33.86980545735876, 0.003511753588553388),\n",
       " ('SER', 'ALA'): (-33.775661571202455, 0.0035493323191000464)}"
      ]
     },
     "execution_count": 21,
     "metadata": {},
     "output_type": "execute_result"
    }
   ],
   "source": [
    "reporter_dict"
   ]
  },
  {
   "cell_type": "code",
   "execution_count": 54,
   "metadata": {},
   "outputs": [
    {
     "name": "stderr",
     "output_type": "stream",
     "text": [
      "/home/rufad/miniconda3/envs/openmm/lib/python3.6/site-packages/openmmtools-0.18.3+0.g6cf88cc.dirty-py3.6-linux-x86_64.egg/openmmtools/multistate/multistatereporter.py:116: UserWarning: Warning: The openmmtools.multistate API is experimental and may change in future releases\n",
      "  warnings.warn('Warning: The openmmtools.multistate API is experimental and may change in future releases')\n",
      "DEBUG:openmmtools.multistate.multistatereporter:Initial checkpoint file automatically chosen as CYS_SER.vacuum.default_map._checkpoint.nc\n",
      "/home/rufad/miniconda3/envs/openmm/lib/python3.6/site-packages/openmmtools-0.18.3+0.g6cf88cc.dirty-py3.6-linux-x86_64.egg/openmmtools/multistate/multistateanalyzer.py:1175: UserWarning: Warning: The openmmtools.multistate API is experimental and may change in future releases\n",
      "  warnings.warn('Warning: The openmmtools.multistate API is experimental and may change in future releases')\n",
      "DEBUG:openmmtools.multistate.multistatereporter:checkpoint_interval != on-file checkpoint interval! Using on file analysis interval of 10.\n",
      "DEBUG:openmmtools.multistate.multistatereporter:analysis_particle_indices != on-file analysis_particle_indices!Using on file analysis indices of [ 0  1  2  3  4  5  6  7  8  9 10 11 12 13 14 15 16 23 17 18 19 20 21 22]\n",
      "DEBUG:openmmtools.multistate.multistateanalyzer:Checking if we need to unbias the restraint...\n",
      "DEBUG:openmmtools.multistate.multistateanalyzer:Trying to get radially symmetric restraint data...\n",
      "DEBUG:openmmtools.multistate.multistateanalyzer:Retrieving end thermodynamic states...\n",
      "DEBUG:openmmtools.multistate.multistateanalyzer:Isolating restraint force...\n",
      "DEBUG:openmmtools.multistate.multistateanalyzer:No force of type <class 'openmmtools.forces.RadiallySymmetricRestraintForce'> could be found. The restraint will not be unbiased.\n",
      "DEBUG:openmmtools.multistate.multistateanalyzer:Reading energies...\n",
      "DEBUG:openmmtools.multistate.multistatereporter:read_replica_thermodynamic_states: iteration = [   0    1    2 ...  998  999 1000]\n",
      "DEBUG:openmmtools.multistate.multistateanalyzer:Done.\n"
     ]
    },
    {
     "name": "stdout",
     "output_type": "stream",
     "text": [
      "CYS_SER.vacuum.default_map..nc\n"
     ]
    },
    {
     "name": "stderr",
     "output_type": "stream",
     "text": [
      "DEBUG:openmmtools.multistate.multistateanalyzer:Assembling effective timeseries...\n",
      "DEBUG:openmmtools.multistate.multistateanalyzer:Done.\n",
      "DEBUG:openmmtools.multistate.multistateanalyzer:Could not find t0: None of the requested keys could be found on disk!\n",
      "DEBUG:openmmtools.multistate.multistateanalyzer:Equilibration data:\n",
      "DEBUG:openmmtools.multistate.multistateanalyzer: number of iterations discarded to equilibration : 1\n",
      "DEBUG:openmmtools.multistate.multistateanalyzer: statistical inefficiency of production region   : 1.0132718086242676\n",
      "DEBUG:openmmtools.multistate.multistateanalyzer: effective number of uncorrelated samples        : 987.888916015625\n",
      "DEBUG:openmmtools.multistate.multistateanalyzer:Assembling uncorrelated energies...\n",
      "DEBUG:openmmtools.multistate.multistateanalyzer:Done.\n",
      "DEBUG:openmmtools.multistate.multistateanalyzer:Computing free energy differences...\n",
      "DEBUG:openmmtools.multistate.multistateanalyzer:Done.\n",
      "DEBUG:openmmtools.multistate.multistateanalyzer:Computing covariance matrix...\n",
      "DEBUG:openmmtools.multistate.multistateanalyzer:Deltaf_ij:\n",
      "DEBUG:openmmtools.multistate.multistateanalyzer:   0.000  -1.235  -2.750  -4.480  -6.373  -8.508  -7.812  -7.707  -7.973  -8.502  -9.710\n",
      "DEBUG:openmmtools.multistate.multistateanalyzer:   1.235   0.000  -1.515  -3.245  -5.138  -7.273  -6.577  -6.471  -6.738  -7.267  -8.475\n",
      "DEBUG:openmmtools.multistate.multistateanalyzer:   2.750   1.515   0.000  -1.730  -3.623  -5.757  -5.061  -4.956  -5.223  -5.752  -6.960\n",
      "DEBUG:openmmtools.multistate.multistateanalyzer:   4.480   3.245   1.730   0.000  -1.893  -4.028  -3.332  -3.227  -3.493  -4.023  -5.230\n",
      "DEBUG:openmmtools.multistate.multistateanalyzer:   6.373   5.138   3.623   1.893   0.000  -2.135  -1.439  -1.334  -1.600  -2.130  -3.337\n",
      "DEBUG:openmmtools.multistate.multistateanalyzer:   8.508   7.273   5.757   4.028   2.135   0.000   0.696   0.801   0.535   0.005  -1.202\n",
      "DEBUG:openmmtools.multistate.multistateanalyzer:   7.812   6.577   5.061   3.332   1.439  -0.696   0.000   0.105  -0.161  -0.691  -1.898\n",
      "DEBUG:openmmtools.multistate.multistateanalyzer:   7.707   6.471   4.956   3.227   1.334  -0.801  -0.105   0.000  -0.266  -0.796  -2.003\n",
      "DEBUG:openmmtools.multistate.multistateanalyzer:   7.973   6.738   5.223   3.493   1.600  -0.535   0.161   0.266   0.000  -0.530  -1.737\n",
      "DEBUG:openmmtools.multistate.multistateanalyzer:   8.502   7.267   5.752   4.023   2.130  -0.005   0.691   0.796   0.530   0.000  -1.207\n",
      "DEBUG:openmmtools.multistate.multistateanalyzer:   9.710   8.475   6.960   5.230   3.337   1.202   1.898   2.003   1.737   1.207   0.000\n",
      "DEBUG:openmmtools.multistate.multistateanalyzer:dDeltaf_ij:\n",
      "DEBUG:openmmtools.multistate.multistateanalyzer:   0.000   0.030   0.049   0.064   0.076   0.088   0.097   0.107   0.116   0.124   0.135\n",
      "DEBUG:openmmtools.multistate.multistateanalyzer:   0.030   0.000   0.027   0.048   0.063   0.076   0.087   0.098   0.108   0.116   0.128\n",
      "DEBUG:openmmtools.multistate.multistateanalyzer:   0.049   0.027   0.000   0.027   0.048   0.064   0.077   0.089   0.099   0.109   0.121\n",
      "DEBUG:openmmtools.multistate.multistateanalyzer:   0.064   0.048   0.027   0.000   0.027   0.050   0.065   0.079   0.091   0.101   0.114\n",
      "DEBUG:openmmtools.multistate.multistateanalyzer:   0.076   0.063   0.048   0.027   0.000   0.029   0.050   0.067   0.080   0.092   0.106\n",
      "DEBUG:openmmtools.multistate.multistateanalyzer:   0.088   0.076   0.064   0.050   0.029   0.000   0.032   0.054   0.070   0.083   0.099\n",
      "DEBUG:openmmtools.multistate.multistateanalyzer:   0.097   0.087   0.077   0.065   0.050   0.032   0.000   0.030   0.053   0.069   0.087\n",
      "DEBUG:openmmtools.multistate.multistateanalyzer:   0.107   0.098   0.089   0.079   0.067   0.054   0.030   0.000   0.030   0.052   0.075\n",
      "DEBUG:openmmtools.multistate.multistateanalyzer:   0.116   0.108   0.099   0.091   0.080   0.070   0.053   0.030   0.000   0.030   0.061\n",
      "DEBUG:openmmtools.multistate.multistateanalyzer:   0.124   0.116   0.109   0.101   0.092   0.083   0.069   0.052   0.030   0.000   0.042\n",
      "DEBUG:openmmtools.multistate.multistateanalyzer:   0.135   0.128   0.121   0.114   0.106   0.099   0.087   0.075   0.061   0.042   0.000\n",
      "/home/rufad/miniconda3/envs/openmm/lib/python3.6/site-packages/openmmtools-0.18.3+0.g6cf88cc.dirty-py3.6-linux-x86_64.egg/openmmtools/multistate/multistatereporter.py:116: UserWarning: Warning: The openmmtools.multistate API is experimental and may change in future releases\n",
      "  warnings.warn('Warning: The openmmtools.multistate API is experimental and may change in future releases')\n",
      "DEBUG:openmmtools.multistate.multistatereporter:Initial checkpoint file automatically chosen as SER_CYS.vacuum.default_map._checkpoint.nc\n",
      "/home/rufad/miniconda3/envs/openmm/lib/python3.6/site-packages/openmmtools-0.18.3+0.g6cf88cc.dirty-py3.6-linux-x86_64.egg/openmmtools/multistate/multistateanalyzer.py:1175: UserWarning: Warning: The openmmtools.multistate API is experimental and may change in future releases\n",
      "  warnings.warn('Warning: The openmmtools.multistate API is experimental and may change in future releases')\n",
      "DEBUG:openmmtools.multistate.multistatereporter:checkpoint_interval != on-file checkpoint interval! Using on file analysis interval of 10.\n",
      "DEBUG:openmmtools.multistate.multistatereporter:analysis_particle_indices != on-file analysis_particle_indices!Using on file analysis indices of [ 0  1  2  3  4  5  6  7  8  9 10 11 12 13 14 15 16 23 17 18 19 20 21 22]\n",
      "DEBUG:openmmtools.multistate.multistateanalyzer:Checking if we need to unbias the restraint...\n",
      "DEBUG:openmmtools.multistate.multistateanalyzer:Trying to get radially symmetric restraint data...\n",
      "DEBUG:openmmtools.multistate.multistateanalyzer:Retrieving end thermodynamic states...\n",
      "DEBUG:openmmtools.multistate.multistateanalyzer:Isolating restraint force...\n",
      "DEBUG:openmmtools.multistate.multistateanalyzer:No force of type <class 'openmmtools.forces.RadiallySymmetricRestraintForce'> could be found. The restraint will not be unbiased.\n",
      "DEBUG:openmmtools.multistate.multistateanalyzer:Reading energies...\n",
      "DEBUG:openmmtools.multistate.multistatereporter:read_replica_thermodynamic_states: iteration = [   0    1    2 ...  998  999 1000]\n"
     ]
    },
    {
     "name": "stdout",
     "output_type": "stream",
     "text": [
      "SER_CYS.vacuum.default_map..nc\n"
     ]
    },
    {
     "name": "stderr",
     "output_type": "stream",
     "text": [
      "DEBUG:openmmtools.multistate.multistateanalyzer:Done.\n",
      "DEBUG:openmmtools.multistate.multistateanalyzer:Assembling effective timeseries...\n",
      "DEBUG:openmmtools.multistate.multistateanalyzer:Done.\n",
      "DEBUG:openmmtools.multistate.multistateanalyzer:Could not find t0: None of the requested keys could be found on disk!\n",
      "DEBUG:openmmtools.multistate.multistateanalyzer:Equilibration data:\n",
      "DEBUG:openmmtools.multistate.multistateanalyzer: number of iterations discarded to equilibration : 251\n",
      "DEBUG:openmmtools.multistate.multistateanalyzer: statistical inefficiency of production region   : 1.0\n",
      "DEBUG:openmmtools.multistate.multistateanalyzer: effective number of uncorrelated samples        : 751.0\n",
      "DEBUG:openmmtools.multistate.multistateanalyzer:Assembling uncorrelated energies...\n",
      "DEBUG:openmmtools.multistate.multistateanalyzer:Done.\n",
      "DEBUG:openmmtools.multistate.multistateanalyzer:Computing free energy differences...\n",
      "DEBUG:openmmtools.multistate.multistateanalyzer:Done.\n",
      "DEBUG:openmmtools.multistate.multistateanalyzer:Computing covariance matrix...\n",
      "DEBUG:openmmtools.multistate.multistateanalyzer:Deltaf_ij:\n",
      "DEBUG:openmmtools.multistate.multistateanalyzer:   0.000   1.307   1.814   2.083   2.025   1.382   3.567   5.453   7.115   8.520   9.532\n",
      "DEBUG:openmmtools.multistate.multistateanalyzer:  -1.307   0.000   0.507   0.776   0.718   0.075   2.260   4.147   5.808   7.213   8.225\n",
      "DEBUG:openmmtools.multistate.multistateanalyzer:  -1.814  -0.507   0.000   0.269   0.211  -0.432   1.753   3.640   5.301   6.706   7.718\n",
      "DEBUG:openmmtools.multistate.multistateanalyzer:  -2.083  -0.776  -0.269   0.000  -0.058  -0.701   1.485   3.371   5.033   6.437   7.449\n",
      "DEBUG:openmmtools.multistate.multistateanalyzer:  -2.025  -0.718  -0.211   0.058   0.000  -0.643   1.542   3.429   5.090   6.495   7.507\n",
      "DEBUG:openmmtools.multistate.multistateanalyzer:  -1.382  -0.075   0.432   0.701   0.643   0.000   2.186   4.072   5.734   7.138   8.150\n",
      "DEBUG:openmmtools.multistate.multistateanalyzer:  -3.567  -2.260  -1.753  -1.485  -1.542  -2.186   0.000   1.886   3.548   4.953   5.964\n",
      "DEBUG:openmmtools.multistate.multistateanalyzer:  -5.453  -4.147  -3.640  -3.371  -3.429  -4.072  -1.886   0.000   1.662   3.066   4.078\n",
      "DEBUG:openmmtools.multistate.multistateanalyzer:  -7.115  -5.808  -5.301  -5.033  -5.090  -5.734  -3.548  -1.662   0.000   1.405   2.416\n",
      "DEBUG:openmmtools.multistate.multistateanalyzer:  -8.520  -7.213  -6.706  -6.437  -6.495  -7.138  -4.953  -3.066  -1.405   0.000   1.012\n",
      "DEBUG:openmmtools.multistate.multistateanalyzer:  -9.532  -8.225  -7.718  -7.449  -7.507  -8.150  -5.964  -4.078  -2.416  -1.012   0.000\n",
      "DEBUG:openmmtools.multistate.multistateanalyzer:dDeltaf_ij:\n",
      "DEBUG:openmmtools.multistate.multistateanalyzer:   0.000   0.050   0.072   0.087   0.101   0.114   0.123   0.132   0.141   0.149   0.157\n",
      "DEBUG:openmmtools.multistate.multistateanalyzer:   0.050   0.000   0.034   0.059   0.078   0.095   0.105   0.116   0.125   0.134   0.143\n",
      "DEBUG:openmmtools.multistate.multistateanalyzer:   0.072   0.034   0.000   0.034   0.060   0.080   0.092   0.104   0.115   0.124   0.134\n",
      "DEBUG:openmmtools.multistate.multistateanalyzer:   0.087   0.059   0.034   0.000   0.034   0.062   0.077   0.092   0.103   0.114   0.125\n",
      "DEBUG:openmmtools.multistate.multistateanalyzer:   0.101   0.078   0.060   0.034   0.000   0.038   0.058   0.076   0.090   0.102   0.114\n",
      "DEBUG:openmmtools.multistate.multistateanalyzer:   0.114   0.095   0.080   0.062   0.038   0.000   0.034   0.058   0.075   0.089   0.103\n",
      "DEBUG:openmmtools.multistate.multistateanalyzer:   0.123   0.105   0.092   0.077   0.058   0.034   0.000   0.032   0.056   0.074   0.090\n",
      "DEBUG:openmmtools.multistate.multistateanalyzer:   0.132   0.116   0.104   0.092   0.076   0.058   0.032   0.000   0.032   0.056   0.076\n",
      "DEBUG:openmmtools.multistate.multistateanalyzer:   0.141   0.125   0.115   0.103   0.090   0.075   0.056   0.032   0.000   0.032   0.059\n",
      "DEBUG:openmmtools.multistate.multistateanalyzer:   0.149   0.134   0.124   0.114   0.102   0.089   0.074   0.056   0.032   0.000   0.036\n",
      "DEBUG:openmmtools.multistate.multistateanalyzer:   0.157   0.143   0.134   0.125   0.114   0.103   0.090   0.076   0.059   0.036   0.000\n"
     ]
    }
   ],
   "source": [
    "residues = ['CYS', 'SER']\n",
    "phase = 'vacuum'\n",
    "reporter_dict = {}\n",
    "for peptide_transform in combinations(residues, 2):\n",
    "    for direct in [peptide_transform, peptide_transform[::-1]]:\n",
    "        try:\n",
    "            #filename = \"{}_{}.{}.default_map.nc\".format(direct[0], direct[1], phase)\n",
    "            filename = f\"{direct[0]}_{direct[1]}.{phase}.default_map..nc\"\n",
    "            print(filename)\n",
    "            reporter = MultiStateReporter(filename)\n",
    "            analyzer = MultiStateSamplerAnalyzer(reporter)\n",
    "            f_ij, df_ij = analyzer.get_free_energy()\n",
    "            dg = f_ij[0,-1]\n",
    "            ddg = df_ij[0,-1]**2\n",
    "            reporter_dict[direct] = (dg, ddg)\n",
    "\n",
    "        except Exception as e:\n",
    "            print(e)"
   ]
  },
  {
   "cell_type": "code",
   "execution_count": 55,
   "metadata": {},
   "outputs": [
    {
     "data": {
      "text/plain": [
       "{('CYS', 'SER'): (-9.709770145964946, 0.01825143693313883),\n",
       " ('SER', 'CYS'): (9.53155300551228, 0.024663589020475697)}"
      ]
     },
     "execution_count": 55,
     "metadata": {},
     "output_type": "execute_result"
    }
   ],
   "source": [
    "reporter_dict"
   ]
  },
  {
   "cell_type": "code",
   "execution_count": 56,
   "metadata": {},
   "outputs": [
    {
     "name": "stderr",
     "output_type": "stream",
     "text": [
      "/home/rufad/miniconda3/envs/openmm/lib/python3.6/site-packages/openmmtools-0.18.3+0.g6cf88cc.dirty-py3.6-linux-x86_64.egg/openmmtools/multistate/multistatereporter.py:116: UserWarning: Warning: The openmmtools.multistate API is experimental and may change in future releases\n",
      "  warnings.warn('Warning: The openmmtools.multistate API is experimental and may change in future releases')\n",
      "DEBUG:openmmtools.multistate.multistatereporter:Initial checkpoint file automatically chosen as CYS_SER.vacuum.default_map.t2_checkpoint.nc\n",
      "/home/rufad/miniconda3/envs/openmm/lib/python3.6/site-packages/openmmtools-0.18.3+0.g6cf88cc.dirty-py3.6-linux-x86_64.egg/openmmtools/multistate/multistateanalyzer.py:1175: UserWarning: Warning: The openmmtools.multistate API is experimental and may change in future releases\n",
      "  warnings.warn('Warning: The openmmtools.multistate API is experimental and may change in future releases')\n",
      "DEBUG:openmmtools.multistate.multistatereporter:checkpoint_interval != on-file checkpoint interval! Using on file analysis interval of 10.\n",
      "DEBUG:openmmtools.multistate.multistatereporter:analysis_particle_indices != on-file analysis_particle_indices!Using on file analysis indices of [ 0  1  2  3  4  5  6  7  8  9 10 11 12 13 14 15 16 23 17 18 19 20 21 22]\n",
      "DEBUG:openmmtools.multistate.multistateanalyzer:Checking if we need to unbias the restraint...\n",
      "DEBUG:openmmtools.multistate.multistateanalyzer:Trying to get radially symmetric restraint data...\n",
      "DEBUG:openmmtools.multistate.multistateanalyzer:Retrieving end thermodynamic states...\n",
      "DEBUG:openmmtools.multistate.multistateanalyzer:Isolating restraint force...\n",
      "DEBUG:openmmtools.multistate.multistateanalyzer:No force of type <class 'openmmtools.forces.RadiallySymmetricRestraintForce'> could be found. The restraint will not be unbiased.\n",
      "DEBUG:openmmtools.multistate.multistateanalyzer:Reading energies...\n",
      "DEBUG:openmmtools.multistate.multistatereporter:read_replica_thermodynamic_states: iteration = [   0    1    2 ...  998  999 1000]\n"
     ]
    },
    {
     "name": "stdout",
     "output_type": "stream",
     "text": [
      "CYS_SER.vacuum.default_map.t2.nc\n"
     ]
    },
    {
     "name": "stderr",
     "output_type": "stream",
     "text": [
      "DEBUG:openmmtools.multistate.multistateanalyzer:Done.\n",
      "DEBUG:openmmtools.multistate.multistateanalyzer:Assembling effective timeseries...\n",
      "DEBUG:openmmtools.multistate.multistateanalyzer:Done.\n",
      "DEBUG:openmmtools.multistate.multistateanalyzer:Could not find t0: None of the requested keys could be found on disk!\n",
      "DEBUG:openmmtools.multistate.multistateanalyzer:Equilibration data:\n",
      "DEBUG:openmmtools.multistate.multistateanalyzer: number of iterations discarded to equilibration : 1\n",
      "DEBUG:openmmtools.multistate.multistateanalyzer: statistical inefficiency of production region   : 1.2968125343322754\n",
      "DEBUG:openmmtools.multistate.multistateanalyzer: effective number of uncorrelated samples        : 771.892578125\n",
      "DEBUG:openmmtools.multistate.multistateanalyzer:Assembling uncorrelated energies...\n",
      "DEBUG:openmmtools.multistate.multistateanalyzer:Done.\n",
      "DEBUG:openmmtools.multistate.multistateanalyzer:Computing free energy differences...\n",
      "DEBUG:openmmtools.multistate.multistateanalyzer:Done.\n",
      "DEBUG:openmmtools.multistate.multistateanalyzer:Computing covariance matrix...\n",
      "DEBUG:openmmtools.multistate.multistateanalyzer:Deltaf_ij:\n",
      "DEBUG:openmmtools.multistate.multistateanalyzer:   0.000  -1.266  -2.779  -4.463  -6.337  -8.475  -7.772  -7.634  -7.867  -8.324  -9.338\n",
      "DEBUG:openmmtools.multistate.multistateanalyzer:   1.266   0.000  -1.513  -3.197  -5.071  -7.209  -6.506  -6.368  -6.601  -7.059  -8.073\n",
      "DEBUG:openmmtools.multistate.multistateanalyzer:   2.779   1.513   0.000  -1.684  -3.558  -5.696  -4.993  -4.855  -5.088  -5.546  -6.560\n",
      "DEBUG:openmmtools.multistate.multistateanalyzer:   4.463   3.197   1.684   0.000  -1.874  -4.012  -3.309  -3.171  -3.404  -3.862  -4.875\n",
      "DEBUG:openmmtools.multistate.multistateanalyzer:   6.337   5.071   3.558   1.874   0.000  -2.138  -1.435  -1.297  -1.530  -1.987  -3.001\n",
      "DEBUG:openmmtools.multistate.multistateanalyzer:   8.475   7.209   5.696   4.012   2.138   0.000   0.703   0.841   0.608   0.150  -0.863\n",
      "DEBUG:openmmtools.multistate.multistateanalyzer:   7.772   6.506   4.993   3.309   1.435  -0.703   0.000   0.138  -0.095  -0.553  -1.566\n",
      "DEBUG:openmmtools.multistate.multistateanalyzer:   7.634   6.368   4.855   3.171   1.297  -0.841  -0.138   0.000  -0.233  -0.691  -1.705\n",
      "DEBUG:openmmtools.multistate.multistateanalyzer:   7.867   6.601   5.088   3.404   1.530  -0.608   0.095   0.233   0.000  -0.457  -1.471\n",
      "DEBUG:openmmtools.multistate.multistateanalyzer:   8.324   7.059   5.546   3.862   1.987  -0.150   0.553   0.691   0.457   0.000  -1.014\n",
      "DEBUG:openmmtools.multistate.multistateanalyzer:   9.338   8.073   6.560   4.875   3.001   0.863   1.566   1.705   1.471   1.014   0.000\n",
      "DEBUG:openmmtools.multistate.multistateanalyzer:dDeltaf_ij:\n",
      "DEBUG:openmmtools.multistate.multistateanalyzer:   0.000   0.034   0.055   0.072   0.086   0.099   0.110   0.121   0.131   0.140   0.151\n",
      "DEBUG:openmmtools.multistate.multistateanalyzer:   0.034   0.000   0.030   0.054   0.071   0.086   0.099   0.111   0.122   0.131   0.143\n",
      "DEBUG:openmmtools.multistate.multistateanalyzer:   0.055   0.030   0.000   0.031   0.055   0.073   0.087   0.101   0.113   0.123   0.136\n",
      "DEBUG:openmmtools.multistate.multistateanalyzer:   0.072   0.054   0.031   0.000   0.031   0.057   0.074   0.090   0.103   0.114   0.128\n",
      "DEBUG:openmmtools.multistate.multistateanalyzer:   0.086   0.071   0.055   0.031   0.000   0.033   0.057   0.076   0.091   0.104   0.118\n",
      "DEBUG:openmmtools.multistate.multistateanalyzer:   0.099   0.086   0.073   0.057   0.033   0.000   0.035   0.061   0.079   0.093   0.109\n",
      "DEBUG:openmmtools.multistate.multistateanalyzer:   0.110   0.099   0.087   0.074   0.057   0.035   0.000   0.035   0.059   0.077   0.096\n",
      "DEBUG:openmmtools.multistate.multistateanalyzer:   0.121   0.111   0.101   0.090   0.076   0.061   0.035   0.000   0.033   0.058   0.082\n",
      "DEBUG:openmmtools.multistate.multistateanalyzer:   0.131   0.122   0.113   0.103   0.091   0.079   0.059   0.033   0.000   0.034   0.066\n",
      "DEBUG:openmmtools.multistate.multistateanalyzer:   0.140   0.131   0.123   0.114   0.104   0.093   0.077   0.058   0.034   0.000   0.043\n",
      "DEBUG:openmmtools.multistate.multistateanalyzer:   0.151   0.143   0.136   0.128   0.118   0.109   0.096   0.082   0.066   0.043   0.000\n",
      "/home/rufad/miniconda3/envs/openmm/lib/python3.6/site-packages/openmmtools-0.18.3+0.g6cf88cc.dirty-py3.6-linux-x86_64.egg/openmmtools/multistate/multistatereporter.py:116: UserWarning: Warning: The openmmtools.multistate API is experimental and may change in future releases\n",
      "  warnings.warn('Warning: The openmmtools.multistate API is experimental and may change in future releases')\n",
      "DEBUG:openmmtools.multistate.multistatereporter:Initial checkpoint file automatically chosen as SER_CYS.vacuum.default_map.t2_checkpoint.nc\n",
      "/home/rufad/miniconda3/envs/openmm/lib/python3.6/site-packages/openmmtools-0.18.3+0.g6cf88cc.dirty-py3.6-linux-x86_64.egg/openmmtools/multistate/multistateanalyzer.py:1175: UserWarning: Warning: The openmmtools.multistate API is experimental and may change in future releases\n",
      "  warnings.warn('Warning: The openmmtools.multistate API is experimental and may change in future releases')\n",
      "DEBUG:openmmtools.multistate.multistatereporter:checkpoint_interval != on-file checkpoint interval! Using on file analysis interval of 10.\n",
      "DEBUG:openmmtools.multistate.multistatereporter:analysis_particle_indices != on-file analysis_particle_indices!Using on file analysis indices of [ 0  1  2  3  4  5  6  7  8  9 10 11 12 13 14 15 16 23 17 18 19 20 21 22]\n",
      "DEBUG:openmmtools.multistate.multistateanalyzer:Checking if we need to unbias the restraint...\n",
      "DEBUG:openmmtools.multistate.multistateanalyzer:Trying to get radially symmetric restraint data...\n",
      "DEBUG:openmmtools.multistate.multistateanalyzer:Retrieving end thermodynamic states...\n",
      "DEBUG:openmmtools.multistate.multistateanalyzer:Isolating restraint force...\n",
      "DEBUG:openmmtools.multistate.multistateanalyzer:No force of type <class 'openmmtools.forces.RadiallySymmetricRestraintForce'> could be found. The restraint will not be unbiased.\n",
      "DEBUG:openmmtools.multistate.multistateanalyzer:Reading energies...\n"
     ]
    },
    {
     "name": "stdout",
     "output_type": "stream",
     "text": [
      "SER_CYS.vacuum.default_map.t2.nc\n"
     ]
    },
    {
     "name": "stderr",
     "output_type": "stream",
     "text": [
      "DEBUG:openmmtools.multistate.multistatereporter:read_replica_thermodynamic_states: iteration = [   0    1    2 ...  998  999 1000]\n",
      "DEBUG:openmmtools.multistate.multistateanalyzer:Done.\n",
      "DEBUG:openmmtools.multistate.multistateanalyzer:Assembling effective timeseries...\n",
      "DEBUG:openmmtools.multistate.multistateanalyzer:Done.\n",
      "DEBUG:openmmtools.multistate.multistateanalyzer:Could not find t0: None of the requested keys could be found on disk!\n",
      "DEBUG:openmmtools.multistate.multistateanalyzer:Equilibration data:\n",
      "DEBUG:openmmtools.multistate.multistateanalyzer: number of iterations discarded to equilibration : 1\n",
      "DEBUG:openmmtools.multistate.multistateanalyzer: statistical inefficiency of production region   : 1.394632339477539\n",
      "DEBUG:openmmtools.multistate.multistateanalyzer: effective number of uncorrelated samples        : 717.7518920898438\n",
      "DEBUG:openmmtools.multistate.multistateanalyzer:Assembling uncorrelated energies...\n",
      "DEBUG:openmmtools.multistate.multistateanalyzer:Done.\n",
      "DEBUG:openmmtools.multistate.multistateanalyzer:Computing free energy differences...\n",
      "DEBUG:openmmtools.multistate.multistateanalyzer:Done.\n",
      "DEBUG:openmmtools.multistate.multistateanalyzer:Computing covariance matrix...\n",
      "DEBUG:openmmtools.multistate.multistateanalyzer:Deltaf_ij:\n",
      "DEBUG:openmmtools.multistate.multistateanalyzer:   0.000   1.496   1.985   2.261   2.231   1.592   3.746   5.672   7.442   9.038  10.299\n",
      "DEBUG:openmmtools.multistate.multistateanalyzer:  -1.496   0.000   0.489   0.765   0.735   0.096   2.250   4.176   5.946   7.542   8.803\n",
      "DEBUG:openmmtools.multistate.multistateanalyzer:  -1.985  -0.489   0.000   0.276   0.246  -0.393   1.762   3.687   5.457   7.053   8.314\n",
      "DEBUG:openmmtools.multistate.multistateanalyzer:  -2.261  -0.765  -0.276   0.000  -0.030  -0.669   1.486   3.411   5.181   6.777   8.038\n",
      "DEBUG:openmmtools.multistate.multistateanalyzer:  -2.231  -0.735  -0.246   0.030   0.000  -0.639   1.515   3.441   5.210   6.807   8.068\n",
      "DEBUG:openmmtools.multistate.multistateanalyzer:  -1.592  -0.096   0.393   0.669   0.639   0.000   2.155   4.081   5.850   7.446   8.708\n",
      "DEBUG:openmmtools.multistate.multistateanalyzer:  -3.746  -2.250  -1.762  -1.486  -1.515  -2.155   0.000   1.926   3.695   5.291   6.553\n",
      "DEBUG:openmmtools.multistate.multistateanalyzer:  -5.672  -4.176  -3.687  -3.411  -3.441  -4.081  -1.926   0.000   1.769   3.366   4.627\n",
      "DEBUG:openmmtools.multistate.multistateanalyzer:  -7.442  -5.946  -5.457  -5.181  -5.210  -5.850  -3.695  -1.769   0.000   1.596   2.858\n",
      "DEBUG:openmmtools.multistate.multistateanalyzer:  -9.038  -7.542  -7.053  -6.777  -6.807  -7.446  -5.291  -3.366  -1.596   0.000   1.261\n",
      "DEBUG:openmmtools.multistate.multistateanalyzer: -10.299  -8.803  -8.314  -8.038  -8.068  -8.708  -6.553  -4.627  -2.858  -1.261   0.000\n",
      "DEBUG:openmmtools.multistate.multistateanalyzer:dDeltaf_ij:\n",
      "DEBUG:openmmtools.multistate.multistateanalyzer:   0.000   0.056   0.077   0.092   0.106   0.119   0.128   0.137   0.145   0.153   0.161\n",
      "DEBUG:openmmtools.multistate.multistateanalyzer:   0.056   0.000   0.036   0.060   0.080   0.097   0.108   0.118   0.127   0.136   0.146\n",
      "DEBUG:openmmtools.multistate.multistateanalyzer:   0.077   0.036   0.000   0.034   0.060   0.082   0.094   0.106   0.117   0.126   0.136\n",
      "DEBUG:openmmtools.multistate.multistateanalyzer:   0.092   0.060   0.034   0.000   0.035   0.064   0.080   0.094   0.105   0.115   0.126\n",
      "DEBUG:openmmtools.multistate.multistateanalyzer:   0.106   0.080   0.060   0.035   0.000   0.038   0.060   0.077   0.091   0.103   0.115\n",
      "DEBUG:openmmtools.multistate.multistateanalyzer:   0.119   0.097   0.082   0.064   0.038   0.000   0.034   0.058   0.075   0.089   0.103\n",
      "DEBUG:openmmtools.multistate.multistateanalyzer:   0.128   0.108   0.094   0.080   0.060   0.034   0.000   0.032   0.056   0.074   0.090\n",
      "DEBUG:openmmtools.multistate.multistateanalyzer:   0.137   0.118   0.106   0.094   0.077   0.058   0.032   0.000   0.031   0.055   0.076\n",
      "DEBUG:openmmtools.multistate.multistateanalyzer:   0.145   0.127   0.117   0.105   0.091   0.075   0.056   0.031   0.000   0.031   0.059\n",
      "DEBUG:openmmtools.multistate.multistateanalyzer:   0.153   0.136   0.126   0.115   0.103   0.089   0.074   0.055   0.031   0.000   0.036\n",
      "DEBUG:openmmtools.multistate.multistateanalyzer:   0.161   0.146   0.136   0.126   0.115   0.103   0.090   0.076   0.059   0.036   0.000\n"
     ]
    }
   ],
   "source": [
    "residues = ['CYS', 'SER']\n",
    "phase = 'vacuum'\n",
    "reporter_dict = {}\n",
    "for peptide_transform in combinations(residues, 2):\n",
    "    for direct in [peptide_transform, peptide_transform[::-1]]:\n",
    "        try:\n",
    "            #filename = \"{}_{}.{}.default_map.nc\".format(direct[0], direct[1], phase)\n",
    "            filename = f\"{direct[0]}_{direct[1]}.{phase}.default_map.t2.nc\"\n",
    "            print(filename)\n",
    "            reporter = MultiStateReporter(filename)\n",
    "            analyzer = MultiStateSamplerAnalyzer(reporter)\n",
    "            f_ij, df_ij = analyzer.get_free_energy()\n",
    "            dg = f_ij[0,-1]\n",
    "            ddg = df_ij[0,-1]**2\n",
    "            reporter_dict[direct] = (dg, ddg)\n",
    "\n",
    "        except Exception as e:\n",
    "            print(e)"
   ]
  },
  {
   "cell_type": "code",
   "execution_count": 57,
   "metadata": {},
   "outputs": [
    {
     "data": {
      "text/plain": [
       "{('CYS', 'SER'): (-9.338246025749381, 0.02285115377094992),\n",
       " ('SER', 'CYS'): (10.299134617462816, 0.026017901507416452)}"
      ]
     },
     "execution_count": 57,
     "metadata": {},
     "output_type": "execute_result"
    }
   ],
   "source": [
    "reporter_dict"
   ]
  },
  {
   "cell_type": "markdown",
   "metadata": {},
   "source": [
    "## it looks like ALA --> SER (and reverse) works; let's look at the topologies and systems to see the transformation..."
   ]
  },
  {
   "cell_type": "code",
   "execution_count": 32,
   "metadata": {},
   "outputs": [],
   "source": [
    "def query_constraints(htf):\n",
    "    \"\"\"\n",
    "    this function will pull constraints from the hybrid system and print the names of the atoms with constraints and the constraint parameters...\n",
    "    \"\"\"\n",
    "    hybrid_sys = htf._hybrid_system\n",
    "    num_constraints = hybrid_sys.getNumConstraints()\n",
    "    constraints = []\n",
    "    for i in range(num_constraints):\n",
    "        constraints.append(hybrid_sys.getConstraintParameters(i))\n",
    "    \n",
    "    hybr_to_old = htf._hybrid_to_old_map\n",
    "    hybr_to_new = htf._hybrid_to_new_map\n",
    "    old_top, new_top = htf._topology_proposal._old_topology,  htf._topology_proposal._new_topology\n",
    "    old_top_dict = {atom.index: (atom.residue.name, atom.name) for atom in old_top.atoms()}\n",
    "    new_top_dict = {atom.index: (atom.residue.name, atom.name) for atom in new_top.atoms()}\n",
    "    \n",
    "    counter = 0\n",
    "    for (i, j, distance) in constraints:\n",
    "        print(f\"hybrid indices: {i}, {j}\")\n",
    "        new, old = False, False\n",
    "        in_loop_counter = 0\n",
    "        try: \n",
    "            old_idx_i,old_idx_j = hybr_to_old[i], hybr_to_old[j]\n",
    "            old_atom_i, old_atom_j = old_top_dict[old_idx_i], old_top_dict[old_idx_j]\n",
    "            print('\\t', old_atom_i, old_atom_j, distance)\n",
    "            old = True\n",
    "            in_loop_counter +=1\n",
    "        except Exception as e:\n",
    "            pass\n",
    "        \n",
    "        try:\n",
    "            new_idx_i,new_idx_j = hybr_to_new[i], hybr_to_new[j]\n",
    "            new_atom_i, new_atom_j = new_top_dict[new_idx_i], new_top_dict[new_idx_j]\n",
    "            print('\\t', new_atom_i, new_atom_j, distance)\n",
    "            new = True\n",
    "            in_loop_counter +=1\n",
    "        except Exception as e:\n",
    "            pass\n",
    "        \n",
    "        if old and new:\n",
    "            print(f\"\\tthis is core\")\n",
    "            in_loop_counter = 1\n",
    "        elif old and not new:\n",
    "            print(f\"\\tthis is old\")\n",
    "        elif not old and new:\n",
    "            print(f\"\\tthis is new\")\n",
    "        else:\n",
    "            print(f\"\\tthere is a problem\")\n",
    "        \n",
    "        counter += in_loop_counter\n",
    "    \n",
    "    assert counter == len(constraints), f\"uh oh\"\n",
    "        "
   ]
  },
  {
   "cell_type": "code",
   "execution_count": 49,
   "metadata": {},
   "outputs": [],
   "source": [
    "def print_hybrid_atoms(htf):\n",
    "    hybrid_sys = htf._hybrid_system\n",
    "    hybr_to_old = htf._hybrid_to_old_map\n",
    "    hybr_to_new = htf._hybrid_to_new_map\n",
    "    old_top, new_top = htf._topology_proposal._old_topology,  htf._topology_proposal._new_topology\n",
    "    old_top_dict = {atom.index: (atom.residue.name, atom.name) for atom in old_top.atoms()}\n",
    "    new_top_dict = {atom.index: (atom.residue.name, atom.name) for atom in new_top.atoms()}\n",
    "    for particle_idx in range(hybrid_sys.getNumParticles()):\n",
    "        print(f\"hybrid_index: {particle_idx}\")\n",
    "        print(f\"hybrid mass: {hybrid_sys.getParticleMass(particle_idx)}\")\n",
    "        new, old = False, False\n",
    "        try:\n",
    "            new_atom = new_top_dict[hybr_to_new[particle_idx]]\n",
    "            print(f\"\\tnew atom map: {new_atom}\")\n",
    "            new = True\n",
    "        except:\n",
    "            pass\n",
    "        \n",
    "        try: \n",
    "            old_atom = old_top_dict[hybr_to_old[particle_idx]]\n",
    "            print(f\"\\told atom map: {old_atom}\")\n",
    "            old = True\n",
    "        except: \n",
    "            pass\n",
    "        \n",
    "        if old and new:\n",
    "            print(f\"\\tcore atom\")\n",
    "        elif old and not new:\n",
    "            print(f\"\\told atom\")\n",
    "        elif not old and new:\n",
    "            print(f\"\\tnew atom\")\n",
    "        else:\n",
    "            print(f\"\\tthis atom is undefined\")\n",
    "        print()"
   ]
  },
  {
   "cell_type": "code",
   "execution_count": null,
   "metadata": {},
   "outputs": [],
   "source": []
  },
  {
   "cell_type": "code",
   "execution_count": 66,
   "metadata": {},
   "outputs": [],
   "source": [
    "with open('ALA_SER.vacuum.default_map.pkl', 'rb') as f:\n",
    "    ALA_SER = pickle.load(f)\n",
    "# query_constraints(ala_ser)"
   ]
  },
  {
   "cell_type": "code",
   "execution_count": 67,
   "metadata": {},
   "outputs": [],
   "source": [
    "with open('CYS_SER.vacuum.default_map.pkl', 'rb') as f:\n",
    "    CYS_SER = pickle.load(f)\n",
    "# query_constraints(CYS_SER)"
   ]
  },
  {
   "cell_type": "markdown",
   "metadata": {},
   "source": [
    "so what is wrong with this?; can we also query the hybrid system?\n"
   ]
  },
  {
   "cell_type": "code",
   "execution_count": 68,
   "metadata": {},
   "outputs": [],
   "source": [
    "# print_hybrid_atoms(CYS_SER)"
   ]
  },
  {
   "cell_type": "markdown",
   "metadata": {},
   "source": [
    "let's make state xmls"
   ]
  },
  {
   "cell_type": "code",
   "execution_count": 78,
   "metadata": {},
   "outputs": [],
   "source": [
    "from simtk import openmm\n",
    "from openmmtools import integrators\n",
    "import simtk.openmm as openmm\n",
    "from openmmtools.constants import kB\n",
    "import simtk.unit as unit\n",
    "temperature = 300 * unit.kelvin\n",
    "kT = kB * temperature\n",
    "beta = 1.0/kT\n",
    "from openmmtools.states import ThermodynamicState, SamplerState, CompoundThermodynamicState\n",
    "from openmmtools import mcmc, utils\n",
    "import openmmtools.cache as cache\n",
    "from perses.dispersed.utils import configure_platform\n",
    "import openmmtools.integrators as integrators\n",
    "from openmmtools import mcmc, utils\n",
    "import numpy as np"
   ]
  },
  {
   "cell_type": "code",
   "execution_count": 79,
   "metadata": {},
   "outputs": [],
   "source": [
    "def create_langevin_integrator(system, positions, constraint_tol):\n",
    "    \"\"\"\n",
    "    create lambda alchemical states, thermodynamic states, sampler states, integrator, and return context, thermostate, sampler_state, integrator\n",
    "    \"\"\"\n",
    "\n",
    "        \n",
    "    fast_thermodynamic_state = ThermodynamicState(system, temperature = temperature)\n",
    "    \n",
    "    fast_sampler_state = SamplerState(positions = positions, box_vectors = system.getDefaultPeriodicBoxVectors())\\\n",
    "    \n",
    "    integrator_1 = integrators.LangevinIntegrator(temperature = temperature,\n",
    "                                                     timestep = 4.0* unit.femtoseconds,\n",
    "                                                     splitting = 'V R O R V',\n",
    "                                                     measure_shadow_work = False,\n",
    "                                                     measure_heat = False,\n",
    "                                                     constraint_tolerance = constraint_tol,\n",
    "                                                     collision_rate = 5.0 / unit.picoseconds)\n",
    "\n",
    "    \n",
    "    \n",
    "    #print(integrator_1.getConstraintTolerance())\n",
    "    \n",
    "    fast_context, fast_integrator = cache.global_context_cache.get_context(fast_thermodynamic_state, integrator_1)\n",
    "    \n",
    "    \n",
    "    fast_sampler_state.apply_to_context(fast_context)\n",
    "    \n",
    "    return fast_context, fast_thermodynamic_state, fast_sampler_state, fast_integrator\n",
    "\n",
    "def time_lan_integrator(integrator, num_steps = 10):\n",
    "    import time\n",
    "    _time = []\n",
    "    integrator.step(1)\n",
    "    #move.apply(thermostate, sstate)\n",
    "    for i in range(num_steps):\n",
    "        start = time.time()\n",
    "        integrator.step(1)\n",
    "        #move.apply(thermostate, sstate)\n",
    "        end = time.time() - start\n",
    "        _time.append(end)\n",
    "    return np.array(_time)"
   ]
  },
  {
   "cell_type": "code",
   "execution_count": 80,
   "metadata": {},
   "outputs": [],
   "source": [
    "ALA_SER_context, ALA_SER_thermodynamic_state, ALA_SER_sampler_state, ALA_SER_integrator = create_langevin_integrator(ALA_SER._hybrid_system, ALA_SER._hybrid_positions, 1e-6)\n",
    "CYS_SER_context, CYS_SER_thermodynamic_state, CYS_SER_sampler_state, CYS_SER_integrator = create_langevin_integrator(CYS_SER._hybrid_system, CYS_SER._hybrid_positions, 1e-6)"
   ]
  },
  {
   "cell_type": "code",
   "execution_count": 81,
   "metadata": {},
   "outputs": [],
   "source": [
    "ALA_SER_times, CYS_SER_times = time_lan_integrator(ALA_SER_integrator, num_steps = 1000), time_lan_integrator(CYS_SER_integrator, num_steps = 1000)"
   ]
  },
  {
   "cell_type": "code",
   "execution_count": 82,
   "metadata": {},
   "outputs": [
    {
     "name": "stdout",
     "output_type": "stream",
     "text": [
      "0.00014635396003723143 7.105878840096788e-05\n",
      "0.0011705479621887207 9.68201099944579e-05\n"
     ]
    }
   ],
   "source": [
    "print(np.average(ALA_SER_times), np.std(ALA_SER_times))\n",
    "print(np.average(CYS_SER_times), np.std(CYS_SER_times))"
   ]
  },
  {
   "cell_type": "markdown",
   "metadata": {},
   "source": [
    "wow, so theres a 10x difference in speed...why this?\n"
   ]
  },
  {
   "cell_type": "code",
   "execution_count": 98,
   "metadata": {},
   "outputs": [],
   "source": [
    "ALA_SER_state = ALA_SER_context.getState(getEnergy=True, \n",
    "                                         getForces=True, \n",
    "                                         getPositions=True,\n",
    "                                         getVelocities=True)\n",
    "CYS_SER_state = CYS_SER_context.getState(getEnergy=True, \n",
    "                                         getForces=True, \n",
    "                                         getPositions=True,\n",
    "                                         getVelocities=True)"
   ]
  },
  {
   "cell_type": "code",
   "execution_count": 100,
   "metadata": {},
   "outputs": [],
   "source": [
    "filenames = ['ALA_SER.vacuum.default_map.state.xml', 'CYS_SER.vacuum.default_map.state.xml']\n",
    "for filename, _state in zip(filenames, [ALA_SER_state, CYS_SER_state]):\n",
    "    with open(filename, 'w') as f:\n",
    "        f.write(openmm.openmm.XmlSerializer.serialize(_state))"
   ]
  },
  {
   "cell_type": "markdown",
   "metadata": {},
   "source": [
    "just for good measure, what happens if we make deepcopies of the htf.hybrid systems, remove the constraints, and run again?"
   ]
  },
  {
   "cell_type": "code",
   "execution_count": 103,
   "metadata": {},
   "outputs": [],
   "source": [
    "import copy"
   ]
  },
  {
   "cell_type": "code",
   "execution_count": 106,
   "metadata": {},
   "outputs": [],
   "source": [
    "mod_system = copy.deepcopy(CYS_SER._hybrid_system)\n",
    "mod_htf = copy.deepcopy(CYS_SER)"
   ]
  },
  {
   "cell_type": "code",
   "execution_count": 107,
   "metadata": {},
   "outputs": [
    {
     "name": "stdout",
     "output_type": "stream",
     "text": [
      "hybrid indices: 1, 2\n",
      "\t ('ACE', 'CH3') ('ACE', 'H2') 0.10900000000000001 nm\n",
      "\t ('ACE', 'CH3') ('ACE', 'H2') 0.10900000000000001 nm\n",
      "\tthis is core\n",
      "hybrid indices: 1, 3\n",
      "\t ('ACE', 'CH3') ('ACE', 'H3') 0.10900000000000001 nm\n",
      "\t ('ACE', 'CH3') ('ACE', 'H3') 0.10900000000000001 nm\n",
      "\tthis is core\n",
      "hybrid indices: 0, 1\n",
      "\t ('ACE', 'H1') ('ACE', 'CH3') 0.10900000000000001 nm\n",
      "\t ('ACE', 'H1') ('ACE', 'CH3') 0.10900000000000001 nm\n",
      "\tthis is core\n",
      "hybrid indices: 10, 11\n",
      "\t ('CYS', 'CB') ('CYS', 'HB2') 0.10900000000000001 nm\n",
      "\t ('SER', 'CB') ('SER', 'HB2') 0.10900000000000001 nm\n",
      "\tthis is core\n",
      "hybrid indices: 10, 12\n",
      "\t ('CYS', 'CB') ('CYS', 'HB3') 0.10900000000000001 nm\n",
      "\t ('SER', 'CB') ('SER', 'HB3') 0.10900000000000001 nm\n",
      "\tthis is core\n",
      "hybrid indices: 8, 9\n",
      "\t ('CYS', 'CA') ('CYS', 'HA') 0.10900000000000001 nm\n",
      "\t ('SER', 'CA') ('SER', 'HA') 0.10900000000000001 nm\n",
      "\tthis is core\n",
      "hybrid indices: 6, 7\n",
      "\t ('CYS', 'N') ('CYS', 'H') 0.101 nm\n",
      "\t ('SER', 'N') ('SER', 'H') 0.101 nm\n",
      "\tthis is core\n",
      "hybrid indices: 19, 20\n",
      "\t ('NME', 'C') ('NME', 'H1') 0.10900000000000001 nm\n",
      "\t ('NME', 'C') ('NME', 'H1') 0.10900000000000001 nm\n",
      "\tthis is core\n",
      "hybrid indices: 19, 21\n",
      "\t ('NME', 'C') ('NME', 'H2') 0.10900000000000001 nm\n",
      "\t ('NME', 'C') ('NME', 'H2') 0.10900000000000001 nm\n",
      "\tthis is core\n",
      "hybrid indices: 19, 22\n",
      "\t ('NME', 'C') ('NME', 'H3') 0.10900000000000001 nm\n",
      "\t ('NME', 'C') ('NME', 'H3') 0.10900000000000001 nm\n",
      "\tthis is core\n",
      "hybrid indices: 17, 18\n",
      "\t ('NME', 'N') ('NME', 'H') 0.101 nm\n",
      "\t ('NME', 'N') ('NME', 'H') 0.101 nm\n",
      "\tthis is core\n",
      "hybrid indices: 15, 16\n",
      "\t ('CYS', 'HG') ('CYS', 'SG') 0.13360000000000002 nm\n",
      "\tthis is old\n",
      "hybrid indices: 16, 23\n",
      "\t ('SER', 'OG') ('SER', 'HG') 0.096 nm\n",
      "\tthis is new\n"
     ]
    }
   ],
   "source": [
    "query_constraints(mod_htf)"
   ]
  },
  {
   "cell_type": "code",
   "execution_count": 111,
   "metadata": {},
   "outputs": [],
   "source": [
    "#let's just delete the last constraint\n",
    "num_const = mod_system.getNumConstraints()\n",
    "mod_system.removeConstraint(num_const - 1)"
   ]
  },
  {
   "cell_type": "code",
   "execution_count": 112,
   "metadata": {},
   "outputs": [
    {
     "name": "stdout",
     "output_type": "stream",
     "text": [
      "0.00014635396003723143 7.105878840096788e-05\n",
      "0.0011705479621887207 9.68201099944579e-05\n"
     ]
    }
   ],
   "source": [
    "CYS_SER_mod_context, CYS_SER_mod_thermodynamic_state, CYS_SER_mod_sampler_state, CYS_SER_mod_integrator = create_langevin_integrator(mod_system, CYS_SER._hybrid_positions, 1e-6)\n",
    "CYS_SER_mod_times = time_lan_integrator(CYS_SER_mod_integrator, num_steps = 1000)"
   ]
  },
  {
   "cell_type": "code",
   "execution_count": 113,
   "metadata": {},
   "outputs": [
    {
     "name": "stdout",
     "output_type": "stream",
     "text": [
      "0.0011705479621887207 9.68201099944579e-05\n",
      "0.0001483888626098633 1.8224538176429243e-05\n"
     ]
    }
   ],
   "source": [
    "print(np.average(CYS_SER_times), np.std(CYS_SER_times))\n",
    "print(np.average(CYS_SER_mod_times), np.std(CYS_SER_mod_times))"
   ]
  },
  {
   "cell_type": "markdown",
   "metadata": {},
   "source": [
    "so, if we delete the new constraint between the hybrid OG/SG and the unique new HG, then we recover speed...why is this?"
   ]
  },
  {
   "cell_type": "code",
   "execution_count": null,
   "metadata": {},
   "outputs": [],
   "source": []
  }
 ],
 "metadata": {
  "kernelspec": {
   "display_name": "Python 3",
   "language": "python",
   "name": "python3"
  },
  "language_info": {
   "codemirror_mode": {
    "name": "ipython",
    "version": 3
   },
   "file_extension": ".py",
   "mimetype": "text/x-python",
   "name": "python",
   "nbconvert_exporter": "python",
   "pygments_lexer": "ipython3",
   "version": "3.6.8"
  }
 },
 "nbformat": 4,
 "nbformat_minor": 4
}
