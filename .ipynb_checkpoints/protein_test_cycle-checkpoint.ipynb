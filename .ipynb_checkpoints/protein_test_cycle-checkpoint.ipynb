{
 "cells": [
  {
   "cell_type": "markdown",
   "metadata": {},
   "source": [
    "# Here, I document an attempt to validate a small set of protein mutations in vacuum and solvent with the following checks..."
   ]
  },
  {
   "cell_type": "markdown",
   "metadata": {},
   "source": [
    "1. generate alanine dipeptide --> valine dipeptide in vac/solvent and conduct a forward _and_ reverse parallel tempering FEP calculation; the check passes if the forward free energy is equal to the reverse free energy within an error tolerance\n",
    "2. generate alanine dipeptide --> valine dipeptide --> isoleucine dipeptide --> glycine dipeptide and attempt to close the thermodynamic cycle within an error tolerance"
   ]
  },
  {
   "cell_type": "code",
   "execution_count": 1,
   "metadata": {},
   "outputs": [
    {
     "name": "stderr",
     "output_type": "stream",
     "text": [
      "/home/rufad/miniconda3/envs/openmm/lib/python3.6/site-packages/perses-0.4.0-py3.6.egg/perses/rjmc/coordinate_numba.py:14: NumbaPerformanceWarning: np.dot() is faster on contiguous arrays, called on (array(float64, 1d, A), array(float64, 1d, A))\n",
      "  n_2 = np.dot(a, a)\n",
      "/home/rufad/miniconda3/envs/openmm/lib/python3.6/site-packages/perses-0.4.0-py3.6.egg/perses/rjmc/coordinate_numba.py:65: NumbaPerformanceWarning: np.dot() is faster on contiguous arrays, called on (array(float64, 2d, A), array(float64, 1d, C))\n",
      "  d_ang = np.dot(angle_rotation_matrix, d_r)\n",
      "/home/rufad/miniconda3/envs/openmm/lib/python3.6/site-packages/perses-0.4.0-py3.6.egg/perses/rjmc/coordinate_numba.py:71: NumbaPerformanceWarning: np.dot() is faster on contiguous arrays, called on (array(float64, 2d, A), array(float64, 1d, C))\n",
      "  d_torsion = np.dot(torsion_rotation_matrix, d_ang)\n",
      "/home/rufad/miniconda3/envs/openmm/lib/python3.6/site-packages/perses-0.4.0-py3.6.egg/perses/rjmc/coordinate_numba.py:129: NumbaPerformanceWarning: np.dot() is faster on contiguous arrays, called on (array(float64, 1d, A), array(float64, 1d, A))\n",
      "  cos_phi = np.dot(plane1, plane2) / (_norm(plane1)*_norm(plane2))\n",
      "/home/rufad/miniconda3/envs/openmm/lib/python3.6/site-packages/perses-0.4.0-py3.6.egg/perses/rjmc/coordinate_numba.py:137: NumbaPerformanceWarning: np.dot() is faster on contiguous arrays, called on (array(float64, 1d, C), array(float64, 1d, A))\n",
      "  if np.dot(a, plane2) <= 0:\n"
     ]
    }
   ],
   "source": [
    "from __future__ import absolute_import\n",
    "\n",
    "import networkx as nx\n",
    "from perses.dispersed import feptasks\n",
    "from perses.utils.openeye import *\n",
    "from perses.utils.data import load_smi\n",
    "from perses.annihilation.relative import HybridTopologyFactory\n",
    "from perses.annihilation.lambda_protocol import RelativeAlchemicalState, LambdaProtocol\n",
    "from perses.rjmc.topology_proposal import TopologyProposal, TwoMoleculeSetProposalEngine, SystemGenerator,SmallMoleculeSetProposalEngine, PointMutationEngine\n",
    "from perses.rjmc.geometry import FFAllAngleGeometryEngine\n",
    "import simtk.openmm.app as app\n",
    "\n",
    "from openmmtools.states import ThermodynamicState, CompoundThermodynamicState, SamplerState\n",
    "\n",
    "import pymbar\n",
    "import simtk.openmm as openmm\n",
    "import simtk.openmm.app as app\n",
    "import simtk.unit as unit\n",
    "import numpy as np\n",
    "from openmoltools import forcefield_generators\n",
    "import copy\n",
    "import pickle\n",
    "import mdtraj as md\n",
    "from io import StringIO\n",
    "from openmmtools.constants import kB\n",
    "import logging\n",
    "import os\n",
    "import dask.distributed as distributed\n",
    "import parmed as pm\n",
    "from collections import namedtuple\n",
    "from typing import List, Tuple, Union, NamedTuple\n",
    "from collections import namedtuple\n",
    "import random\n",
    "#beta = 1.0/(kB*temperature)\n",
    "import itertools\n",
    "import os\n",
    "from openeye import oechem\n",
    "from perses.utils.smallmolecules import render_atom_mapping\n",
    "from perses.tests.utils import validate_endstate_energies\n",
    "\n",
    "ENERGY_THRESHOLD = 1e-6\n",
    "temperature = 300 * unit.kelvin\n",
    "kT = kB * temperature\n",
    "beta = 1.0/kT"
   ]
  },
  {
   "cell_type": "code",
   "execution_count": 2,
   "metadata": {},
   "outputs": [
    {
     "name": "stdout",
     "output_type": "stream",
     "text": [
      "Desired platform not supported. exception raised: Error initializing CUDA: CUDA_ERROR_NO_DEVICE (100) at /opt/conda/conda-bld/openmm_1562570908046/work/platforms/cuda/src/CudaContext.cpp:148\n",
      "Warning: Returning CPU platform instead of requested platform CUDA\n",
      "conducting subsequent work with the following platform: CPU\n",
      "Desired platform not supported. exception raised: Error initializing CUDA: CUDA_ERROR_NO_DEVICE (100) at /opt/conda/conda-bld/openmm_1562570908046/work/platforms/cuda/src/CudaContext.cpp:148\n",
      "Warning: Returning CPU platform instead of requested platform CUDA\n",
      "conducting subsequent work with the following platform: CPU\n",
      "Desired platform not supported. exception raised: Error initializing CUDA: CUDA_ERROR_NO_DEVICE (100) at /opt/conda/conda-bld/openmm_1562570908046/work/platforms/cuda/src/CudaContext.cpp:148\n",
      "Warning: Returning CPU platform instead of requested platform CUDA\n",
      "conducting subsequent work with the following platform: CPU\n"
     ]
    }
   ],
   "source": [
    "from perses.samplers.multistate import HybridSAMSSampler, HybridRepexSampler\n",
    "from openmmtools.multistate import MultiStateReporter, MultiStateSamplerAnalyzer\n",
    "from openmmtools import mcmc, utils\n",
    "from perses.annihilation.lambda_protocol import LambdaProtocol"
   ]
  },
  {
   "cell_type": "code",
   "execution_count": 3,
   "metadata": {},
   "outputs": [],
   "source": [
    "def generate_atp(phase = 'vacuum'):\n",
    "    \"\"\"\n",
    "    modify the AlanineDipeptideVacuum test system to be parametrized with amber14ffsb in vac or solvent (tip3p)\n",
    "    \"\"\"\n",
    "    import openmmtools.testsystems as ts\n",
    "    atp = ts.AlanineDipeptideVacuum(constraints = app.HBonds, hydrogenMass = 4 * unit.amus)\n",
    "\n",
    "    forcefield_files = ['gaff.xml', 'amber14/protein.ff14SB.xml', 'amber14/tip3p.xml']\n",
    "    \n",
    "    if phase == 'vacuum':\n",
    "        barostat = None\n",
    "        system_generator = SystemGenerator(forcefield_files,\n",
    "                                       barostat = barostat,\n",
    "                                       forcefield_kwargs = {'removeCMMotion': False, \n",
    "                                                            'ewaldErrorTolerance': 1e-4, \n",
    "                                                            'nonbondedMethod': app.NoCutoff,\n",
    "                                                            'constraints' : app.HBonds, \n",
    "                                                            'hydrogenMass' : 4 * unit.amus})\n",
    "        atp.system = system_generator.build_system(atp.topology) #update the parametrization scheme to amberff14sb\n",
    "        \n",
    "    elif phase == 'solvent':\n",
    "        barostat = openmm.MonteCarloBarostat(1.0 * unit.atmosphere, 300 * unit.kelvin, 50)\n",
    "        system_generator = SystemGenerator(forcefield_files,\n",
    "                                   barostat = barostat,\n",
    "                                   forcefield_kwargs = {'removeCMMotion': False, \n",
    "                                                        'ewaldErrorTolerance': 1e-4, \n",
    "                                                        'nonbondedMethod': app.PME,\n",
    "                                                        'constraints' : app.HBonds, \n",
    "                                                        'hydrogenMass' : 4 * unit.amus})\n",
    "    \n",
    "    if phase == 'solvent':\n",
    "        modeller = app.Modeller(atp.topology, atp.positions)\n",
    "        modeller.addSolvent(system_generator._forcefield, model='tip3p', padding=9*unit.angstroms, ionicStrength=0.15*unit.molar)\n",
    "        solvated_topology = modeller.getTopology()\n",
    "        solvated_positions = modeller.getPositions()\n",
    "\n",
    "        # canonicalize the solvated positions: turn tuples into np.array\n",
    "        atp.positions = unit.quantity.Quantity(value = np.array([list(atom_pos) for atom_pos in solvated_positions.value_in_unit_system(unit.md_unit_system)]), unit = unit.nanometers)\n",
    "        atp.topology = solvated_topology\n",
    "\n",
    "        atp.system = system_generator.build_system(atp.topology)\n",
    "    \n",
    "    \n",
    "    return atp, system_generator"
   ]
  },
  {
   "cell_type": "code",
   "execution_count": 4,
   "metadata": {},
   "outputs": [],
   "source": [
    "def generate_top_pos_sys(topology, new_res, system, positions, system_generator):\n",
    "    \"\"\"generate point mutation engine, geometry_engine, and conduct topology proposal, geometry propsal, and hybrid factory generation\"\"\"\n",
    "    #create the point mutation engine\n",
    "    print(f\"generating point mutation engine\")\n",
    "    point_mutation_engine = PointMutationEngine(wildtype_topology = topology,\n",
    "                                                system_generator = system_generator,\n",
    "                                                chain_id = '1', #denote the chain id allowed to mutate (it's always a string variable)\n",
    "                                                max_point_mutants = 1,\n",
    "                                                residues_allowed_to_mutate = ['2'], #the residue ids allowed to mutate\n",
    "                                                allowed_mutations = [('2', new_res)], #the residue ids allowed to mutate with the three-letter code allowed to change\n",
    "                                                aggregate = True) #always allow aggregation\n",
    "\n",
    "    #create a geometry engine\n",
    "    print(f\"generating geometry engine\")\n",
    "    geometry_engine = FFAllAngleGeometryEngine(metadata=None, \n",
    "                                           use_sterics=False, \n",
    "                                           n_bond_divisions=100, \n",
    "                                           n_angle_divisions=180, \n",
    "                                           n_torsion_divisions=360, \n",
    "                                           verbose=True, \n",
    "                                           storage=None, \n",
    "                                           bond_softening_constant=1.0, \n",
    "                                           angle_softening_constant=1.0, \n",
    "                                           neglect_angles = False, \n",
    "                                           use_14_nonbondeds = False)\n",
    "\n",
    "    #create a top proposal\n",
    "    print(f\"making topology proposal\")\n",
    "    topology_proposal, local_map_stereo_sidechain, new_oemol_sidechain, old_oemol_sidechain = point_mutation_engine.propose(current_system = system,\n",
    "                                  current_topology = topology)\n",
    "\n",
    "    #make a geometry proposal forward\n",
    "    print(f\"making geometry proposal\")\n",
    "    forward_new_positions, logp_proposal = geometry_engine.propose(topology_proposal, positions, beta)\n",
    "\n",
    "\n",
    "    #create a hybrid topology factory\n",
    "    f\"making forward hybridtopologyfactory\"\n",
    "    forward_htf = HybridTopologyFactory(topology_proposal = topology_proposal,\n",
    "                 current_positions =  positions,\n",
    "                 new_positions = forward_new_positions,\n",
    "                 use_dispersion_correction = False,\n",
    "                 functions=None,\n",
    "                 softcore_alpha = None,\n",
    "                 bond_softening_constant=1.0,\n",
    "                 angle_softening_constant=1.0,\n",
    "                 soften_only_new = False,\n",
    "                 neglected_new_angle_terms = [],\n",
    "                 neglected_old_angle_terms = [],\n",
    "                 softcore_LJ_v2 = True,\n",
    "                 softcore_electrostatics = True,\n",
    "                 softcore_LJ_v2_alpha = 0.85,\n",
    "                 softcore_electrostatics_alpha = 0.3,\n",
    "                 softcore_sigma_Q = 1.0,\n",
    "                 interpolate_old_and_new_14s = False,\n",
    "                 omitted_terms = None)\n",
    "    \n",
    "    return topology_proposal, forward_new_positions, forward_htf"
   ]
  },
  {
   "cell_type": "code",
   "execution_count": 5,
   "metadata": {},
   "outputs": [],
   "source": [
    "def create_hss(reporter_name, hybrid_factory, selection_string ='all', checkpoint_interval = 1, n_states = 13):\n",
    "    lambda_protocol = LambdaProtocol(functions='default')\n",
    "    reporter = MultiStateReporter(reporter_name, analysis_particle_indices = hybrid_factory.hybrid_topology.select(selection_string), checkpoint_interval = checkpoint_interval)\n",
    "    hss = HybridRepexSampler(mcmc_moves=mcmc.LangevinSplittingDynamicsMove(timestep= 4.0 * unit.femtoseconds,\n",
    "                                                                                 collision_rate=5.0 / unit.picosecond,\n",
    "                                                                                 n_steps=250,\n",
    "                                                                                 reassign_velocities=False,\n",
    "                                                                                 n_restart_attempts=20,\n",
    "                                                                                 splitting=\"V R R R O R R R V\",\n",
    "                                                                                 constraint_tolerance=1e-06),\n",
    "                                                                                 hybrid_factory=hybrid_factory, online_analysis_interval=10)\n",
    "    hss.setup(n_states=n_states, temperature=300*unit.kelvin,storage_file=reporter,lambda_protocol=lambda_protocol,endstates=False)\n",
    "    return hss, reporter"
   ]
  },
  {
   "cell_type": "markdown",
   "metadata": {},
   "source": [
    "let's make a function to generate an n node graph and run a computation on it..."
   ]
  },
  {
   "cell_type": "code",
   "execution_count": 6,
   "metadata": {},
   "outputs": [],
   "source": [
    "def run_wrapper(system, positions, topology, system_generator, dipeptide_name, reporter_name):\n",
    "    top_prop, new_positions, htf = generate_top_pos_sys(topology, dipeptide_name, system, positions, system_generator)\n",
    "    hss, reporter = create_hss(reporter_name, htf, selection_string = 'protein', checkpoint_interval = 10, n_states = 13)\n",
    "    return htf._new_system, new_positions, top_prop._new_topology, hss\n",
    "    "
   ]
  },
  {
   "cell_type": "code",
   "execution_count": 7,
   "metadata": {},
   "outputs": [],
   "source": [
    "def generate_fully_connected_perturbation_graph(dipeptides = ['ALA', 'VAL', 'ILE', 'SER']):\n",
    "    # generate a fully connected solvation energy graph for the dipeptides specified...\n",
    "    graph = nx.DiGraph()\n",
    "    for dipeptide in dipeptides:\n",
    "        graph.add_node(dipeptide)\n",
    "    \n",
    "    #now for edges...\n",
    "    for i in graph.nodes():\n",
    "        for j in graph.nodes():\n",
    "            if i != j and (j, i) not in list(graph.edges()):\n",
    "                graph.add_edge(i, j)\n",
    "    \n",
    "    print(f\"graph nodes: {graph.nodes()}\")\n",
    "    print(f\"graph edgges: {graph.edges()}\")\n",
    "    \n",
    "    #start with ala\n",
    "    vac_atp, vac_system_generator = generate_atp(phase = 'vacuum')\n",
    "    sol_atp, sol_system_generator = generate_atp(phase = 'solvent')\n",
    "    \n",
    "    graph.nodes['ALA']['vac_sys_pos_top'] = (vac_atp.system, vac_atp.positions, vac_atp.topology)\n",
    "    graph.nodes['ALA']['sol_sys_pos_top'] = (sol_atp.system, sol_atp.positions, sol_atp.topology)\n",
    "    \n",
    "    #turn ala into all of the other dipeptides\n",
    "    for dipeptide in [pep for pep in dipeptides if pep != 'ALA']:\n",
    "        for phase, testcase, sys_gen in zip(['vac', 'sol'], [vac_atp, sol_atp], [vac_system_generator, sol_system_generator]):\n",
    "            new_sys, new_pos, new_top, hss = run_wrapper(testcase.system, testcase.positions, testcase.topology, sys_gen, dipeptide, f\"ALA_{dipeptide}.{phase}.nc\")\n",
    "            graph.edges['ALA', dipeptide][f\"{phase}_hss\"] = hss\n",
    "            graph.nodes[dipeptide][f\"{phase}_sys_pos_top\"] = (new_sys, new_pos, new_top)\n",
    "\n",
    "        \n",
    "        \n",
    "    #now we can turn all of the other states in to each other!!!\n",
    "    for edge_start, edge_end in list(graph.edges()):\n",
    "        if edge_start == 'ALA': #we already did ALA\n",
    "            continue\n",
    "        \n",
    "        for phase, sys_gen in zip(['vac', 'sol'], [vac_system_generator, sol_system_generator]):\n",
    "            sys, pos, top = graph.nodes[edge_start][f\"{phase}_sys_pos_top\"]\n",
    "            \n",
    "            new_sys, new_pos, new_top, hss = run_wrapper(sys, pos, top, sys_gen, edge_end, f\"{edge_start}_{edge_end}.{phase}.nc\")\n",
    "            graph.edges[edge_start, edge_end][f\"{phase}_hss\"] = hss\n",
    "            graph.nodes[edge_end][f\"{phase}_sys_pos_top\"] = (new_sys, new_pos, new_top)\n",
    "    \n",
    "    return graph\n",
    "        "
   ]
  },
  {
   "cell_type": "code",
   "execution_count": null,
   "metadata": {},
   "outputs": [],
   "source": []
  },
  {
   "cell_type": "code",
   "execution_count": null,
   "metadata": {},
   "outputs": [
    {
     "name": "stdout",
     "output_type": "stream",
     "text": [
      "graph nodes: ['ALA', 'VAL', 'ILE', 'SER']\n",
      "graph edgges: [('ALA', 'VAL'), ('ALA', 'ILE'), ('ALA', 'SER'), ('VAL', 'ILE'), ('VAL', 'SER'), ('ILE', 'SER')]\n",
      "generating point mutation engine\n",
      "generating geometry engine\n",
      "making topology proposal\n",
      "making geometry proposal\n"
     ]
    },
    {
     "name": "stderr",
     "output_type": "stream",
     "text": [
      "/home/rufad/miniconda3/envs/openmm/lib/python3.6/site-packages/openmmtools-0.18.3+0.g6cf88cc.dirty-py3.6-linux-x86_64.egg/openmmtools/multistate/multistatereporter.py:116: UserWarning: Warning: The openmmtools.multistate API is experimental and may change in future releases\n",
      "  warnings.warn('Warning: The openmmtools.multistate API is experimental and may change in future releases')\n",
      "DEBUG:openmmtools.multistate.multistatereporter:Initial checkpoint file automatically chosen as ALA_VAL.vac_checkpoint.nc\n",
      "/home/rufad/miniconda3/envs/openmm/lib/python3.6/site-packages/openmmtools-0.18.3+0.g6cf88cc.dirty-py3.6-linux-x86_64.egg/openmmtools/multistate/multistatesampler.py:145: UserWarning: Warning: The openmmtools.multistate API is experimental and may change in future releases\n",
      "  warnings.warn('Warning: The openmmtools.multistate API is experimental and may change in future releases')\n",
      "INFO:perses.samplers.multistate:n_replicas not defined, setting to match n_states, 13\n",
      "DEBUG:mpiplus.mpiplus:Cannot find MPI environment. MPI disabled.\n",
      "DEBUG:mpiplus.mpiplus:Single node: executing <bound method MultiStateReporter.storage_exists of <openmmtools.multistate.multistatereporter.MultiStateReporter object at 0x7f678e02b6a0>>\n",
      "DEBUG:mpiplus.mpiplus:Single node: executing <function ReplicaExchangeSampler._display_citations at 0x7f679eaac620>\n",
      "DEBUG:mpiplus.mpiplus:Single node: executing <function MultiStateSampler._display_citations at 0x7f679eb5e840>\n",
      "DEBUG:mpiplus.mpiplus:Single node: executing <function MultiStateSampler._initialize_reporter at 0x7f679eb5eae8>\n",
      "DEBUG:openmmtools.multistate.multistatereporter:Serialized state thermodynamic_states/0 is  6463B | 6.312KB | 0.006MB\n",
      "DEBUG:openmmtools.utils:Storing thermodynamic states took    0.049s\n",
      "DEBUG:openmmtools.multistate.multistatesampler:Storing general ReplicaExchange options...\n",
      "DEBUG:mpiplus.mpiplus:Single node: executing <function MultiStateSampler._report_iteration at 0x7f679eb5ebf8>\n",
      "DEBUG:mpiplus.mpiplus:Single node: executing <function MultiStateSampler._report_iteration_items at 0x7f679eb5eea0>\n",
      "DEBUG:openmmtools.utils:Storing sampler states took    0.012s\n",
      "DEBUG:openmmtools.utils:Writing iteration information to storage took    0.053s\n"
     ]
    },
    {
     "name": "stdout",
     "output_type": "stream",
     "text": [
      "Please cite the following:\n",
      "\n",
      "        Friedrichs MS, Eastman P, Vaidyanathan V, Houston M, LeGrand S, Beberg AL, Ensign DL, Bruns CM, and Pande VS. Accelerating molecular dynamic simulations on graphics processing unit. J. Comput. Chem. 30:864, 2009. DOI: 10.1002/jcc.21209\n",
      "        Eastman P and Pande VS. OpenMM: A hardware-independent framework for molecular simulations. Comput. Sci. Eng. 12:34, 2010. DOI: 10.1109/MCSE.2010.27\n",
      "        Eastman P and Pande VS. Efficient nonbonded interactions for molecular dynamics on a graphics processing unit. J. Comput. Chem. 31:1268, 2010. DOI: 10.1002/jcc.21413\n",
      "        Eastman P and Pande VS. Constant constraint matrix approximation: A robust, parallelizable constraint method for molecular simulations. J. Chem. Theor. Comput. 6:434, 2010. DOI: 10.1021/ct900463w\n",
      "        Chodera JD and Shirts MR. Replica exchange and expanded ensemble simulations as Gibbs multistate: Simple improvements for enhanced mixing. J. Chem. Phys., 135:194110, 2011. DOI:10.1063/1.3660669\n",
      "        \n",
      "generating point mutation engine\n",
      "generating geometry engine\n",
      "making topology proposal\n",
      "making geometry proposal\n"
     ]
    },
    {
     "name": "stderr",
     "output_type": "stream",
     "text": [
      "DEBUG:openmmtools.multistate.multistatereporter:Initial checkpoint file automatically chosen as ALA_VAL.sol_checkpoint.nc\n",
      "INFO:perses.samplers.multistate:n_replicas not defined, setting to match n_states, 13\n"
     ]
    }
   ],
   "source": [
    "graph = generate_fully_connected_perturbation_graph()\n",
    "import pickle\n",
    "print(graph.nodes())\n",
    "print()\n",
    "print(graph.edges())\n",
    "for edge in graph.edges():\n",
    "    for phase in ['vac', 'sol']:\n",
    "        try:\n",
    "            with open(f\"{edge[0]}_to_{edge[1]}.{phase}.hss.nc\") as f:\n",
    "                print(f\"writing pickle!!!\")\n",
    "                pickle.dump(graph.edges[edge][f\"{phase}_hss\"], f)\n",
    "            #graph.edges[edge][f\"{phase}_hss\"].extend(5000)\n",
    "        except Exception as e:\n",
    "            print(e)\n",
    "            "
   ]
  },
  {
   "cell_type": "code",
   "execution_count": null,
   "metadata": {},
   "outputs": [],
   "source": []
  }
 ],
 "metadata": {
  "kernelspec": {
   "display_name": "Python 3",
   "language": "python",
   "name": "python3"
  },
  "language_info": {
   "codemirror_mode": {
    "name": "ipython",
    "version": 3
   },
   "file_extension": ".py",
   "mimetype": "text/x-python",
   "name": "python",
   "nbconvert_exporter": "python",
   "pygments_lexer": "ipython3",
   "version": "3.6.8"
  }
 },
 "nbformat": 4,
 "nbformat_minor": 4
}
