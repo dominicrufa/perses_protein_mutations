{
 "cells": [
  {
   "cell_type": "markdown",
   "metadata": {},
   "source": [
    "# Here, I document an attempt to validate a small set of protein mutations in vacuum and solvent with the following checks..."
   ]
  },
  {
   "cell_type": "markdown",
   "metadata": {},
   "source": [
    "1. generate alanine dipeptide --> valine dipeptide in vac/solvent and conduct a forward _and_ reverse parallel tempering FEP calculation; the check passes if the forward free energy is equal to the reverse free energy within an error tolerance\n",
    "2. generate alanine dipeptide --> valine dipeptide --> isoleucine dipeptide --> glycine dipeptide and attempt to close the thermodynamic cycle within an error tolerance"
   ]
  },
  {
   "cell_type": "code",
   "execution_count": 1,
   "metadata": {},
   "outputs": [
    {
     "name": "stderr",
     "output_type": "stream",
     "text": [
      "/home/dominic/anaconda3/envs/openmm/lib/python3.6/site-packages/perses-0.4.0-py3.6.egg/perses/rjmc/coordinate_numba.py:14: NumbaPerformanceWarning: np.dot() is faster on contiguous arrays, called on (array(float64, 1d, A), array(float64, 1d, A))\n",
      "  n_2 = np.dot(a, a)\n",
      "/home/dominic/anaconda3/envs/openmm/lib/python3.6/site-packages/perses-0.4.0-py3.6.egg/perses/rjmc/coordinate_numba.py:65: NumbaPerformanceWarning: np.dot() is faster on contiguous arrays, called on (array(float64, 2d, A), array(float64, 1d, C))\n",
      "  d_ang = np.dot(angle_rotation_matrix, d_r)\n",
      "/home/dominic/anaconda3/envs/openmm/lib/python3.6/site-packages/perses-0.4.0-py3.6.egg/perses/rjmc/coordinate_numba.py:71: NumbaPerformanceWarning: np.dot() is faster on contiguous arrays, called on (array(float64, 2d, A), array(float64, 1d, C))\n",
      "  d_torsion = np.dot(torsion_rotation_matrix, d_ang)\n",
      "/home/dominic/anaconda3/envs/openmm/lib/python3.6/site-packages/perses-0.4.0-py3.6.egg/perses/rjmc/coordinate_numba.py:129: NumbaPerformanceWarning: np.dot() is faster on contiguous arrays, called on (array(float64, 1d, A), array(float64, 1d, A))\n",
      "  cos_phi = np.dot(plane1, plane2) / (_norm(plane1)*_norm(plane2))\n",
      "/home/dominic/anaconda3/envs/openmm/lib/python3.6/site-packages/perses-0.4.0-py3.6.egg/perses/rjmc/coordinate_numba.py:137: NumbaPerformanceWarning: np.dot() is faster on contiguous arrays, called on (array(float64, 1d, C), array(float64, 1d, A))\n",
      "  if np.dot(a, plane2) <= 0:\n"
     ]
    }
   ],
   "source": [
    "from __future__ import absolute_import\n",
    "\n",
    "from perses.dispersed import feptasks\n",
    "from perses.utils.openeye import *\n",
    "from perses.utils.data import load_smi\n",
    "from perses.annihilation.relative import HybridTopologyFactory\n",
    "from perses.annihilation.lambda_protocol import RelativeAlchemicalState, LambdaProtocol\n",
    "from perses.rjmc.topology_proposal import TopologyProposal, TwoMoleculeSetProposalEngine, SystemGenerator,SmallMoleculeSetProposalEngine, PointMutationEngine\n",
    "from perses.rjmc.geometry import FFAllAngleGeometryEngine\n",
    "import simtk.openmm.app as app\n",
    "\n",
    "from openmmtools.states import ThermodynamicState, CompoundThermodynamicState, SamplerState\n",
    "\n",
    "import pymbar\n",
    "import simtk.openmm as openmm\n",
    "import simtk.openmm.app as app\n",
    "import simtk.unit as unit\n",
    "import numpy as np\n",
    "from openmoltools import forcefield_generators\n",
    "import copy\n",
    "import pickle\n",
    "import mdtraj as md\n",
    "from io import StringIO\n",
    "from openmmtools.constants import kB\n",
    "import logging\n",
    "import os\n",
    "import dask.distributed as distributed\n",
    "import parmed as pm\n",
    "from collections import namedtuple\n",
    "from typing import List, Tuple, Union, NamedTuple\n",
    "from collections import namedtuple\n",
    "import random\n",
    "#beta = 1.0/(kB*temperature)\n",
    "import itertools\n",
    "import os\n",
    "from openeye import oechem\n",
    "from perses.utils.smallmolecules import render_atom_mapping\n",
    "from perses.tests.utils import validate_endstate_energies\n",
    "\n",
    "ENERGY_THRESHOLD = 1e-6\n",
    "temperature = 300 * unit.kelvin\n",
    "kT = kB * temperature\n",
    "beta = 1.0/kT"
   ]
  },
  {
   "cell_type": "markdown",
   "metadata": {},
   "source": [
    "## First, we have to update alanine dipeptide test system with a system generator and amber14ffsb"
   ]
  },
  {
   "cell_type": "code",
   "execution_count": 2,
   "metadata": {},
   "outputs": [
    {
     "name": "stdout",
     "output_type": "stream",
     "text": [
      "1\n",
      "ACE 1 0\n",
      "H1 0 1\n",
      "CH3 1 2\n",
      "H2 2 3\n",
      "H3 3 4\n",
      "C 4 5\n",
      "O 5 6\n",
      "\n",
      "ALA 2 1\n",
      "N 6 7\n",
      "H 7 8\n",
      "CA 8 9\n",
      "HA 9 10\n",
      "CB 10 11\n",
      "HB1 11 12\n",
      "HB2 12 13\n",
      "HB3 13 14\n",
      "C 14 15\n",
      "O 15 16\n",
      "\n",
      "NME 3 2\n",
      "N 16 17\n",
      "H 17 18\n",
      "C 18 19\n",
      "H1 19 20\n",
      "H2 20 21\n",
      "H3 21 22\n",
      "\n"
     ]
    }
   ],
   "source": [
    "import openmmtools.testsystems as ts\n",
    "atp = ts.AlanineDipeptideVacuum(constraints = app.HBonds, hydrogenMass = 4 * unit.amus)\n",
    "for chain in atp.topology.chains():\n",
    "    print(chain.id)\n",
    "    for res in chain.residues():\n",
    "        print(res.name, res.id, res.index)\n",
    "        for atom in res.atoms():\n",
    "            print(atom.name, atom.index, atom.id)\n",
    "        print()\n",
    "\n",
    "forcefield_files = ['gaff.xml', 'amber14/protein.ff14SB.xml', 'amber14/tip3p.xml']\n",
    "system_generator = SystemGenerator(forcefield_files,\n",
    "                                   barostat = None,\n",
    "                                   forcefield_kwargs = {'removeCMMotion': False, \n",
    "                                                        'ewaldErrorTolerance': 1e-4, \n",
    "                                                        'nonbondedMethod': app.NoCutoff,\n",
    "                                                        'constraints' : app.HBonds, \n",
    "                                                        'hydrogenMass' : 4 * unit.amus})\n",
    "\n",
    "atp.system = system_generator.build_system(atp.topology)"
   ]
  },
  {
   "cell_type": "code",
   "execution_count": 6,
   "metadata": {},
   "outputs": [],
   "source": [
    "def generate_top_pos_sys(topology, new_res, system, positions, system_generator = system_generator):\n",
    "    \"\"\"generate point mutation engine, geometry_engine, and conduct topology proposal, geometry propsal, and hybrid factory generation\"\"\"\n",
    "    #create the point mutation engine\n",
    "    point_mutation_engine = PointMutationEngine(wildtype_topology = topology,\n",
    "                                                system_generator = system_generator,\n",
    "                                                chain_id = '1', #denote the chain id allowed to mutate (it's always a string variable)\n",
    "                                                max_point_mutants = 1,\n",
    "                                                residues_allowed_to_mutate = ['2'], #the residue ids allowed to mutate\n",
    "                                                allowed_mutations = [('2', new_res)], #the residue ids allowed to mutate with the three-letter code allowed to change\n",
    "                                                aggregate = True) #always allow aggregation\n",
    "\n",
    "    #create a geometry engine\n",
    "    geometry_engine = FFAllAngleGeometryEngine(metadata=None, \n",
    "                                           use_sterics=False, \n",
    "                                           n_bond_divisions=100, \n",
    "                                           n_angle_divisions=180, \n",
    "                                           n_torsion_divisions=360, \n",
    "                                           verbose=True, \n",
    "                                           storage=None, \n",
    "                                           bond_softening_constant=1.0, \n",
    "                                           angle_softening_constant=1.0, \n",
    "                                           neglect_angles = False, \n",
    "                                           use_14_nonbondeds = False)\n",
    "\n",
    "    #create a top proposal\n",
    "    topology_proposal, local_map_stereo_sidechain, new_oemol_sidechain, old_oemol_sidechain = point_mutation_engine.propose(current_system = system,\n",
    "                                  current_topology = topology)\n",
    "\n",
    "    #make a geometry proposal forward\n",
    "    forward_new_positions, logp_proposal = geometry_engine.propose(topology_proposal, positions, beta)\n",
    "\n",
    "\n",
    "    #create a hybrid topology factory\n",
    "    forward_htf = HybridTopologyFactory(topology_proposal = topology_proposal,\n",
    "                 current_positions =  positions,\n",
    "                 new_positions = new_positions,\n",
    "                 use_dispersion_correction = False,\n",
    "                 functions=None,\n",
    "                 softcore_alpha = None,\n",
    "                 bond_softening_constant=1.0,\n",
    "                 angle_softening_constant=1.0,\n",
    "                 soften_only_new = False,\n",
    "                 neglected_new_angle_terms = [],\n",
    "                 neglected_old_angle_terms = [],\n",
    "                 softcore_LJ_v2 = True,\n",
    "                 softcore_electrostatics = True,\n",
    "                 softcore_LJ_v2_alpha = 0.85,\n",
    "                 softcore_electrostatics_alpha = 0.3,\n",
    "                 softcore_sigma_Q = 1.0,\n",
    "                 interpolate_old_and_new_14s = False,\n",
    "                 omitted_terms = None)\n",
    "    \n",
    "    return topology_proposal, new_positions, forward_htf\n"
   ]
  },
  {
   "cell_type": "markdown",
   "metadata": {},
   "source": [
    "## Next, we have to make a map from alanine to valine"
   ]
  },
  {
   "cell_type": "code",
   "execution_count": 7,
   "metadata": {},
   "outputs": [],
   "source": [
    "ala_val_top_prop, val_pos, ala_val_htf = generate_top_pos_sys(atp.topology, 'VAL', atp.system, atp.positions)"
   ]
  },
  {
   "cell_type": "markdown",
   "metadata": {},
   "source": [
    "## And a map from valine to alanine"
   ]
  },
  {
   "cell_type": "code",
   "execution_count": 8,
   "metadata": {},
   "outputs": [],
   "source": [
    "val_alanine_top_prop, ala_pos, val_ala_htf = generate_top_pos_sys(ala_val_top_prop._new_topology, 'ALA', ala_val_top_prop._new_system, val_pos)"
   ]
  },
  {
   "cell_type": "markdown",
   "metadata": {},
   "source": [
    "## now build the repex samplers"
   ]
  },
  {
   "cell_type": "code",
   "execution_count": 9,
   "metadata": {},
   "outputs": [
    {
     "name": "stdout",
     "output_type": "stream",
     "text": [
      "Desired platform not supported\n",
      "Desired platform not supported\n",
      "Desired platform not supported\n"
     ]
    }
   ],
   "source": [
    "from perses.samplers.multistate import HybridSAMSSampler, HybridRepexSampler\n",
    "from openmmtools.multistate import MultiStateReporter, MultiStateSamplerAnalyzer\n",
    "from openmmtools import mcmc, utils\n",
    "from perses.annihilation.lambda_protocol import LambdaProtocol"
   ]
  },
  {
   "cell_type": "code",
   "execution_count": 15,
   "metadata": {},
   "outputs": [],
   "source": [
    "def create_hss(reporter_name, hybrid_factory, selection_string ='all', checkpoint_interval = 1, n_states = 13):\n",
    "    lambda_protocol = LambdaProtocol(functions='default')\n",
    "    reporter = MultiStateReporter(reporter_name, analysis_particle_indices = hybrid_factory.hybrid_topology.select(selection_string), checkpoint_interval = checkpoint_interval)\n",
    "    hss = HybridRepexSampler(mcmc_moves=mcmc.LangevinSplittingDynamicsMove(timestep= 4.0 * unit.femtoseconds,\n",
    "                                                                                 collision_rate=5.0 / unit.picosecond,\n",
    "                                                                                 n_steps=50,\n",
    "                                                                                 reassign_velocities=False,\n",
    "                                                                                 n_restart_attempts=20,\n",
    "                                                                                 splitting=\"V R R R O R R R V\",\n",
    "                                                                                 constraint_tolerance=1e-06),\n",
    "                                                                                 hybrid_factory=hybrid_factory,online_analysis_interval=10)\n",
    "    hss.setup(n_states=n_states, temperature=300*unit.kelvin,storage_file=reporter,lambda_protocol=lambda_protocol,endstates=False)\n",
    "    return hss, reporter"
   ]
  },
  {
   "cell_type": "code",
   "execution_count": 22,
   "metadata": {},
   "outputs": [
    {
     "data": {
      "text/plain": [
       "0"
      ]
     },
     "execution_count": 22,
     "metadata": {},
     "output_type": "execute_result"
    }
   ],
   "source": [
    "os.system(f\"rm *.nc\")"
   ]
  },
  {
   "cell_type": "code",
   "execution_count": 23,
   "metadata": {},
   "outputs": [
    {
     "name": "stderr",
     "output_type": "stream",
     "text": [
      "DEBUG:openmmtools.multistate.multistatereporter:Initial checkpoint file automatically chosen as ala_val_checkpoint.nc\n",
      "DEBUG:mpiplus.mpiplus:Single node: executing <bound method MultiStateReporter.storage_exists of <openmmtools.multistate.multistatereporter.MultiStateReporter object at 0x7f32c7209be0>>\n",
      "DEBUG:mpiplus.mpiplus:Single node: executing <function ReplicaExchangeSampler._display_citations at 0x7f32d8e34510>\n",
      "DEBUG:mpiplus.mpiplus:Single node: executing <function MultiStateSampler._display_citations at 0x7f32d8ee6730>\n",
      "DEBUG:mpiplus.mpiplus:Single node: executing <function MultiStateSampler._initialize_reporter at 0x7f32d8ee69d8>\n",
      "DEBUG:openmmtools.multistate.multistatereporter:Serialized state thermodynamic_states/0 is  6463B | 6.312KB | 0.006MB\n",
      "DEBUG:openmmtools.utils:Storing thermodynamic states took    0.019s\n",
      "DEBUG:openmmtools.multistate.multistatesampler:Storing general ReplicaExchange options...\n",
      "DEBUG:mpiplus.mpiplus:Single node: executing <function MultiStateSampler._report_iteration at 0x7f32d8ee6ae8>\n",
      "DEBUG:mpiplus.mpiplus:Single node: executing <function MultiStateSampler._report_iteration_items at 0x7f32d8ee6d90>\n",
      "DEBUG:openmmtools.utils:Storing sampler states took    0.013s\n",
      "DEBUG:openmmtools.utils:Writing iteration information to storage took    0.042s\n",
      "DEBUG:openmmtools.multistate.multistatesampler:Equilibration iteration 0/10\n",
      "DEBUG:openmmtools.multistate.multistatesampler:Propagating all replicas...\n",
      "DEBUG:mpiplus.mpiplus:Running _propagate_replica serially.\n"
     ]
    },
    {
     "name": "stdout",
     "output_type": "stream",
     "text": [
      "Please cite the following:\n",
      "\n",
      "        Friedrichs MS, Eastman P, Vaidyanathan V, Houston M, LeGrand S, Beberg AL, Ensign DL, Bruns CM, and Pande VS. Accelerating molecular dynamic simulations on graphics processing unit. J. Comput. Chem. 30:864, 2009. DOI: 10.1002/jcc.21209\n",
      "        Eastman P and Pande VS. OpenMM: A hardware-independent framework for molecular simulations. Comput. Sci. Eng. 12:34, 2010. DOI: 10.1109/MCSE.2010.27\n",
      "        Eastman P and Pande VS. Efficient nonbonded interactions for molecular dynamics on a graphics processing unit. J. Comput. Chem. 31:1268, 2010. DOI: 10.1002/jcc.21413\n",
      "        Eastman P and Pande VS. Constant constraint matrix approximation: A robust, parallelizable constraint method for molecular simulations. J. Chem. Theor. Comput. 6:434, 2010. DOI: 10.1021/ct900463w\n",
      "        Chodera JD and Shirts MR. Replica exchange and expanded ensemble simulations as Gibbs multistate: Simple improvements for enhanced mixing. J. Chem. Phys., 135:194110, 2011. DOI:10.1063/1.3660669\n",
      "        \n"
     ]
    },
    {
     "name": "stderr",
     "output_type": "stream",
     "text": [
      "DEBUG:mpiplus.mpiplus:Running _get_replica_move_statistics serially.\n",
      "DEBUG:openmmtools.utils:Propagating all replicas took    0.506s\n",
      "DEBUG:openmmtools.multistate.multistatesampler:Equilibration iteration 1/10\n",
      "DEBUG:openmmtools.multistate.multistatesampler:Propagating all replicas...\n",
      "DEBUG:mpiplus.mpiplus:Running _propagate_replica serially.\n",
      "DEBUG:mpiplus.mpiplus:Running _get_replica_move_statistics serially.\n",
      "DEBUG:openmmtools.utils:Propagating all replicas took    0.372s\n",
      "DEBUG:openmmtools.multistate.multistatesampler:Equilibration iteration 2/10\n",
      "DEBUG:openmmtools.multistate.multistatesampler:Propagating all replicas...\n",
      "DEBUG:mpiplus.mpiplus:Running _propagate_replica serially.\n",
      "DEBUG:mpiplus.mpiplus:Running _get_replica_move_statistics serially.\n",
      "DEBUG:openmmtools.utils:Propagating all replicas took    0.401s\n",
      "DEBUG:openmmtools.multistate.multistatesampler:Equilibration iteration 3/10\n",
      "DEBUG:openmmtools.multistate.multistatesampler:Propagating all replicas...\n",
      "DEBUG:mpiplus.mpiplus:Running _propagate_replica serially.\n",
      "DEBUG:mpiplus.mpiplus:Running _get_replica_move_statistics serially.\n",
      "DEBUG:openmmtools.utils:Propagating all replicas took    0.375s\n",
      "DEBUG:openmmtools.multistate.multistatesampler:Equilibration iteration 4/10\n",
      "DEBUG:openmmtools.multistate.multistatesampler:Propagating all replicas...\n",
      "DEBUG:mpiplus.mpiplus:Running _propagate_replica serially.\n",
      "DEBUG:mpiplus.mpiplus:Running _get_replica_move_statistics serially.\n",
      "DEBUG:openmmtools.utils:Propagating all replicas took    0.361s\n",
      "DEBUG:openmmtools.multistate.multistatesampler:Equilibration iteration 5/10\n",
      "DEBUG:openmmtools.multistate.multistatesampler:Propagating all replicas...\n",
      "DEBUG:mpiplus.mpiplus:Running _propagate_replica serially.\n",
      "DEBUG:mpiplus.mpiplus:Running _get_replica_move_statistics serially.\n",
      "DEBUG:openmmtools.utils:Propagating all replicas took    0.385s\n",
      "DEBUG:openmmtools.multistate.multistatesampler:Equilibration iteration 6/10\n",
      "DEBUG:openmmtools.multistate.multistatesampler:Propagating all replicas...\n",
      "DEBUG:mpiplus.mpiplus:Running _propagate_replica serially.\n",
      "DEBUG:mpiplus.mpiplus:Running _get_replica_move_statistics serially.\n",
      "DEBUG:openmmtools.utils:Propagating all replicas took    0.404s\n",
      "DEBUG:openmmtools.multistate.multistatesampler:Equilibration iteration 7/10\n",
      "DEBUG:openmmtools.multistate.multistatesampler:Propagating all replicas...\n",
      "DEBUG:mpiplus.mpiplus:Running _propagate_replica serially.\n",
      "DEBUG:mpiplus.mpiplus:Running _get_replica_move_statistics serially.\n",
      "DEBUG:openmmtools.utils:Propagating all replicas took    0.365s\n",
      "DEBUG:openmmtools.multistate.multistatesampler:Equilibration iteration 8/10\n",
      "DEBUG:openmmtools.multistate.multistatesampler:Propagating all replicas...\n",
      "DEBUG:mpiplus.mpiplus:Running _propagate_replica serially.\n",
      "DEBUG:mpiplus.mpiplus:Running _get_replica_move_statistics serially.\n",
      "DEBUG:openmmtools.utils:Propagating all replicas took    0.354s\n",
      "DEBUG:openmmtools.multistate.multistatesampler:Equilibration iteration 9/10\n",
      "DEBUG:openmmtools.multistate.multistatesampler:Propagating all replicas...\n",
      "DEBUG:mpiplus.mpiplus:Running _propagate_replica serially.\n",
      "DEBUG:mpiplus.mpiplus:Running _get_replica_move_statistics serially.\n",
      "DEBUG:openmmtools.utils:Propagating all replicas took    0.354s\n",
      "DEBUG:mpiplus.mpiplus:Single node: executing <bound method MultiStateReporter.write_sampler_states of <openmmtools.multistate.multistatereporter.MultiStateReporter object at 0x7f32c7209be0>>\n",
      "DEBUG:openmmtools.utils:Storing sampler states took    0.005s\n"
     ]
    }
   ],
   "source": [
    "ala_val_hss, ala_val_reporter = create_hss('ala_val.nc', ala_val_htf)\n",
    "ala_val_hss.equilibrate(10)\n",
    "# val_ala_hss, val_ala_reporter = create_hss('val_ala.nc', val_ala_htf)"
   ]
  },
  {
   "cell_type": "code",
   "execution_count": null,
   "metadata": {},
   "outputs": [],
   "source": [
    "# val_ala_hss, val_ala_reporter = create_hss('val_ala.nc', val_ala_htf)"
   ]
  },
  {
   "cell_type": "markdown",
   "metadata": {},
   "source": [
    "## As a quick test, we will check to see whether the ala --> val thermostate 1 is equal in reduced energy to the val --> ala thermostate 0"
   ]
  },
  {
   "cell_type": "code",
   "execution_count": null,
   "metadata": {},
   "outputs": [],
   "source": [
    "def create_thermostate(hybrid_system)"
   ]
  },
  {
   "cell_type": "code",
   "execution_count": null,
   "metadata": {},
   "outputs": [],
   "source": [
    "#instantiate thermodynamic state\n",
    "lambda_alchemical_state = RelativeAlchemicalState.from_system(self.factory.hybrid_system)\n",
    "lambda_alchemical_state.set_alchemical_parameters(0.0, LambdaProtocol(functions = self.lambda_protocol))\n",
    "self.thermodynamic_state = CompoundThermodynamicState(ThermodynamicState(self.factory.hybrid_system, temperature = self.temperature),composable_states = [lambda_alchemical_state])\n",
    "\n",
    "# set the SamplerState for the lambda 0 and 1 equilibrium simulations\n",
    "sampler_state = SamplerState(self.factory.hybrid_positions,\n",
    "                                  box_vectors=self.factory.hybrid_system.getDefaultPeriodicBoxVectors())"
   ]
  },
  {
   "cell_type": "code",
   "execution_count": null,
   "metadata": {},
   "outputs": [],
   "source": [
    "from openmmtools.states import ThermodynamicState, CompoundThermodynamicState, SamplerState"
   ]
  }
 ],
 "metadata": {
  "kernelspec": {
   "display_name": "Python 3",
   "language": "python",
   "name": "python3"
  },
  "language_info": {
   "codemirror_mode": {
    "name": "ipython",
    "version": 3
   },
   "file_extension": ".py",
   "mimetype": "text/x-python",
   "name": "python",
   "nbconvert_exporter": "python",
   "pygments_lexer": "ipython3",
   "version": "3.6.8"
  }
 },
 "nbformat": 4,
 "nbformat_minor": 4
}
