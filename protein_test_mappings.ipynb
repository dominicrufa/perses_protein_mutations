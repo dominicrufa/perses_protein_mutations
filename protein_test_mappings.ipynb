{
 "cells": [
  {
   "cell_type": "markdown",
   "metadata": {},
   "source": [
    "# In this notebook, I will generate amino acid X --> amino acid Y sidechain mutations and generate protein maps thereof for the 19-by-19 (omitting proline) amino acid transforms."
   ]
  },
  {
   "cell_type": "markdown",
   "metadata": {},
   "source": [
    "import some libraries"
   ]
  },
  {
   "cell_type": "code",
   "execution_count": 1,
   "metadata": {},
   "outputs": [
    {
     "name": "stderr",
     "output_type": "stream",
     "text": [
      "/home/dominic/anaconda3/envs/openmm/lib/python3.6/site-packages/perses-0.4.0-py3.6.egg/perses/rjmc/coordinate_numba.py:14: NumbaPerformanceWarning: np.dot() is faster on contiguous arrays, called on (array(float64, 1d, A), array(float64, 1d, A))\n",
      "  n_2 = np.dot(a, a)\n",
      "/home/dominic/anaconda3/envs/openmm/lib/python3.6/site-packages/perses-0.4.0-py3.6.egg/perses/rjmc/coordinate_numba.py:65: NumbaPerformanceWarning: np.dot() is faster on contiguous arrays, called on (array(float64, 2d, A), array(float64, 1d, C))\n",
      "  d_ang = np.dot(angle_rotation_matrix, d_r)\n",
      "/home/dominic/anaconda3/envs/openmm/lib/python3.6/site-packages/perses-0.4.0-py3.6.egg/perses/rjmc/coordinate_numba.py:71: NumbaPerformanceWarning: np.dot() is faster on contiguous arrays, called on (array(float64, 2d, A), array(float64, 1d, C))\n",
      "  d_torsion = np.dot(torsion_rotation_matrix, d_ang)\n",
      "/home/dominic/anaconda3/envs/openmm/lib/python3.6/site-packages/perses-0.4.0-py3.6.egg/perses/rjmc/coordinate_numba.py:129: NumbaPerformanceWarning: np.dot() is faster on contiguous arrays, called on (array(float64, 1d, A), array(float64, 1d, A))\n",
      "  cos_phi = np.dot(plane1, plane2) / (_norm(plane1)*_norm(plane2))\n",
      "/home/dominic/anaconda3/envs/openmm/lib/python3.6/site-packages/perses-0.4.0-py3.6.egg/perses/rjmc/coordinate_numba.py:137: NumbaPerformanceWarning: np.dot() is faster on contiguous arrays, called on (array(float64, 1d, C), array(float64, 1d, A))\n",
      "  if np.dot(a, plane2) <= 0:\n"
     ]
    }
   ],
   "source": [
    "from __future__ import absolute_import\n",
    "\n",
    "from perses.dispersed import feptasks\n",
    "from perses.utils.openeye import *\n",
    "from perses.utils.data import load_smi\n",
    "from perses.annihilation.relative import HybridTopologyFactory\n",
    "from perses.annihilation.lambda_protocol import RelativeAlchemicalState, LambdaProtocol\n",
    "from perses.rjmc.topology_proposal import TopologyProposal, TwoMoleculeSetProposalEngine, SystemGenerator,SmallMoleculeSetProposalEngine, PointMutationEngine\n",
    "from perses.rjmc.geometry import FFAllAngleGeometryEngine\n",
    "import simtk.openmm.app as app\n",
    "\n",
    "from openmmtools.states import ThermodynamicState, CompoundThermodynamicState, SamplerState\n",
    "\n",
    "import pymbar\n",
    "import simtk.openmm as openmm\n",
    "import simtk.openmm.app as app\n",
    "import simtk.unit as unit\n",
    "import numpy as np\n",
    "from openmoltools import forcefield_generators\n",
    "import copy\n",
    "import pickle\n",
    "import mdtraj as md\n",
    "from io import StringIO\n",
    "from openmmtools.constants import kB\n",
    "import logging\n",
    "import os\n",
    "import dask.distributed as distributed\n",
    "import parmed as pm\n",
    "from collections import namedtuple\n",
    "from typing import List, Tuple, Union, NamedTuple\n",
    "from collections import namedtuple\n",
    "import random\n",
    "#beta = 1.0/(kB*temperature)\n",
    "import itertools\n",
    "import os\n",
    "from openeye import oechem\n",
    "from perses.utils.smallmolecules import render_atom_mapping\n",
    "from perses.tests.utils import validate_endstate_energies\n",
    "\n",
    "ENERGY_THRESHOLD = 1e-6\n",
    "temperature = 300 * unit.kelvin\n",
    "kT = kB * temperature\n",
    "beta = 1.0/kT"
   ]
  },
  {
   "cell_type": "markdown",
   "metadata": {},
   "source": [
    "pull alanine dipeptide template for funsies, then make a system generator"
   ]
  },
  {
   "cell_type": "code",
   "execution_count": 2,
   "metadata": {},
   "outputs": [
    {
     "name": "stdout",
     "output_type": "stream",
     "text": [
      "1\n",
      "ACE 1 0\n",
      "H1 0 1\n",
      "CH3 1 2\n",
      "H2 2 3\n",
      "H3 3 4\n",
      "C 4 5\n",
      "O 5 6\n",
      "\n",
      "ALA 2 1\n",
      "N 6 7\n",
      "H 7 8\n",
      "CA 8 9\n",
      "HA 9 10\n",
      "CB 10 11\n",
      "HB1 11 12\n",
      "HB2 12 13\n",
      "HB3 13 14\n",
      "C 14 15\n",
      "O 15 16\n",
      "\n",
      "NME 3 2\n",
      "N 16 17\n",
      "H 17 18\n",
      "C 18 19\n",
      "H1 19 20\n",
      "H2 20 21\n",
      "H3 21 22\n",
      "\n"
     ]
    }
   ],
   "source": [
    "import openmmtools.testsystems as ts\n",
    "atp = ts.AlanineDipeptideVacuum(constraints = app.HBonds, hydrogenMass = 4 * unit.amus)\n",
    "for chain in atp.topology.chains():\n",
    "    print(chain.id)\n",
    "    for res in chain.residues():\n",
    "        print(res.name, res.id, res.index)\n",
    "        for atom in res.atoms():\n",
    "            print(atom.name, atom.index, atom.id)\n",
    "        print()\n",
    "\n",
    "forcefield_files = ['gaff.xml', 'amber14/protein.ff14SB.xml', 'amber14/tip3p.xml']\n",
    "system_generator = SystemGenerator(forcefield_files,\n",
    "                                   barostat = None,\n",
    "                                   forcefield_kwargs = {'removeCMMotion': False, \n",
    "                                                        'ewaldErrorTolerance': 1e-4, \n",
    "                                                        'nonbondedMethod': app.NoCutoff,\n",
    "                                                        'constraints' : app.HBonds, \n",
    "                                                        'hydrogenMass' : 4 * unit.amus})\n",
    "\n",
    "atp.system = system_generator.build_system(atp.topology)\n",
    "\n"
   ]
  },
  {
   "cell_type": "markdown",
   "metadata": {},
   "source": [
    "create a point mutation engine...we will omit the following code since it is just for troubleshooting's sake"
   ]
  },
  {
   "cell_type": "code",
   "execution_count": null,
   "metadata": {},
   "outputs": [],
   "source": [
    "# point_mutation_engine = PointMutationEngine(wildtype_topology = atp.topology,\n",
    "#                                             system_generator = system_generator,\n",
    "#                                             chain_id = '1', #denote the chain id allowed to mutate (it's always a string variable)\n",
    "#                                             max_point_mutants = 1,\n",
    "#                                             residues_allowed_to_mutate = ['2'], #the residue ids allowed to mutate\n",
    "#                                             allowed_mutations = [('2', 'ARG')], #the residue ids allowed to mutate with the three-letter code allowed to change\n",
    "#                                             aggregate = True) #always allow aggregation\n",
    "\n",
    "# geometry_engine = FFAllAngleGeometryEngine(metadata=None, \n",
    "#                                        use_sterics=False, \n",
    "#                                        n_bond_divisions=100, \n",
    "#                                        n_angle_divisions=180, \n",
    "#                                        n_torsion_divisions=360, \n",
    "#                                        verbose=True, \n",
    "#                                        storage=None, \n",
    "#                                        bond_softening_constant=1.0, \n",
    "#                                        angle_softening_constant=1.0, \n",
    "#                                        neglect_angles = False, \n",
    "#                                        use_14_nonbondeds = False)\n",
    "\n",
    "# topology_proposal, local_map_stereo_sidechain, new_oemol_sidechain, old_oemol_sidechain = point_mutation_engine.propose(current_system = atp.system,\n",
    "#                               current_topology = atp.topology)\n",
    "\n",
    "# new_positions, logp_proposal = geometry_engine.propose(topology_proposal, atp.positions, beta)\n",
    "\n",
    "# #now to asn\n",
    "# point_mutation_engine = PointMutationEngine(wildtype_topology = topology_proposal._new_topology,\n",
    "#                                             system_generator = system_generator,\n",
    "#                                             chain_id = '1', #denote the chain id allowed to mutate (it's always a string variable)\n",
    "#                                             max_point_mutants = 1,\n",
    "#                                             residues_allowed_to_mutate = ['2'], #the residue ids allowed to mutate\n",
    "#                                             allowed_mutations = [('2', 'ASN')], #the residue ids allowed to mutate with the three-letter code allowed to change\n",
    "#                                             aggregate = True) #always allow aggregation\n",
    "\n",
    "# topology_proposal, local_map_stereo_sidechain, new_oemol_sidechain, old_oemol_sidechain = point_mutation_engine.propose(current_system = topology_proposal._new_system,\n",
    "#                               current_topology = topology_proposal._new_topology)\n",
    "# new_positions, logp_proposal = geometry_engine.propose(topology_proposal, new_positions, beta)\n",
    "# render_atom_mapping('test.png', old_oemol_sidechain, new_oemol_sidechain, local_map_stereo_sidechain)"
   ]
  },
  {
   "cell_type": "code",
   "execution_count": null,
   "metadata": {},
   "outputs": [],
   "source": [
    "# for chain in topology_proposal.old_topology.chains():\n",
    "#     print(chain.id)\n",
    "#     for res in chain.residues():\n",
    "#         print(res.name, res.id, res.index)\n",
    "#         for atom in res.atoms():\n",
    "#             print(atom.name, atom.index)\n",
    "#         print()"
   ]
  },
  {
   "cell_type": "code",
   "execution_count": null,
   "metadata": {},
   "outputs": [],
   "source": [
    "# for chain in topology_proposal.new_topology.chains():\n",
    "#     print(chain.id)\n",
    "#     for res in chain.residues():\n",
    "#         print(res.name, res.id, res.index)\n",
    "#         for atom in res.atoms():\n",
    "#             print(atom.name, atom.index)\n",
    "#         print()"
   ]
  },
  {
   "cell_type": "markdown",
   "metadata": {},
   "source": [
    "render the atom mapping"
   ]
  },
  {
   "cell_type": "code",
   "execution_count": null,
   "metadata": {},
   "outputs": [],
   "source": [
    "# [atom.GetIdx() for atom in old_oemol_sidechain.GetAtoms()]\n",
    "# for atom in old_oemol_sidechain.GetAtoms():\n",
    "#     print(atom.GetIdx())\n",
    "    "
   ]
  },
  {
   "cell_type": "code",
   "execution_count": null,
   "metadata": {},
   "outputs": [],
   "source": [
    "# mol1 = oechem.OEGraphMol(old_oemol_sidechain)\n",
    "# [atom.GetIdx() for atom in mol1.GetAtoms()]"
   ]
  },
  {
   "cell_type": "code",
   "execution_count": null,
   "metadata": {},
   "outputs": [],
   "source": [
    "# render_atom_mapping('test.png', old_oemol_sidechain, new_oemol_sidechain, local_map_stereo_sidechain)"
   ]
  },
  {
   "cell_type": "code",
   "execution_count": null,
   "metadata": {},
   "outputs": [],
   "source": [
    "# point_mutation_engine = PointMutationEngine(wildtype_topology = atp.topology,\n",
    "#                                             system_generator = system_generator,\n",
    "#                                             chain_id = '1', #denote the chain id allowed to mutate (it's always a string variable)\n",
    "#                                             max_point_mutants = 1,\n",
    "#                                             residues_allowed_to_mutate = ['2'], #the residue ids allowed to mutate\n",
    "#                                             allowed_mutations = [('2', 'ASN')], #the residue ids allowed to mutate with the three-letter code allowed to change\n",
    "#                                             aggregate = True) #always allow aggregation\n",
    "\n",
    "# topology_proposal, local_map_stereo_sidechain, new_oemol_sidechain, old_oemol_sidechain = point_mutation_engine.propose(current_system = atp.system,\n",
    "#                               current_topology = atp.topology)"
   ]
  },
  {
   "cell_type": "markdown",
   "metadata": {},
   "source": [
    "## Now make a few functions to automate the mapping pipeline "
   ]
  },
  {
   "cell_type": "code",
   "execution_count": 3,
   "metadata": {},
   "outputs": [],
   "source": [
    "def create_new_pdb(topology, positions, output_pdb = 'test_new.pdb'):\n",
    "    \"\"\"\n",
    "    create a pdb of the geometry proposal (only new system)\n",
    "    \"\"\"\n",
    "    import mdtraj as md\n",
    "    _positions =  np.array(positions.value_in_unit(unit.nanometer))\n",
    "    print(_positions)\n",
    "    traj = md.Trajectory(_positions, md.Topology.from_openmm(topology))\n",
    "    traj.save(output_pdb)"
   ]
  },
  {
   "cell_type": "code",
   "execution_count": 4,
   "metadata": {},
   "outputs": [],
   "source": [
    "def validate_geometry(topology_proposal, current_positions, beta):\n",
    "    \"\"\"generate a geometry proposal\"\"\"\n",
    "    validated = True\n",
    "    geometry_engine = FFAllAngleGeometryEngine(metadata=None, \n",
    "                                           use_sterics=False, \n",
    "                                           n_bond_divisions=100, \n",
    "                                           n_angle_divisions=180, \n",
    "                                           n_torsion_divisions=360, \n",
    "                                           verbose=True, \n",
    "                                           storage=None, \n",
    "                                           bond_softening_constant=1.0, \n",
    "                                           angle_softening_constant=1.0, \n",
    "                                           neglect_angles = False, \n",
    "                                           use_14_nonbondeds = False)\n",
    "    try:\n",
    "        new_positions, logp_proposal = geometry_engine.propose(topology_proposal, current_positions, beta)\n",
    "    except Exception as e:\n",
    "        print(f\"geometry failure {e}\")\n",
    "        new_positions, logp_proposal = None, None\n",
    "        validated = False\n",
    "    \n",
    "    return validated, new_positions\n",
    "    "
   ]
  },
  {
   "cell_type": "code",
   "execution_count": 5,
   "metadata": {},
   "outputs": [],
   "source": [
    "def validate_htf(topology_proposal, old_positions, new_positions):\n",
    "    \"\"\"this isn't absolutely critical to make sure that the hybrid topology factory function will work\"\"\"\n",
    "    validated = True\n",
    "    try:\n",
    "        htf = HybridTopologyFactory(topology_proposal = topology_proposal,\n",
    "                     current_positions = old_positions,\n",
    "                     new_positions = new_positions,\n",
    "                     use_dispersion_correction = False,\n",
    "                     functions=None,\n",
    "                     softcore_alpha = None,\n",
    "                     bond_softening_constant=1.0,\n",
    "                     angle_softening_constant=1.0,\n",
    "                     soften_only_new = False,\n",
    "                     neglected_new_angle_terms = [],\n",
    "                     neglected_old_angle_terms = [],\n",
    "                     softcore_LJ_v2 = True,\n",
    "                     softcore_electrostatics = True,\n",
    "                     softcore_LJ_v2_alpha = 0.85,\n",
    "                     softcore_electrostatics_alpha = 0.3,\n",
    "                     softcore_sigma_Q = 1.0,\n",
    "                     interpolate_old_and_new_14s = False,\n",
    "                     omitted_terms = None)\n",
    "    except Exception as e:\n",
    "        print(f\"htf failure: {e}\")\n",
    "        htf = None\n",
    "        validated = False\n",
    "    \n",
    "    return validated, htf"
   ]
  },
  {
   "cell_type": "code",
   "execution_count": 6,
   "metadata": {},
   "outputs": [],
   "source": [
    "def run_pipeline(old_topology, old_system, old_positions, system_generator, mutations_from = 'ALA'):\n",
    "    \"\"\"\n",
    "    run the pipeline to generate a protein mutation from all of the dipeptides\n",
    "    \"\"\"\n",
    "    allowed_mutations = [item for item in ['ALA', 'ARG', 'ASN', 'ASP', 'CYS', 'GLN', 'GLU','GLY','HIS','ILE','LEU','LYS', 'MET', 'PHE', 'SER', 'THR', 'TRP', 'TYR','VAL'] if item != mutations_from]\n",
    "    print(f\"allowed_mutations: {allowed_mutations}\")\n",
    "    results = {}\n",
    "    for mutation in allowed_mutations:\n",
    "        print(mutation)\n",
    "        \n",
    "        point_mutation_engine = PointMutationEngine(wildtype_topology = old_topology,\n",
    "                                            system_generator = system_generator,\n",
    "                                            chain_id = '1', #denote the chain id allowed to mutate (it's always a string variable)\n",
    "                                            max_point_mutants = 1,\n",
    "                                            residues_allowed_to_mutate = ['2'], #the residue ids allowed to mutate\n",
    "                                            allowed_mutations = [('2', mutation)], #the residue ids allowed to mutate with the three-letter code allowed to change\n",
    "                                            aggregate = True) #always allow aggregation\n",
    "        \n",
    "        topology_proposal, local_map_stereo_sidechain, new_oemol_sidechain, old_oemol_sidechain = point_mutation_engine.propose(current_system = old_system,\n",
    "                              current_topology = old_topology)\n",
    "        \n",
    "        validated_geometry, new_positions = validate_geometry(topology_proposal, old_positions, beta)\n",
    "        try:\n",
    "            _validated_htf, htf = validate_htf(topology_proposal, old_positions, new_positions)\n",
    "            render_atom_mapping(f\"{mutations_from}_to_{mutation}.png\", old_oemol_sidechain, new_oemol_sidechain, local_map_stereo_sidechain)\n",
    "            results[(mutations_from, mutation)] = (topology_proposal, htf)\n",
    "\n",
    "        except Exception as e:\n",
    "            print(f\"{mutations_from} to {mutation}; {e}\")\n",
    "    \n",
    "    return results\n",
    "        \n",
    "                \n",
    "            \n",
    "        \n",
    "        \n",
    "        \n",
    "        \n",
    "    \n",
    "    \n",
    "    \n",
    "    "
   ]
  },
  {
   "cell_type": "markdown",
   "metadata": {},
   "source": [
    "### all transforms"
   ]
  },
  {
   "cell_type": "markdown",
   "metadata": {},
   "source": [
    "note: we first have to make a topology proposal from ALA to all of the other amino acids in order to generate a new topology for ACE-X-NME, from which we can transform X --> Y"
   ]
  },
  {
   "cell_type": "code",
   "execution_count": 7,
   "metadata": {},
   "outputs": [
    {
     "name": "stdout",
     "output_type": "stream",
     "text": [
      "allowed_mutations: ['ARG', 'ASN', 'ASP', 'CYS', 'GLN', 'GLU', 'GLY', 'HIS', 'ILE', 'LEU', 'LYS', 'MET', 'PHE', 'SER', 'THR', 'TRP', 'TYR', 'VAL']\n",
      "ARG\n",
      "ASN\n",
      "ASP\n",
      "CYS\n",
      "GLN\n",
      "GLU\n",
      "GLY\n",
      "HIS\n",
      "ILE\n",
      "LEU\n",
      "LYS\n",
      "MET\n",
      "PHE\n",
      "SER\n",
      "THR\n",
      "TRP\n",
      "TYR\n",
      "VAL\n",
      "starting from: ARG\n",
      "allowed_mutations: ['ALA', 'ASN', 'ASP', 'CYS', 'GLN', 'GLU', 'GLY', 'HIS', 'ILE', 'LEU', 'LYS', 'MET', 'PHE', 'SER', 'THR', 'TRP', 'TYR', 'VAL']\n",
      "ALA\n"
     ]
    },
    {
     "name": "stderr",
     "output_type": "stream",
     "text": [
      "WARNING:geometry:\t\t\t\t\tchiral atom <Atom 8 (CA) of chain 0 residue 1 (ASN)> with neighbors [<Atom 9 (HA) of chain 0 residue 1 (ASN)>, <Atom 10 (CB) of chain 0 residue 1 (ASN)>, <Atom 13 (C) of chain 0 residue 1 (ASN)>, <Atom 6 (N) of chain 0 residue 1 (ASN)>] is surrounded by 3 core neighbors.  omitting chirality bias torsion\n"
     ]
    },
    {
     "name": "stdout",
     "output_type": "stream",
     "text": [
      "ASN\n"
     ]
    },
    {
     "name": "stderr",
     "output_type": "stream",
     "text": [
      "WARNING:geometry:\t\t\t\t\tchiral atom <Atom 8 (CA) of chain 0 residue 1 (ASP)> with neighbors [<Atom 9 (HA) of chain 0 residue 1 (ASP)>, <Atom 10 (CB) of chain 0 residue 1 (ASP)>, <Atom 13 (C) of chain 0 residue 1 (ASP)>, <Atom 6 (N) of chain 0 residue 1 (ASP)>] is surrounded by 3 core neighbors.  omitting chirality bias torsion\n"
     ]
    },
    {
     "name": "stdout",
     "output_type": "stream",
     "text": [
      "ASP\n",
      "CYS\n",
      "GLN\n",
      "GLU\n"
     ]
    },
    {
     "name": "stderr",
     "output_type": "stream",
     "text": [
      "WARNING:geometry:\t\t\t\t\tchiral atom <Atom 8 (CA) of chain 0 residue 1 (HIS)> with neighbors [<Atom 9 (HA) of chain 0 residue 1 (HIS)>, <Atom 10 (CB) of chain 0 residue 1 (HIS)>, <Atom 13 (C) of chain 0 residue 1 (HIS)>, <Atom 6 (N) of chain 0 residue 1 (HIS)>] is surrounded by 3 core neighbors.  omitting chirality bias torsion\n"
     ]
    },
    {
     "name": "stdout",
     "output_type": "stream",
     "text": [
      "GLY\n",
      "HIS\n",
      "ILE\n",
      "LEU\n",
      "LYS\n"
     ]
    },
    {
     "name": "stderr",
     "output_type": "stream",
     "text": [
      "WARNING:geometry:\t\t\t\t\tchiral atom <Atom 8 (CA) of chain 0 residue 1 (PHE)> with neighbors [<Atom 9 (HA) of chain 0 residue 1 (PHE)>, <Atom 10 (CB) of chain 0 residue 1 (PHE)>, <Atom 13 (C) of chain 0 residue 1 (PHE)>, <Atom 6 (N) of chain 0 residue 1 (PHE)>] is surrounded by 3 core neighbors.  omitting chirality bias torsion\n"
     ]
    },
    {
     "name": "stdout",
     "output_type": "stream",
     "text": [
      "MET\n",
      "PHE\n",
      "SER\n",
      "THR\n"
     ]
    },
    {
     "name": "stderr",
     "output_type": "stream",
     "text": [
      "WARNING:geometry:\t\t\t\t\tchiral atom <Atom 8 (CA) of chain 0 residue 1 (TRP)> with neighbors [<Atom 9 (HA) of chain 0 residue 1 (TRP)>, <Atom 10 (CB) of chain 0 residue 1 (TRP)>, <Atom 13 (C) of chain 0 residue 1 (TRP)>, <Atom 6 (N) of chain 0 residue 1 (TRP)>] is surrounded by 3 core neighbors.  omitting chirality bias torsion\n"
     ]
    },
    {
     "name": "stdout",
     "output_type": "stream",
     "text": [
      "TRP\n"
     ]
    },
    {
     "name": "stderr",
     "output_type": "stream",
     "text": [
      "WARNING:geometry:\t\t\t\t\tchiral atom <Atom 8 (CA) of chain 0 residue 1 (TYR)> with neighbors [<Atom 9 (HA) of chain 0 residue 1 (TYR)>, <Atom 10 (CB) of chain 0 residue 1 (TYR)>, <Atom 13 (C) of chain 0 residue 1 (TYR)>, <Atom 6 (N) of chain 0 residue 1 (TYR)>] is surrounded by 3 core neighbors.  omitting chirality bias torsion\n"
     ]
    },
    {
     "name": "stdout",
     "output_type": "stream",
     "text": [
      "TYR\n",
      "VAL\n",
      "starting from: ASN\n",
      "allowed_mutations: ['ALA', 'ARG', 'ASP', 'CYS', 'GLN', 'GLU', 'GLY', 'HIS', 'ILE', 'LEU', 'LYS', 'MET', 'PHE', 'SER', 'THR', 'TRP', 'TYR', 'VAL']\n",
      "ALA\n"
     ]
    },
    {
     "name": "stderr",
     "output_type": "stream",
     "text": [
      "WARNING:geometry:\t\t\t\t\tchiral atom <Atom 8 (CA) of chain 0 residue 1 (ARG)> with neighbors [<Atom 9 (HA) of chain 0 residue 1 (ARG)>, <Atom 10 (CB) of chain 0 residue 1 (ARG)>, <Atom 13 (C) of chain 0 residue 1 (ARG)>, <Atom 6 (N) of chain 0 residue 1 (ARG)>] is surrounded by 3 core neighbors.  omitting chirality bias torsion\n"
     ]
    },
    {
     "name": "stdout",
     "output_type": "stream",
     "text": [
      "ARG\n",
      "ASP\n",
      "CYS\n"
     ]
    },
    {
     "name": "stderr",
     "output_type": "stream",
     "text": [
      "WARNING:geometry:\t\t\t\t\tchiral atom <Atom 8 (CA) of chain 0 residue 1 (GLN)> with neighbors [<Atom 9 (HA) of chain 0 residue 1 (GLN)>, <Atom 10 (CB) of chain 0 residue 1 (GLN)>, <Atom 13 (C) of chain 0 residue 1 (GLN)>, <Atom 6 (N) of chain 0 residue 1 (GLN)>] is surrounded by 3 core neighbors.  omitting chirality bias torsion\n"
     ]
    },
    {
     "name": "stdout",
     "output_type": "stream",
     "text": [
      "GLN\n"
     ]
    },
    {
     "name": "stderr",
     "output_type": "stream",
     "text": [
      "WARNING:geometry:\t\t\t\t\tchiral atom <Atom 8 (CA) of chain 0 residue 1 (GLU)> with neighbors [<Atom 9 (HA) of chain 0 residue 1 (GLU)>, <Atom 10 (CB) of chain 0 residue 1 (GLU)>, <Atom 13 (C) of chain 0 residue 1 (GLU)>, <Atom 6 (N) of chain 0 residue 1 (GLU)>] is surrounded by 3 core neighbors.  omitting chirality bias torsion\n"
     ]
    },
    {
     "name": "stdout",
     "output_type": "stream",
     "text": [
      "GLU\n",
      "GLY\n",
      "HIS\n"
     ]
    },
    {
     "name": "stderr",
     "output_type": "stream",
     "text": [
      "WARNING:proposal_generator:there may be a geometry problem!  It is advisable to conduct a manual atom map.\n"
     ]
    },
    {
     "name": "stdout",
     "output_type": "stream",
     "text": [
      "ILE\n",
      "LEU\n",
      "LYS\n",
      "MET\n"
     ]
    },
    {
     "name": "stderr",
     "output_type": "stream",
     "text": [
      "WARNING:proposal_generator:there may be a geometry problem!  It is advisable to conduct a manual atom map.\n"
     ]
    },
    {
     "name": "stdout",
     "output_type": "stream",
     "text": [
      "PHE\n",
      "SER\n",
      "THR\n",
      "TRP\n",
      "TYR\n",
      "VAL\n"
     ]
    },
    {
     "name": "stderr",
     "output_type": "stream",
     "text": [
      "WARNING:geometry:\t\t\t\t\tchiral atom <Atom 8 (CA) of chain 0 residue 1 (ARG)> with neighbors [<Atom 9 (HA) of chain 0 residue 1 (ARG)>, <Atom 10 (CB) of chain 0 residue 1 (ARG)>, <Atom 13 (C) of chain 0 residue 1 (ARG)>, <Atom 6 (N) of chain 0 residue 1 (ARG)>] is surrounded by 3 core neighbors.  omitting chirality bias torsion\n"
     ]
    },
    {
     "name": "stdout",
     "output_type": "stream",
     "text": [
      "starting from: ASP\n",
      "allowed_mutations: ['ALA', 'ARG', 'ASN', 'CYS', 'GLN', 'GLU', 'GLY', 'HIS', 'ILE', 'LEU', 'LYS', 'MET', 'PHE', 'SER', 'THR', 'TRP', 'TYR', 'VAL']\n",
      "ALA\n",
      "ARG\n",
      "ASN\n",
      "CYS\n"
     ]
    },
    {
     "name": "stderr",
     "output_type": "stream",
     "text": [
      "WARNING:geometry:\t\t\t\t\tchiral atom <Atom 8 (CA) of chain 0 residue 1 (GLN)> with neighbors [<Atom 9 (HA) of chain 0 residue 1 (GLN)>, <Atom 10 (CB) of chain 0 residue 1 (GLN)>, <Atom 13 (C) of chain 0 residue 1 (GLN)>, <Atom 6 (N) of chain 0 residue 1 (GLN)>] is surrounded by 3 core neighbors.  omitting chirality bias torsion\n"
     ]
    },
    {
     "name": "stdout",
     "output_type": "stream",
     "text": [
      "GLN\n"
     ]
    },
    {
     "name": "stderr",
     "output_type": "stream",
     "text": [
      "WARNING:geometry:\t\t\t\t\tchiral atom <Atom 8 (CA) of chain 0 residue 1 (GLU)> with neighbors [<Atom 9 (HA) of chain 0 residue 1 (GLU)>, <Atom 10 (CB) of chain 0 residue 1 (GLU)>, <Atom 13 (C) of chain 0 residue 1 (GLU)>, <Atom 6 (N) of chain 0 residue 1 (GLU)>] is surrounded by 3 core neighbors.  omitting chirality bias torsion\n"
     ]
    },
    {
     "name": "stdout",
     "output_type": "stream",
     "text": [
      "GLU\n",
      "GLY\n",
      "HIS\n"
     ]
    },
    {
     "name": "stderr",
     "output_type": "stream",
     "text": [
      "WARNING:proposal_generator:there may be a geometry problem!  It is advisable to conduct a manual atom map.\n"
     ]
    },
    {
     "name": "stdout",
     "output_type": "stream",
     "text": [
      "ILE\n",
      "LEU\n",
      "LYS\n",
      "MET\n",
      "PHE\n"
     ]
    },
    {
     "name": "stderr",
     "output_type": "stream",
     "text": [
      "WARNING:proposal_generator:there may be a geometry problem!  It is advisable to conduct a manual atom map.\n"
     ]
    },
    {
     "name": "stdout",
     "output_type": "stream",
     "text": [
      "SER\n",
      "THR\n",
      "TRP\n",
      "TYR\n",
      "VAL\n",
      "starting from: CYS\n",
      "allowed_mutations: ['ALA', 'ARG', 'ASN', 'ASP', 'GLN', 'GLU', 'GLY', 'HIS', 'ILE', 'LEU', 'LYS', 'MET', 'PHE', 'SER', 'THR', 'TRP', 'TYR', 'VAL']\n",
      "ALA\n",
      "ARG\n",
      "ASN\n",
      "ASP\n",
      "GLN\n",
      "GLU\n",
      "GLY\n",
      "HIS\n",
      "ILE\n",
      "LEU\n",
      "LYS\n",
      "MET\n",
      "PHE\n",
      "SER\n",
      "THR\n",
      "TRP\n",
      "TYR\n",
      "VAL\n",
      "starting from: GLN\n",
      "allowed_mutations: ['ALA', 'ARG', 'ASN', 'ASP', 'CYS', 'GLU', 'GLY', 'HIS', 'ILE', 'LEU', 'LYS', 'MET', 'PHE', 'SER', 'THR', 'TRP', 'TYR', 'VAL']\n",
      "ALA\n"
     ]
    },
    {
     "name": "stderr",
     "output_type": "stream",
     "text": [
      "WARNING:geometry:\t\t\t\t\tchiral atom <Atom 8 (CA) of chain 0 residue 1 (ARG)> with neighbors [<Atom 9 (HA) of chain 0 residue 1 (ARG)>, <Atom 10 (CB) of chain 0 residue 1 (ARG)>, <Atom 13 (C) of chain 0 residue 1 (ARG)>, <Atom 6 (N) of chain 0 residue 1 (ARG)>] is surrounded by 3 core neighbors.  omitting chirality bias torsion\n"
     ]
    },
    {
     "name": "stdout",
     "output_type": "stream",
     "text": [
      "ARG\n"
     ]
    },
    {
     "name": "stderr",
     "output_type": "stream",
     "text": [
      "WARNING:geometry:\t\t\t\t\tchiral atom <Atom 8 (CA) of chain 0 residue 1 (ASN)> with neighbors [<Atom 9 (HA) of chain 0 residue 1 (ASN)>, <Atom 10 (CB) of chain 0 residue 1 (ASN)>, <Atom 13 (C) of chain 0 residue 1 (ASN)>, <Atom 6 (N) of chain 0 residue 1 (ASN)>] is surrounded by 3 core neighbors.  omitting chirality bias torsion\n"
     ]
    },
    {
     "name": "stdout",
     "output_type": "stream",
     "text": [
      "ASN\n"
     ]
    },
    {
     "name": "stderr",
     "output_type": "stream",
     "text": [
      "WARNING:geometry:\t\t\t\t\tchiral atom <Atom 8 (CA) of chain 0 residue 1 (ASP)> with neighbors [<Atom 9 (HA) of chain 0 residue 1 (ASP)>, <Atom 10 (CB) of chain 0 residue 1 (ASP)>, <Atom 13 (C) of chain 0 residue 1 (ASP)>, <Atom 6 (N) of chain 0 residue 1 (ASP)>] is surrounded by 3 core neighbors.  omitting chirality bias torsion\n"
     ]
    },
    {
     "name": "stdout",
     "output_type": "stream",
     "text": [
      "ASP\n",
      "CYS\n",
      "GLU\n",
      "GLY\n"
     ]
    },
    {
     "name": "stderr",
     "output_type": "stream",
     "text": [
      "WARNING:geometry:\t\t\t\t\tchiral atom <Atom 8 (CA) of chain 0 residue 1 (HIS)> with neighbors [<Atom 9 (HA) of chain 0 residue 1 (HIS)>, <Atom 10 (CB) of chain 0 residue 1 (HIS)>, <Atom 13 (C) of chain 0 residue 1 (HIS)>, <Atom 6 (N) of chain 0 residue 1 (HIS)>] is surrounded by 3 core neighbors.  omitting chirality bias torsion\n"
     ]
    },
    {
     "name": "stdout",
     "output_type": "stream",
     "text": [
      "HIS\n",
      "ILE\n",
      "LEU\n",
      "LYS\n",
      "MET\n",
      "PHE\n"
     ]
    },
    {
     "name": "stderr",
     "output_type": "stream",
     "text": [
      "WARNING:geometry:\t\t\t\t\tchiral atom <Atom 8 (CA) of chain 0 residue 1 (PHE)> with neighbors [<Atom 9 (HA) of chain 0 residue 1 (PHE)>, <Atom 10 (CB) of chain 0 residue 1 (PHE)>, <Atom 13 (C) of chain 0 residue 1 (PHE)>, <Atom 6 (N) of chain 0 residue 1 (PHE)>] is surrounded by 3 core neighbors.  omitting chirality bias torsion\n"
     ]
    },
    {
     "name": "stdout",
     "output_type": "stream",
     "text": [
      "SER\n",
      "THR\n"
     ]
    },
    {
     "name": "stderr",
     "output_type": "stream",
     "text": [
      "WARNING:geometry:\t\t\t\t\tchiral atom <Atom 8 (CA) of chain 0 residue 1 (TRP)> with neighbors [<Atom 9 (HA) of chain 0 residue 1 (TRP)>, <Atom 10 (CB) of chain 0 residue 1 (TRP)>, <Atom 13 (C) of chain 0 residue 1 (TRP)>, <Atom 6 (N) of chain 0 residue 1 (TRP)>] is surrounded by 3 core neighbors.  omitting chirality bias torsion\n"
     ]
    },
    {
     "name": "stdout",
     "output_type": "stream",
     "text": [
      "TRP\n"
     ]
    },
    {
     "name": "stderr",
     "output_type": "stream",
     "text": [
      "WARNING:geometry:\t\t\t\t\tchiral atom <Atom 8 (CA) of chain 0 residue 1 (TYR)> with neighbors [<Atom 9 (HA) of chain 0 residue 1 (TYR)>, <Atom 10 (CB) of chain 0 residue 1 (TYR)>, <Atom 13 (C) of chain 0 residue 1 (TYR)>, <Atom 6 (N) of chain 0 residue 1 (TYR)>] is surrounded by 3 core neighbors.  omitting chirality bias torsion\n"
     ]
    },
    {
     "name": "stdout",
     "output_type": "stream",
     "text": [
      "TYR\n",
      "VAL\n",
      "starting from: GLU\n",
      "allowed_mutations: ['ALA', 'ARG', 'ASN', 'ASP', 'CYS', 'GLN', 'GLY', 'HIS', 'ILE', 'LEU', 'LYS', 'MET', 'PHE', 'SER', 'THR', 'TRP', 'TYR', 'VAL']\n",
      "ALA\n",
      "ARG\n"
     ]
    },
    {
     "name": "stderr",
     "output_type": "stream",
     "text": [
      "WARNING:geometry:\t\t\t\t\tchiral atom <Atom 8 (CA) of chain 0 residue 1 (ASN)> with neighbors [<Atom 9 (HA) of chain 0 residue 1 (ASN)>, <Atom 10 (CB) of chain 0 residue 1 (ASN)>, <Atom 13 (C) of chain 0 residue 1 (ASN)>, <Atom 6 (N) of chain 0 residue 1 (ASN)>] is surrounded by 3 core neighbors.  omitting chirality bias torsion\n"
     ]
    },
    {
     "name": "stdout",
     "output_type": "stream",
     "text": [
      "ASN\n",
      "ASP\n"
     ]
    },
    {
     "name": "stderr",
     "output_type": "stream",
     "text": [
      "WARNING:geometry:\t\t\t\t\tchiral atom <Atom 8 (CA) of chain 0 residue 1 (ASP)> with neighbors [<Atom 9 (HA) of chain 0 residue 1 (ASP)>, <Atom 10 (CB) of chain 0 residue 1 (ASP)>, <Atom 13 (C) of chain 0 residue 1 (ASP)>, <Atom 6 (N) of chain 0 residue 1 (ASP)>] is surrounded by 3 core neighbors.  omitting chirality bias torsion\n"
     ]
    },
    {
     "name": "stdout",
     "output_type": "stream",
     "text": [
      "CYS\n",
      "GLN\n",
      "GLY\n",
      "HIS\n",
      "ILE\n",
      "LEU\n",
      "LYS\n",
      "MET\n",
      "PHE\n",
      "SER\n",
      "THR\n",
      "TRP\n",
      "TYR\n",
      "VAL\n"
     ]
    },
    {
     "name": "stderr",
     "output_type": "stream",
     "text": [
      "WARNING:geometry:\t\t\t\t\tchiral atom <Atom 8 (CA) of chain 0 residue 1 (ALA)> with neighbors [<Atom 9 (C) of chain 0 residue 1 (ALA)>, <Atom 6 (N) of chain 0 residue 1 (ALA)>, <Atom 11 (HA) of chain 0 residue 1 (ALA)>, <Atom 12 (CB) of chain 0 residue 1 (ALA)>] is surrounded by 3 core neighbors.  omitting chirality bias torsion\n",
      "WARNING:geometry:\t\t\t\t\tchiral atom <Atom 8 (CA) of chain 0 residue 1 (ARG)> with neighbors [<Atom 9 (C) of chain 0 residue 1 (ARG)>, <Atom 6 (N) of chain 0 residue 1 (ARG)>, <Atom 11 (HA) of chain 0 residue 1 (ARG)>, <Atom 12 (CB) of chain 0 residue 1 (ARG)>] is surrounded by 3 core neighbors.  omitting chirality bias torsion\n"
     ]
    },
    {
     "name": "stdout",
     "output_type": "stream",
     "text": [
      "starting from: GLY\n",
      "allowed_mutations: ['ALA', 'ARG', 'ASN', 'ASP', 'CYS', 'GLN', 'GLU', 'HIS', 'ILE', 'LEU', 'LYS', 'MET', 'PHE', 'SER', 'THR', 'TRP', 'TYR', 'VAL']\n",
      "ALA\n",
      "ARG\n"
     ]
    },
    {
     "name": "stderr",
     "output_type": "stream",
     "text": [
      "WARNING:geometry:\t\t\t\t\tchiral atom <Atom 8 (CA) of chain 0 residue 1 (ASN)> with neighbors [<Atom 9 (C) of chain 0 residue 1 (ASN)>, <Atom 6 (N) of chain 0 residue 1 (ASN)>, <Atom 11 (HA) of chain 0 residue 1 (ASN)>, <Atom 12 (CB) of chain 0 residue 1 (ASN)>] is surrounded by 3 core neighbors.  omitting chirality bias torsion\n"
     ]
    },
    {
     "name": "stdout",
     "output_type": "stream",
     "text": [
      "ASN\n"
     ]
    },
    {
     "name": "stderr",
     "output_type": "stream",
     "text": [
      "WARNING:geometry:\t\t\t\t\tchiral atom <Atom 8 (CA) of chain 0 residue 1 (ASP)> with neighbors [<Atom 9 (C) of chain 0 residue 1 (ASP)>, <Atom 6 (N) of chain 0 residue 1 (ASP)>, <Atom 11 (HA) of chain 0 residue 1 (ASP)>, <Atom 12 (CB) of chain 0 residue 1 (ASP)>] is surrounded by 3 core neighbors.  omitting chirality bias torsion\n",
      "WARNING:geometry:\t\t\t\t\tchiral atom <Atom 8 (CA) of chain 0 residue 1 (CYS)> with neighbors [<Atom 9 (C) of chain 0 residue 1 (CYS)>, <Atom 6 (N) of chain 0 residue 1 (CYS)>, <Atom 11 (HA) of chain 0 residue 1 (CYS)>, <Atom 12 (CB) of chain 0 residue 1 (CYS)>] is surrounded by 3 core neighbors.  omitting chirality bias torsion\n",
      "WARNING:geometry:\t\t\t\t\tchiral atom <Atom 8 (CA) of chain 0 residue 1 (GLN)> with neighbors [<Atom 9 (C) of chain 0 residue 1 (GLN)>, <Atom 6 (N) of chain 0 residue 1 (GLN)>, <Atom 11 (HA) of chain 0 residue 1 (GLN)>, <Atom 12 (CB) of chain 0 residue 1 (GLN)>] is surrounded by 3 core neighbors.  omitting chirality bias torsion\n"
     ]
    },
    {
     "name": "stdout",
     "output_type": "stream",
     "text": [
      "ASP\n",
      "CYS\n",
      "GLN\n"
     ]
    },
    {
     "name": "stderr",
     "output_type": "stream",
     "text": [
      "WARNING:geometry:\t\t\t\t\tchiral atom <Atom 8 (CA) of chain 0 residue 1 (GLU)> with neighbors [<Atom 9 (C) of chain 0 residue 1 (GLU)>, <Atom 6 (N) of chain 0 residue 1 (GLU)>, <Atom 11 (HA) of chain 0 residue 1 (GLU)>, <Atom 12 (CB) of chain 0 residue 1 (GLU)>] is surrounded by 3 core neighbors.  omitting chirality bias torsion\n"
     ]
    },
    {
     "name": "stdout",
     "output_type": "stream",
     "text": [
      "GLU\n"
     ]
    },
    {
     "name": "stderr",
     "output_type": "stream",
     "text": [
      "WARNING:geometry:\t\t\t\t\tchiral atom <Atom 8 (CA) of chain 0 residue 1 (HIS)> with neighbors [<Atom 9 (C) of chain 0 residue 1 (HIS)>, <Atom 6 (N) of chain 0 residue 1 (HIS)>, <Atom 11 (HA) of chain 0 residue 1 (HIS)>, <Atom 12 (CB) of chain 0 residue 1 (HIS)>] is surrounded by 3 core neighbors.  omitting chirality bias torsion\n",
      "WARNING:geometry:\t\t\t\t\tchiral atom <Atom 8 (CA) of chain 0 residue 1 (ILE)> with neighbors [<Atom 9 (C) of chain 0 residue 1 (ILE)>, <Atom 6 (N) of chain 0 residue 1 (ILE)>, <Atom 11 (HA) of chain 0 residue 1 (ILE)>, <Atom 12 (CB) of chain 0 residue 1 (ILE)>] is surrounded by 3 core neighbors.  omitting chirality bias torsion\n"
     ]
    },
    {
     "name": "stdout",
     "output_type": "stream",
     "text": [
      "HIS\n",
      "ILE\n"
     ]
    },
    {
     "name": "stderr",
     "output_type": "stream",
     "text": [
      "WARNING:geometry:\t\t\t\t\tchiral atom <Atom 8 (CA) of chain 0 residue 1 (LEU)> with neighbors [<Atom 9 (C) of chain 0 residue 1 (LEU)>, <Atom 6 (N) of chain 0 residue 1 (LEU)>, <Atom 11 (HA) of chain 0 residue 1 (LEU)>, <Atom 12 (CB) of chain 0 residue 1 (LEU)>] is surrounded by 3 core neighbors.  omitting chirality bias torsion\n"
     ]
    },
    {
     "name": "stdout",
     "output_type": "stream",
     "text": [
      "LEU\n"
     ]
    },
    {
     "name": "stderr",
     "output_type": "stream",
     "text": [
      "WARNING:geometry:\t\t\t\t\tchiral atom <Atom 8 (CA) of chain 0 residue 1 (LYS)> with neighbors [<Atom 9 (C) of chain 0 residue 1 (LYS)>, <Atom 6 (N) of chain 0 residue 1 (LYS)>, <Atom 11 (HA) of chain 0 residue 1 (LYS)>, <Atom 12 (CB) of chain 0 residue 1 (LYS)>] is surrounded by 3 core neighbors.  omitting chirality bias torsion\n"
     ]
    },
    {
     "name": "stdout",
     "output_type": "stream",
     "text": [
      "LYS\n"
     ]
    },
    {
     "name": "stderr",
     "output_type": "stream",
     "text": [
      "WARNING:geometry:\t\t\t\t\tchiral atom <Atom 8 (CA) of chain 0 residue 1 (MET)> with neighbors [<Atom 9 (C) of chain 0 residue 1 (MET)>, <Atom 6 (N) of chain 0 residue 1 (MET)>, <Atom 11 (HA) of chain 0 residue 1 (MET)>, <Atom 12 (CB) of chain 0 residue 1 (MET)>] is surrounded by 3 core neighbors.  omitting chirality bias torsion\n"
     ]
    },
    {
     "name": "stdout",
     "output_type": "stream",
     "text": [
      "MET\n"
     ]
    },
    {
     "name": "stderr",
     "output_type": "stream",
     "text": [
      "WARNING:geometry:\t\t\t\t\tchiral atom <Atom 8 (CA) of chain 0 residue 1 (PHE)> with neighbors [<Atom 9 (C) of chain 0 residue 1 (PHE)>, <Atom 6 (N) of chain 0 residue 1 (PHE)>, <Atom 11 (HA) of chain 0 residue 1 (PHE)>, <Atom 12 (CB) of chain 0 residue 1 (PHE)>] is surrounded by 3 core neighbors.  omitting chirality bias torsion\n"
     ]
    },
    {
     "name": "stdout",
     "output_type": "stream",
     "text": [
      "PHE\n"
     ]
    },
    {
     "name": "stderr",
     "output_type": "stream",
     "text": [
      "WARNING:geometry:\t\t\t\t\tchiral atom <Atom 8 (CA) of chain 0 residue 1 (SER)> with neighbors [<Atom 9 (C) of chain 0 residue 1 (SER)>, <Atom 6 (N) of chain 0 residue 1 (SER)>, <Atom 11 (HA) of chain 0 residue 1 (SER)>, <Atom 12 (CB) of chain 0 residue 1 (SER)>] is surrounded by 3 core neighbors.  omitting chirality bias torsion\n",
      "WARNING:geometry:\t\t\t\t\tchiral atom <Atom 8 (CA) of chain 0 residue 1 (THR)> with neighbors [<Atom 9 (C) of chain 0 residue 1 (THR)>, <Atom 6 (N) of chain 0 residue 1 (THR)>, <Atom 11 (HA) of chain 0 residue 1 (THR)>, <Atom 12 (CB) of chain 0 residue 1 (THR)>] is surrounded by 3 core neighbors.  omitting chirality bias torsion\n"
     ]
    },
    {
     "name": "stdout",
     "output_type": "stream",
     "text": [
      "SER\n",
      "THR\n"
     ]
    },
    {
     "name": "stderr",
     "output_type": "stream",
     "text": [
      "WARNING:geometry:\t\t\t\t\tchiral atom <Atom 8 (CA) of chain 0 residue 1 (TRP)> with neighbors [<Atom 9 (C) of chain 0 residue 1 (TRP)>, <Atom 6 (N) of chain 0 residue 1 (TRP)>, <Atom 11 (HA) of chain 0 residue 1 (TRP)>, <Atom 12 (CB) of chain 0 residue 1 (TRP)>] is surrounded by 3 core neighbors.  omitting chirality bias torsion\n"
     ]
    },
    {
     "name": "stdout",
     "output_type": "stream",
     "text": [
      "TRP\n"
     ]
    },
    {
     "name": "stderr",
     "output_type": "stream",
     "text": [
      "WARNING:geometry:\t\t\t\t\tchiral atom <Atom 8 (CA) of chain 0 residue 1 (TYR)> with neighbors [<Atom 9 (C) of chain 0 residue 1 (TYR)>, <Atom 6 (N) of chain 0 residue 1 (TYR)>, <Atom 11 (HA) of chain 0 residue 1 (TYR)>, <Atom 12 (CB) of chain 0 residue 1 (TYR)>] is surrounded by 3 core neighbors.  omitting chirality bias torsion\n"
     ]
    },
    {
     "name": "stdout",
     "output_type": "stream",
     "text": [
      "TYR\n"
     ]
    },
    {
     "name": "stderr",
     "output_type": "stream",
     "text": [
      "WARNING:geometry:\t\t\t\t\tchiral atom <Atom 8 (CA) of chain 0 residue 1 (VAL)> with neighbors [<Atom 9 (C) of chain 0 residue 1 (VAL)>, <Atom 6 (N) of chain 0 residue 1 (VAL)>, <Atom 11 (HA) of chain 0 residue 1 (VAL)>, <Atom 12 (CB) of chain 0 residue 1 (VAL)>] is surrounded by 3 core neighbors.  omitting chirality bias torsion\n"
     ]
    },
    {
     "name": "stdout",
     "output_type": "stream",
     "text": [
      "VAL\n"
     ]
    },
    {
     "name": "stderr",
     "output_type": "stream",
     "text": [
      "WARNING:geometry:\t\t\t\t\tchiral atom <Atom 8 (CA) of chain 0 residue 1 (ARG)> with neighbors [<Atom 9 (HA) of chain 0 residue 1 (ARG)>, <Atom 10 (CB) of chain 0 residue 1 (ARG)>, <Atom 13 (C) of chain 0 residue 1 (ARG)>, <Atom 6 (N) of chain 0 residue 1 (ARG)>] is surrounded by 3 core neighbors.  omitting chirality bias torsion\n"
     ]
    },
    {
     "name": "stdout",
     "output_type": "stream",
     "text": [
      "starting from: HIS\n",
      "allowed_mutations: ['ALA', 'ARG', 'ASN', 'ASP', 'CYS', 'GLN', 'GLU', 'GLY', 'ILE', 'LEU', 'LYS', 'MET', 'PHE', 'SER', 'THR', 'TRP', 'TYR', 'VAL']\n",
      "ALA\n",
      "ARG\n",
      "ASN\n",
      "ASP\n"
     ]
    },
    {
     "name": "stderr",
     "output_type": "stream",
     "text": [
      "WARNING:geometry:\t\t\t\t\tchiral atom <Atom 8 (CA) of chain 0 residue 1 (GLN)> with neighbors [<Atom 9 (HA) of chain 0 residue 1 (GLN)>, <Atom 10 (CB) of chain 0 residue 1 (GLN)>, <Atom 13 (C) of chain 0 residue 1 (GLN)>, <Atom 6 (N) of chain 0 residue 1 (GLN)>] is surrounded by 3 core neighbors.  omitting chirality bias torsion\n"
     ]
    },
    {
     "name": "stdout",
     "output_type": "stream",
     "text": [
      "CYS\n",
      "GLN\n"
     ]
    },
    {
     "name": "stderr",
     "output_type": "stream",
     "text": [
      "WARNING:geometry:\t\t\t\t\tchiral atom <Atom 8 (CA) of chain 0 residue 1 (GLU)> with neighbors [<Atom 9 (HA) of chain 0 residue 1 (GLU)>, <Atom 10 (CB) of chain 0 residue 1 (GLU)>, <Atom 13 (C) of chain 0 residue 1 (GLU)>, <Atom 6 (N) of chain 0 residue 1 (GLU)>] is surrounded by 3 core neighbors.  omitting chirality bias torsion\n"
     ]
    },
    {
     "name": "stdout",
     "output_type": "stream",
     "text": [
      "GLU\n"
     ]
    },
    {
     "name": "stderr",
     "output_type": "stream",
     "text": [
      "WARNING:proposal_generator:there may be a geometry problem!  It is advisable to conduct a manual atom map.\n"
     ]
    },
    {
     "name": "stdout",
     "output_type": "stream",
     "text": [
      "GLY\n",
      "ILE\n",
      "LEU\n",
      "LYS\n",
      "MET\n",
      "PHE\n"
     ]
    },
    {
     "name": "stderr",
     "output_type": "stream",
     "text": [
      "WARNING:proposal_generator:there may be a geometry problem!  It is advisable to conduct a manual atom map.\n"
     ]
    },
    {
     "name": "stdout",
     "output_type": "stream",
     "text": [
      "SER\n",
      "THR\n",
      "TRP\n",
      "TYR\n",
      "VAL\n",
      "starting from: ILE\n",
      "allowed_mutations: ['ALA', 'ARG', 'ASN', 'ASP', 'CYS', 'GLN', 'GLU', 'GLY', 'HIS', 'LEU', 'LYS', 'MET', 'PHE', 'SER', 'THR', 'TRP', 'TYR', 'VAL']\n",
      "ALA\n",
      "ARG\n",
      "ASN\n",
      "ASP\n",
      "CYS\n",
      "GLN\n",
      "GLU\n",
      "GLY\n",
      "HIS\n",
      "LEU\n",
      "LYS\n",
      "MET\n",
      "PHE\n",
      "SER\n",
      "THR\n",
      "TRP\n"
     ]
    },
    {
     "name": "stderr",
     "output_type": "stream",
     "text": [
      "WARNING:geometry:\t\t\t\t\tchiral atom <Atom 8 (CA) of chain 0 residue 1 (TYR)> with neighbors [<Atom 9 (HA) of chain 0 residue 1 (TYR)>, <Atom 10 (CB) of chain 0 residue 1 (TYR)>, <Atom 11 (C) of chain 0 residue 1 (TYR)>, <Atom 6 (N) of chain 0 residue 1 (TYR)>] is surrounded by 3 core neighbors.  omitting chirality bias torsion\n"
     ]
    },
    {
     "name": "stdout",
     "output_type": "stream",
     "text": [
      "TYR\n"
     ]
    },
    {
     "name": "stderr",
     "output_type": "stream",
     "text": [
      "WARNING:proposal_generator:the atom map cannot be reconciled with chirality preservation since no hydrogens can be deleted!  It is advisable to conduct a manual atom map.\n",
      "WARNING:geometry:\t\t\t\t\tchiral atom <Atom 8 (CA) of chain 0 residue 1 (VAL)> with neighbors [<Atom 9 (HA) of chain 0 residue 1 (VAL)>, <Atom 10 (CB) of chain 0 residue 1 (VAL)>, <Atom 11 (C) of chain 0 residue 1 (VAL)>, <Atom 6 (N) of chain 0 residue 1 (VAL)>] is surrounded by 3 core neighbors.  omitting chirality bias torsion\n"
     ]
    },
    {
     "name": "stdout",
     "output_type": "stream",
     "text": [
      "VAL\n",
      "starting from: LEU\n",
      "allowed_mutations: ['ALA', 'ARG', 'ASN', 'ASP', 'CYS', 'GLN', 'GLU', 'GLY', 'HIS', 'ILE', 'LYS', 'MET', 'PHE', 'SER', 'THR', 'TRP', 'TYR', 'VAL']\n",
      "ALA\n",
      "ARG\n",
      "ASN\n",
      "ASP\n",
      "CYS\n",
      "GLN\n",
      "GLU\n",
      "GLY\n",
      "HIS\n",
      "ILE\n"
     ]
    },
    {
     "name": "stderr",
     "output_type": "stream",
     "text": [
      "WARNING:geometry:\t\t\t\t\tchiral atom <Atom 8 (CA) of chain 0 residue 1 (LYS)> with neighbors [<Atom 9 (HA) of chain 0 residue 1 (LYS)>, <Atom 10 (CB) of chain 0 residue 1 (LYS)>, <Atom 13 (C) of chain 0 residue 1 (LYS)>, <Atom 6 (N) of chain 0 residue 1 (LYS)>] is surrounded by 3 core neighbors.  omitting chirality bias torsion\n"
     ]
    },
    {
     "name": "stdout",
     "output_type": "stream",
     "text": [
      "LYS\n"
     ]
    },
    {
     "name": "stderr",
     "output_type": "stream",
     "text": [
      "WARNING:geometry:\t\t\t\t\tchiral atom <Atom 8 (CA) of chain 0 residue 1 (MET)> with neighbors [<Atom 9 (HA) of chain 0 residue 1 (MET)>, <Atom 10 (CB) of chain 0 residue 1 (MET)>, <Atom 13 (C) of chain 0 residue 1 (MET)>, <Atom 6 (N) of chain 0 residue 1 (MET)>] is surrounded by 3 core neighbors.  omitting chirality bias torsion\n"
     ]
    },
    {
     "name": "stdout",
     "output_type": "stream",
     "text": [
      "MET\n",
      "PHE\n",
      "SER\n",
      "THR\n",
      "TRP\n",
      "TYR\n",
      "VAL\n",
      "starting from: LYS\n",
      "allowed_mutations: ['ALA', 'ARG', 'ASN', 'ASP', 'CYS', 'GLN', 'GLU', 'GLY', 'HIS', 'ILE', 'LEU', 'MET', 'PHE', 'SER', 'THR', 'TRP', 'TYR', 'VAL']\n",
      "ALA\n",
      "ARG\n",
      "ASN\n",
      "ASP\n",
      "CYS\n",
      "GLN\n",
      "GLU\n",
      "GLY\n",
      "HIS\n",
      "ILE\n"
     ]
    },
    {
     "name": "stderr",
     "output_type": "stream",
     "text": [
      "WARNING:geometry:\t\t\t\t\tchiral atom <Atom 8 (CA) of chain 0 residue 1 (LEU)> with neighbors [<Atom 9 (HA) of chain 0 residue 1 (LEU)>, <Atom 10 (CB) of chain 0 residue 1 (LEU)>, <Atom 13 (C) of chain 0 residue 1 (LEU)>, <Atom 6 (N) of chain 0 residue 1 (LEU)>] is surrounded by 3 core neighbors.  omitting chirality bias torsion\n"
     ]
    },
    {
     "name": "stdout",
     "output_type": "stream",
     "text": [
      "LEU\n",
      "MET\n",
      "PHE\n",
      "SER\n",
      "THR\n",
      "TRP\n",
      "TYR\n",
      "VAL\n",
      "starting from: MET\n",
      "allowed_mutations: ['ALA', 'ARG', 'ASN', 'ASP', 'CYS', 'GLN', 'GLU', 'GLY', 'HIS', 'ILE', 'LEU', 'LYS', 'PHE', 'SER', 'THR', 'TRP', 'TYR', 'VAL']\n",
      "ALA\n",
      "ARG\n",
      "ASN\n",
      "ASP\n",
      "CYS\n",
      "GLN\n",
      "GLU\n",
      "GLY\n",
      "HIS\n",
      "ILE\n"
     ]
    },
    {
     "name": "stderr",
     "output_type": "stream",
     "text": [
      "WARNING:geometry:\t\t\t\t\tchiral atom <Atom 8 (CA) of chain 0 residue 1 (LEU)> with neighbors [<Atom 9 (HA) of chain 0 residue 1 (LEU)>, <Atom 10 (CB) of chain 0 residue 1 (LEU)>, <Atom 13 (C) of chain 0 residue 1 (LEU)>, <Atom 6 (N) of chain 0 residue 1 (LEU)>] is surrounded by 3 core neighbors.  omitting chirality bias torsion\n"
     ]
    },
    {
     "name": "stdout",
     "output_type": "stream",
     "text": [
      "LEU\n",
      "LYS\n",
      "PHE\n",
      "SER\n",
      "THR\n",
      "TRP\n",
      "TYR\n",
      "VAL\n"
     ]
    },
    {
     "name": "stderr",
     "output_type": "stream",
     "text": [
      "WARNING:geometry:\t\t\t\t\tchiral atom <Atom 8 (CA) of chain 0 residue 1 (ARG)> with neighbors [<Atom 9 (HA) of chain 0 residue 1 (ARG)>, <Atom 10 (CB) of chain 0 residue 1 (ARG)>, <Atom 13 (C) of chain 0 residue 1 (ARG)>, <Atom 6 (N) of chain 0 residue 1 (ARG)>] is surrounded by 3 core neighbors.  omitting chirality bias torsion\n"
     ]
    },
    {
     "name": "stdout",
     "output_type": "stream",
     "text": [
      "starting from: PHE\n",
      "allowed_mutations: ['ALA', 'ARG', 'ASN', 'ASP', 'CYS', 'GLN', 'GLU', 'GLY', 'HIS', 'ILE', 'LEU', 'LYS', 'MET', 'SER', 'THR', 'TRP', 'TYR', 'VAL']\n",
      "ALA\n",
      "ARG\n",
      "ASN\n",
      "ASP\n"
     ]
    },
    {
     "name": "stderr",
     "output_type": "stream",
     "text": [
      "WARNING:geometry:\t\t\t\t\tchiral atom <Atom 8 (CA) of chain 0 residue 1 (GLN)> with neighbors [<Atom 9 (HA) of chain 0 residue 1 (GLN)>, <Atom 10 (CB) of chain 0 residue 1 (GLN)>, <Atom 13 (C) of chain 0 residue 1 (GLN)>, <Atom 6 (N) of chain 0 residue 1 (GLN)>] is surrounded by 3 core neighbors.  omitting chirality bias torsion\n"
     ]
    },
    {
     "name": "stdout",
     "output_type": "stream",
     "text": [
      "CYS\n",
      "GLN\n"
     ]
    },
    {
     "name": "stderr",
     "output_type": "stream",
     "text": [
      "WARNING:geometry:\t\t\t\t\tchiral atom <Atom 8 (CA) of chain 0 residue 1 (GLU)> with neighbors [<Atom 9 (HA) of chain 0 residue 1 (GLU)>, <Atom 10 (CB) of chain 0 residue 1 (GLU)>, <Atom 13 (C) of chain 0 residue 1 (GLU)>, <Atom 6 (N) of chain 0 residue 1 (GLU)>] is surrounded by 3 core neighbors.  omitting chirality bias torsion\n"
     ]
    },
    {
     "name": "stdout",
     "output_type": "stream",
     "text": [
      "GLU\n",
      "GLY\n",
      "HIS\n"
     ]
    },
    {
     "name": "stderr",
     "output_type": "stream",
     "text": [
      "WARNING:proposal_generator:there may be a geometry problem!  It is advisable to conduct a manual atom map.\n"
     ]
    },
    {
     "name": "stdout",
     "output_type": "stream",
     "text": [
      "ILE\n",
      "LEU\n",
      "LYS\n",
      "MET\n"
     ]
    },
    {
     "name": "stderr",
     "output_type": "stream",
     "text": [
      "WARNING:proposal_generator:there may be a geometry problem!  It is advisable to conduct a manual atom map.\n"
     ]
    },
    {
     "name": "stdout",
     "output_type": "stream",
     "text": [
      "SER\n",
      "THR\n",
      "TRP\n",
      "TYR\n",
      "VAL\n",
      "starting from: SER\n",
      "allowed_mutations: ['ALA', 'ARG', 'ASN', 'ASP', 'CYS', 'GLN', 'GLU', 'GLY', 'HIS', 'ILE', 'LEU', 'LYS', 'MET', 'PHE', 'THR', 'TRP', 'TYR', 'VAL']\n",
      "ALA\n",
      "ARG\n",
      "ASN\n",
      "ASP\n",
      "CYS\n",
      "GLN\n",
      "GLU\n",
      "GLY\n",
      "HIS\n",
      "ILE\n",
      "LEU\n",
      "LYS\n",
      "MET\n",
      "PHE\n",
      "THR\n",
      "TRP\n"
     ]
    },
    {
     "name": "stderr",
     "output_type": "stream",
     "text": [
      "WARNING:geometry:\t\t\t\t\tchiral atom <Atom 8 (CA) of chain 0 residue 1 (TYR)> with neighbors [<Atom 9 (HA) of chain 0 residue 1 (TYR)>, <Atom 10 (CB) of chain 0 residue 1 (TYR)>, <Atom 13 (C) of chain 0 residue 1 (TYR)>, <Atom 6 (N) of chain 0 residue 1 (TYR)>] is surrounded by 3 core neighbors.  omitting chirality bias torsion\n"
     ]
    },
    {
     "name": "stdout",
     "output_type": "stream",
     "text": [
      "TYR\n",
      "VAL\n",
      "starting from: THR\n",
      "allowed_mutations: ['ALA', 'ARG', 'ASN', 'ASP', 'CYS', 'GLN', 'GLU', 'GLY', 'HIS', 'ILE', 'LEU', 'LYS', 'MET', 'PHE', 'SER', 'TRP', 'TYR', 'VAL']\n",
      "ALA\n",
      "ARG\n",
      "ASN\n",
      "ASP\n",
      "CYS\n",
      "GLN\n",
      "GLU\n",
      "GLY\n",
      "HIS\n",
      "ILE\n",
      "LEU\n",
      "LYS\n",
      "MET\n",
      "PHE\n",
      "SER\n",
      "TRP\n"
     ]
    },
    {
     "name": "stderr",
     "output_type": "stream",
     "text": [
      "WARNING:geometry:\t\t\t\t\tchiral atom <Atom 8 (CA) of chain 0 residue 1 (TYR)> with neighbors [<Atom 9 (HA) of chain 0 residue 1 (TYR)>, <Atom 10 (CB) of chain 0 residue 1 (TYR)>, <Atom 11 (C) of chain 0 residue 1 (TYR)>, <Atom 6 (N) of chain 0 residue 1 (TYR)>] is surrounded by 3 core neighbors.  omitting chirality bias torsion\n"
     ]
    },
    {
     "name": "stdout",
     "output_type": "stream",
     "text": [
      "TYR\n"
     ]
    },
    {
     "name": "stderr",
     "output_type": "stream",
     "text": [
      "WARNING:proposal_generator:the atom map cannot be reconciled with chirality preservation since no hydrogens can be deleted!  It is advisable to conduct a manual atom map.\n",
      "WARNING:geometry:\t\t\t\t\tchiral atom <Atom 8 (CA) of chain 0 residue 1 (VAL)> with neighbors [<Atom 9 (HA) of chain 0 residue 1 (VAL)>, <Atom 10 (CB) of chain 0 residue 1 (VAL)>, <Atom 11 (C) of chain 0 residue 1 (VAL)>, <Atom 6 (N) of chain 0 residue 1 (VAL)>] is surrounded by 3 core neighbors.  omitting chirality bias torsion\n"
     ]
    },
    {
     "name": "stdout",
     "output_type": "stream",
     "text": [
      "VAL\n"
     ]
    },
    {
     "name": "stderr",
     "output_type": "stream",
     "text": [
      "WARNING:geometry:\t\t\t\t\tchiral atom <Atom 8 (CA) of chain 0 residue 1 (ARG)> with neighbors [<Atom 9 (HA) of chain 0 residue 1 (ARG)>, <Atom 10 (CB) of chain 0 residue 1 (ARG)>, <Atom 13 (C) of chain 0 residue 1 (ARG)>, <Atom 6 (N) of chain 0 residue 1 (ARG)>] is surrounded by 3 core neighbors.  omitting chirality bias torsion\n"
     ]
    },
    {
     "name": "stdout",
     "output_type": "stream",
     "text": [
      "starting from: TRP\n",
      "allowed_mutations: ['ALA', 'ARG', 'ASN', 'ASP', 'CYS', 'GLN', 'GLU', 'GLY', 'HIS', 'ILE', 'LEU', 'LYS', 'MET', 'PHE', 'SER', 'THR', 'TYR', 'VAL']\n",
      "ALA\n",
      "ARG\n",
      "ASN\n",
      "ASP\n"
     ]
    },
    {
     "name": "stderr",
     "output_type": "stream",
     "text": [
      "WARNING:geometry:\t\t\t\t\tchiral atom <Atom 8 (CA) of chain 0 residue 1 (GLN)> with neighbors [<Atom 9 (HA) of chain 0 residue 1 (GLN)>, <Atom 10 (CB) of chain 0 residue 1 (GLN)>, <Atom 13 (C) of chain 0 residue 1 (GLN)>, <Atom 6 (N) of chain 0 residue 1 (GLN)>] is surrounded by 3 core neighbors.  omitting chirality bias torsion\n"
     ]
    },
    {
     "name": "stdout",
     "output_type": "stream",
     "text": [
      "CYS\n",
      "GLN\n"
     ]
    },
    {
     "name": "stderr",
     "output_type": "stream",
     "text": [
      "WARNING:geometry:\t\t\t\t\tchiral atom <Atom 8 (CA) of chain 0 residue 1 (GLU)> with neighbors [<Atom 9 (HA) of chain 0 residue 1 (GLU)>, <Atom 10 (CB) of chain 0 residue 1 (GLU)>, <Atom 13 (C) of chain 0 residue 1 (GLU)>, <Atom 6 (N) of chain 0 residue 1 (GLU)>] is surrounded by 3 core neighbors.  omitting chirality bias torsion\n"
     ]
    },
    {
     "name": "stdout",
     "output_type": "stream",
     "text": [
      "GLU\n",
      "GLY\n",
      "HIS\n"
     ]
    },
    {
     "name": "stderr",
     "output_type": "stream",
     "text": [
      "WARNING:proposal_generator:there may be a geometry problem!  It is advisable to conduct a manual atom map.\n"
     ]
    },
    {
     "name": "stdout",
     "output_type": "stream",
     "text": [
      "ILE\n",
      "LEU\n",
      "LYS\n",
      "MET\n",
      "PHE\n"
     ]
    },
    {
     "name": "stderr",
     "output_type": "stream",
     "text": [
      "WARNING:proposal_generator:there may be a geometry problem!  It is advisable to conduct a manual atom map.\n"
     ]
    },
    {
     "name": "stdout",
     "output_type": "stream",
     "text": [
      "SER\n",
      "THR\n",
      "TYR\n",
      "VAL\n"
     ]
    },
    {
     "name": "stderr",
     "output_type": "stream",
     "text": [
      "WARNING:geometry:\t\t\t\t\tchiral atom <Atom 8 (CA) of chain 0 residue 1 (ARG)> with neighbors [<Atom 9 (HA) of chain 0 residue 1 (ARG)>, <Atom 10 (CB) of chain 0 residue 1 (ARG)>, <Atom 13 (C) of chain 0 residue 1 (ARG)>, <Atom 6 (N) of chain 0 residue 1 (ARG)>] is surrounded by 3 core neighbors.  omitting chirality bias torsion\n"
     ]
    },
    {
     "name": "stdout",
     "output_type": "stream",
     "text": [
      "starting from: TYR\n",
      "allowed_mutations: ['ALA', 'ARG', 'ASN', 'ASP', 'CYS', 'GLN', 'GLU', 'GLY', 'HIS', 'ILE', 'LEU', 'LYS', 'MET', 'PHE', 'SER', 'THR', 'TRP', 'VAL']\n",
      "ALA\n",
      "ARG\n",
      "ASN\n",
      "ASP\n"
     ]
    },
    {
     "name": "stderr",
     "output_type": "stream",
     "text": [
      "WARNING:geometry:\t\t\t\t\tchiral atom <Atom 8 (CA) of chain 0 residue 1 (GLN)> with neighbors [<Atom 9 (HA) of chain 0 residue 1 (GLN)>, <Atom 10 (CB) of chain 0 residue 1 (GLN)>, <Atom 13 (C) of chain 0 residue 1 (GLN)>, <Atom 6 (N) of chain 0 residue 1 (GLN)>] is surrounded by 3 core neighbors.  omitting chirality bias torsion\n"
     ]
    },
    {
     "name": "stdout",
     "output_type": "stream",
     "text": [
      "CYS\n",
      "GLN\n"
     ]
    },
    {
     "name": "stderr",
     "output_type": "stream",
     "text": [
      "WARNING:geometry:\t\t\t\t\tchiral atom <Atom 8 (CA) of chain 0 residue 1 (GLU)> with neighbors [<Atom 9 (HA) of chain 0 residue 1 (GLU)>, <Atom 10 (CB) of chain 0 residue 1 (GLU)>, <Atom 13 (C) of chain 0 residue 1 (GLU)>, <Atom 6 (N) of chain 0 residue 1 (GLU)>] is surrounded by 3 core neighbors.  omitting chirality bias torsion\n"
     ]
    },
    {
     "name": "stdout",
     "output_type": "stream",
     "text": [
      "GLU\n",
      "GLY\n",
      "HIS\n"
     ]
    },
    {
     "name": "stderr",
     "output_type": "stream",
     "text": [
      "WARNING:proposal_generator:there may be a geometry problem!  It is advisable to conduct a manual atom map.\n"
     ]
    },
    {
     "name": "stdout",
     "output_type": "stream",
     "text": [
      "ILE\n",
      "LEU\n",
      "LYS\n",
      "MET\n"
     ]
    },
    {
     "name": "stderr",
     "output_type": "stream",
     "text": [
      "WARNING:geometry:\t\t\t\t\tchiral atom <Atom 8 (CA) of chain 0 residue 1 (SER)> with neighbors [<Atom 9 (HA) of chain 0 residue 1 (SER)>, <Atom 10 (CB) of chain 0 residue 1 (SER)>, <Atom 13 (C) of chain 0 residue 1 (SER)>, <Atom 6 (N) of chain 0 residue 1 (SER)>] is surrounded by 3 core neighbors.  omitting chirality bias torsion\n"
     ]
    },
    {
     "name": "stdout",
     "output_type": "stream",
     "text": [
      "PHE\n",
      "SER\n"
     ]
    },
    {
     "name": "stderr",
     "output_type": "stream",
     "text": [
      "WARNING:proposal_generator:there may be a geometry problem!  It is advisable to conduct a manual atom map.\n",
      "WARNING:geometry:\t\t\t\t\tchiral atom <Atom 8 (CA) of chain 0 residue 1 (THR)> with neighbors [<Atom 9 (HA) of chain 0 residue 1 (THR)>, <Atom 10 (CB) of chain 0 residue 1 (THR)>, <Atom 11 (C) of chain 0 residue 1 (THR)>, <Atom 6 (N) of chain 0 residue 1 (THR)>] is surrounded by 3 core neighbors.  omitting chirality bias torsion\n"
     ]
    },
    {
     "name": "stdout",
     "output_type": "stream",
     "text": [
      "THR\n",
      "TRP\n",
      "VAL\n",
      "starting from: VAL\n",
      "allowed_mutations: ['ALA', 'ARG', 'ASN', 'ASP', 'CYS', 'GLN', 'GLU', 'GLY', 'HIS', 'ILE', 'LEU', 'LYS', 'MET', 'PHE', 'SER', 'THR', 'TRP', 'TYR']\n",
      "ALA\n",
      "ARG\n",
      "ASN\n",
      "ASP\n",
      "CYS\n",
      "GLN\n",
      "GLU\n",
      "GLY\n",
      "HIS\n"
     ]
    },
    {
     "name": "stderr",
     "output_type": "stream",
     "text": [
      "WARNING:proposal_generator:the atom map cannot be reconciled with chirality preservation!  It is advisable to conduct a manual atom map.\n",
      "WARNING:geometry:\t\t\t\t\tchiral atom <Atom 8 (CA) of chain 0 residue 1 (ILE)> with neighbors [<Atom 9 (HA) of chain 0 residue 1 (ILE)>, <Atom 10 (CB) of chain 0 residue 1 (ILE)>, <Atom 11 (C) of chain 0 residue 1 (ILE)>, <Atom 6 (N) of chain 0 residue 1 (ILE)>] is surrounded by 3 core neighbors.  omitting chirality bias torsion\n"
     ]
    },
    {
     "name": "stdout",
     "output_type": "stream",
     "text": [
      "ILE\n",
      "LEU\n",
      "LYS\n",
      "MET\n",
      "PHE\n"
     ]
    },
    {
     "name": "stderr",
     "output_type": "stream",
     "text": [
      "WARNING:proposal_generator:the atom map cannot be reconciled with chirality preservation!  It is advisable to conduct a manual atom map.\n",
      "WARNING:geometry:\t\t\t\t\tchiral atom <Atom 8 (CA) of chain 0 residue 1 (THR)> with neighbors [<Atom 9 (HA) of chain 0 residue 1 (THR)>, <Atom 10 (CB) of chain 0 residue 1 (THR)>, <Atom 11 (C) of chain 0 residue 1 (THR)>, <Atom 6 (N) of chain 0 residue 1 (THR)>] is surrounded by 3 core neighbors.  omitting chirality bias torsion\n"
     ]
    },
    {
     "name": "stdout",
     "output_type": "stream",
     "text": [
      "SER\n",
      "THR\n",
      "TRP\n"
     ]
    },
    {
     "name": "stderr",
     "output_type": "stream",
     "text": [
      "WARNING:geometry:\t\t\t\t\tchiral atom <Atom 8 (CA) of chain 0 residue 1 (TYR)> with neighbors [<Atom 9 (HA) of chain 0 residue 1 (TYR)>, <Atom 10 (CB) of chain 0 residue 1 (TYR)>, <Atom 11 (C) of chain 0 residue 1 (TYR)>, <Atom 6 (N) of chain 0 residue 1 (TYR)>] is surrounded by 3 core neighbors.  omitting chirality bias torsion\n"
     ]
    },
    {
     "name": "stdout",
     "output_type": "stream",
     "text": [
      "TYR\n"
     ]
    }
   ],
   "source": [
    "from_alanine_results = run_pipeline(atp.topology, atp.system, atp.positions, system_generator, 'ALA')\n",
    "_rest_to_remove = ['ALA', 'ARG', 'ASN', 'ASP', 'CYS', 'GLN', 'GLU','GLY','HIS','ILE','LEU','LYS', 'MET', 'PHE', 'SER', 'THR', 'TRP', 'TYR','VAL']\n",
    "_all_results = [from_alanine_results]\n",
    "for _next_mutation in _rest_to_remove[1:]:\n",
    "    print(f\"starting from: {_next_mutation}\")\n",
    "    topology, system, positions = from_alanine_results[('ALA', _next_mutation)][0]._new_topology, from_alanine_results[('ALA', _next_mutation)][0]._new_system, from_alanine_results[('ALA', _next_mutation)][1]._new_positions\n",
    "    _all_results.append(run_pipeline(topology, system, positions, system_generator, _next_mutation))"
   ]
  },
  {
   "cell_type": "code",
   "execution_count": 8,
   "metadata": {},
   "outputs": [
    {
     "data": {
      "text/plain": [
       "0"
      ]
     },
     "execution_count": 8,
     "metadata": {},
     "output_type": "execute_result"
    }
   ],
   "source": [
    "#let's group all of these into a single file\n",
    "os.system(f\"mkdir sidechain_maps\")"
   ]
  },
  {
   "cell_type": "code",
   "execution_count": 9,
   "metadata": {},
   "outputs": [
    {
     "data": {
      "text/plain": [
       "0"
      ]
     },
     "execution_count": 9,
     "metadata": {},
     "output_type": "execute_result"
    }
   ],
   "source": [
    "os.system(f\"mv *.png sidechain_maps\")"
   ]
  },
  {
   "cell_type": "markdown",
   "metadata": {},
   "source": [
    "CA warnings in the geometry proposal are indeed a consequence of the following:\n",
    "    when the CB does not map, but all of the other backbones do, and the CA is chiral (which is in every case with the exception of GLY), then 3 valencies of 4 are filled, so a chiral improper torsion can place the CB into the wrong       orientation, which could cause a steric clash.  if 3/4 valencies are occupied on a core or unique new atom, then a bias torsion will not be used to place the atoms.\n"
   ]
  },
  {
   "cell_type": "markdown",
   "metadata": {},
   "source": [
    "i also think that the topology proposal warnings: \"WARNING:proposal_generator:there may be a geometry problem!  It is advisable to conduct a manual atom map.\" are a consequence of the class running into an error with chiral atom placements/exchanges (the method is not exactly robust, as it only checks the neighbors of atoms to retain chirality).  on the other hand, if the transformation fails to find any atom maps, it will return an empty dict.  in the event of protein changes, this is not strictly terrible since the backbone still maps, so the simulation should still be able to run"
   ]
  },
  {
   "cell_type": "markdown",
   "metadata": {},
   "source": [
    "a note on limitations: HIS is problematic, since there are two tautomers; also, titratable residues have single atom maps, which are always in their physiologically dominant forms.  charge perturbations are also not yet supported"
   ]
  },
  {
   "cell_type": "markdown",
   "metadata": {},
   "source": [
    "## Now that we can make a mapping that won't fail, we should try to see if we can make a simple repex simulation run!!!"
   ]
  },
  {
   "cell_type": "markdown",
   "metadata": {},
   "source": [
    "go to _protein_test_mutation.ipynb_"
   ]
  },
  {
   "cell_type": "code",
   "execution_count": null,
   "metadata": {},
   "outputs": [],
   "source": []
  }
 ],
 "metadata": {
  "kernelspec": {
   "display_name": "Python 3",
   "language": "python",
   "name": "python3"
  },
  "language_info": {
   "codemirror_mode": {
    "name": "ipython",
    "version": 3
   },
   "file_extension": ".py",
   "mimetype": "text/x-python",
   "name": "python",
   "nbconvert_exporter": "python",
   "pygments_lexer": "ipython3",
   "version": "3.6.8"
  }
 },
 "nbformat": 4,
 "nbformat_minor": 4
}
