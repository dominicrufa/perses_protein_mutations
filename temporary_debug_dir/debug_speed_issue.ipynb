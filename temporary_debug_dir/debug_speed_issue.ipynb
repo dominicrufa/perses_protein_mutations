{
 "cells": [
  {
   "cell_type": "markdown",
   "metadata": {},
   "source": [
    "here, i i will attempt to find the bug that is preventing certain protein mutations from running quickly..."
   ]
  },
  {
   "cell_type": "code",
   "execution_count": 1,
   "metadata": {},
   "outputs": [
    {
     "name": "stdout",
     "output_type": "stream",
     "text": [
      "conducting subsequent work with the following platform: CUDA\n",
      "conducting subsequent work with the following platform: CUDA\n",
      "conducting subsequent work with the following platform: CUDA\n"
     ]
    }
   ],
   "source": [
    "import simtk.openmm as openmm\n",
    "from openmmtools.constants import kB\n",
    "import simtk.unit as unit\n",
    "temperature = 300 * unit.kelvin\n",
    "kT = kB * temperature\n",
    "beta = 1.0/kT\n",
    "from perses.rjmc.topology_proposal import TopologyProposal, NetworkXMolecule\n",
    "from openmmtools.states import ThermodynamicState, SamplerState, CompoundThermodynamicState\n",
    "from openmmtools import mcmc, utils\n",
    "import openmmtools.cache as cache\n",
    "from perses.dispersed.utils import configure_platform\n",
    "#cache.global_context_cache.platform = configure_platform(utils.get_fastest_platform().getName())\n",
    "from perses.annihilation.lambda_protocol import LambdaProtocol\n",
    "from perses.annihilation.lambda_protocol import RelativeAlchemicalState, LambdaProtocol\n",
    "import openmmtools.integrators as integrators\n",
    "from protein_test_cycle import *"
   ]
  },
  {
   "cell_type": "code",
   "execution_count": 2,
   "metadata": {},
   "outputs": [],
   "source": [
    "def create_hss(reporter_name, hybrid_factory, selection_string ='all', checkpoint_interval = 1, n_states = 13):\n",
    "    lambda_protocol = LambdaProtocol(functions='default')\n",
    "    reporter = MultiStateReporter(reporter_name, analysis_particle_indices = hybrid_factory.hybrid_topology.select(selection_string), checkpoint_interval = checkpoint_interval)\n",
    "    hss = HybridRepexSampler(mcmc_moves=mcmc.LangevinSplittingDynamicsMove(timestep= 4.0 * unit.femtoseconds,\n",
    "                                                                                 collision_rate=5.0 / unit.picosecond,\n",
    "                                                                                 n_steps=250,\n",
    "                                                                                 reassign_velocities=False,\n",
    "                                                                                 n_restart_attempts=20,\n",
    "                                                                                 splitting=\"V R R R O R R R V\",\n",
    "                                                                                 constraint_tolerance=1e-06),\n",
    "                                                                                 hybrid_factory=hybrid_factory, online_analysis_interval=10)\n",
    "    hss.setup(n_states=n_states, temperature=300*unit.kelvin,storage_file=reporter,lambda_protocol=lambda_protocol,endstates=False)\n",
    "    return hss, reporter"
   ]
  },
  {
   "cell_type": "code",
   "execution_count": 3,
   "metadata": {},
   "outputs": [],
   "source": [
    "def deserialize(filename):\n",
    "    import pickle\n",
    "    with open(filename, 'rb') as f:\n",
    "        htf = pickle.load(f)\n",
    "    return htf\n",
    "\n"
   ]
  },
  {
   "cell_type": "code",
   "execution_count": 4,
   "metadata": {},
   "outputs": [
    {
     "name": "stderr",
     "output_type": "stream",
     "text": [
      "/home/rufad/miniconda3/envs/openmm/lib/python3.6/site-packages/openmmtools-0.18.3+0.g6cf88cc.dirty-py3.6-linux-x86_64.egg/openmmtools/multistate/multistatereporter.py:116: UserWarning: Warning: The openmmtools.multistate API is experimental and may change in future releases\n",
      "  warnings.warn('Warning: The openmmtools.multistate API is experimental and may change in future releases')\n",
      "DEBUG:openmmtools.multistate.multistatereporter:Initial checkpoint file automatically chosen as fast_debug_checkpoint.nc\n",
      "/home/rufad/miniconda3/envs/openmm/lib/python3.6/site-packages/openmmtools-0.18.3+0.g6cf88cc.dirty-py3.6-linux-x86_64.egg/openmmtools/multistate/multistatesampler.py:145: UserWarning: Warning: The openmmtools.multistate API is experimental and may change in future releases\n",
      "  warnings.warn('Warning: The openmmtools.multistate API is experimental and may change in future releases')\n",
      "INFO:perses.samplers.multistate:n_replicas not defined, setting to match n_states, 13\n",
      "DEBUG:mpiplus.mpiplus:Cannot find MPI environment. MPI disabled.\n",
      "DEBUG:mpiplus.mpiplus:Single node: executing <bound method MultiStateReporter.storage_exists of <openmmtools.multistate.multistatereporter.MultiStateReporter object at 0x2b9267f5c0f0>>\n",
      "DEBUG:mpiplus.mpiplus:Single node: executing <function ReplicaExchangeSampler._display_citations at 0x2b925440e0d0>\n",
      "DEBUG:mpiplus.mpiplus:Single node: executing <function MultiStateSampler._display_citations at 0x2b92543cd2f0>\n",
      "DEBUG:mpiplus.mpiplus:Single node: executing <function MultiStateSampler._initialize_reporter at 0x2b92543cd598>\n",
      "DEBUG:openmmtools.multistate.multistatereporter:Serialized state thermodynamic_states/0 is  42913B | 41.907KB | 0.041MB\n",
      "DEBUG:openmmtools.utils:Storing thermodynamic states took    0.108s\n",
      "DEBUG:openmmtools.multistate.multistatesampler:Storing general ReplicaExchange options...\n",
      "DEBUG:mpiplus.mpiplus:Single node: executing <function MultiStateSampler._report_iteration at 0x2b92543cd6a8>\n",
      "DEBUG:mpiplus.mpiplus:Single node: executing <function MultiStateSampler._report_iteration_items at 0x2b92543cd950>\n",
      "DEBUG:openmmtools.utils:Storing sampler states took    0.013s\n",
      "DEBUG:openmmtools.utils:Writing iteration information to storage took    0.047s\n"
     ]
    },
    {
     "name": "stdout",
     "output_type": "stream",
     "text": [
      "Please cite the following:\n",
      "\n",
      "        Friedrichs MS, Eastman P, Vaidyanathan V, Houston M, LeGrand S, Beberg AL, Ensign DL, Bruns CM, and Pande VS. Accelerating molecular dynamic simulations on graphics processing unit. J. Comput. Chem. 30:864, 2009. DOI: 10.1002/jcc.21209\n",
      "        Eastman P and Pande VS. OpenMM: A hardware-independent framework for molecular simulations. Comput. Sci. Eng. 12:34, 2010. DOI: 10.1109/MCSE.2010.27\n",
      "        Eastman P and Pande VS. Efficient nonbonded interactions for molecular dynamics on a graphics processing unit. J. Comput. Chem. 31:1268, 2010. DOI: 10.1002/jcc.21413\n",
      "        Eastman P and Pande VS. Constant constraint matrix approximation: A robust, parallelizable constraint method for molecular simulations. J. Chem. Theor. Comput. 6:434, 2010. DOI: 10.1021/ct900463w\n",
      "        Chodera JD and Shirts MR. Replica exchange and expanded ensemble simulations as Gibbs multistate: Simple improvements for enhanced mixing. J. Chem. Phys., 135:194110, 2011. DOI:10.1063/1.3660669\n",
      "        \n"
     ]
    },
    {
     "name": "stderr",
     "output_type": "stream",
     "text": [
      "DEBUG:openmmtools.multistate.multistatereporter:Initial checkpoint file automatically chosen as slow_debug_checkpoint.nc\n",
      "INFO:perses.samplers.multistate:n_replicas not defined, setting to match n_states, 13\n",
      "DEBUG:mpiplus.mpiplus:Single node: executing <bound method MultiStateReporter.storage_exists of <openmmtools.multistate.multistatereporter.MultiStateReporter object at 0x2b9267b87550>>\n",
      "DEBUG:mpiplus.mpiplus:Single node: executing <function ReplicaExchangeSampler._display_citations at 0x2b925440e0d0>\n",
      "DEBUG:mpiplus.mpiplus:Single node: executing <function MultiStateSampler._display_citations at 0x2b92543cd2f0>\n",
      "DEBUG:mpiplus.mpiplus:Single node: executing <function MultiStateSampler._initialize_reporter at 0x2b92543cd598>\n",
      "DEBUG:openmmtools.multistate.multistatereporter:Serialized state thermodynamic_states/0 is  44445B | 43.403KB | 0.042MB\n",
      "DEBUG:openmmtools.utils:Storing thermodynamic states took    0.107s\n",
      "DEBUG:openmmtools.multistate.multistatesampler:Storing general ReplicaExchange options...\n",
      "DEBUG:mpiplus.mpiplus:Single node: executing <function MultiStateSampler._report_iteration at 0x2b92543cd6a8>\n",
      "DEBUG:mpiplus.mpiplus:Single node: executing <function MultiStateSampler._report_iteration_items at 0x2b92543cd950>\n",
      "DEBUG:openmmtools.utils:Storing sampler states took    0.013s\n",
      "DEBUG:openmmtools.utils:Writing iteration information to storage took    0.051s\n"
     ]
    },
    {
     "name": "stdout",
     "output_type": "stream",
     "text": [
      "Please cite the following:\n",
      "\n",
      "        Friedrichs MS, Eastman P, Vaidyanathan V, Houston M, LeGrand S, Beberg AL, Ensign DL, Bruns CM, and Pande VS. Accelerating molecular dynamic simulations on graphics processing unit. J. Comput. Chem. 30:864, 2009. DOI: 10.1002/jcc.21209\n",
      "        Eastman P and Pande VS. OpenMM: A hardware-independent framework for molecular simulations. Comput. Sci. Eng. 12:34, 2010. DOI: 10.1109/MCSE.2010.27\n",
      "        Eastman P and Pande VS. Efficient nonbonded interactions for molecular dynamics on a graphics processing unit. J. Comput. Chem. 31:1268, 2010. DOI: 10.1002/jcc.21413\n",
      "        Eastman P and Pande VS. Constant constraint matrix approximation: A robust, parallelizable constraint method for molecular simulations. J. Chem. Theor. Comput. 6:434, 2010. DOI: 10.1021/ct900463w\n",
      "        Chodera JD and Shirts MR. Replica exchange and expanded ensemble simulations as Gibbs multistate: Simple improvements for enhanced mixing. J. Chem. Phys., 135:194110, 2011. DOI:10.1063/1.3660669\n",
      "        \n"
     ]
    }
   ],
   "source": [
    "fast_htf = deserialize('ALA_SER.sol.pkl')\n",
    "slow_htf = deserialize('ALA_ILE.sol.pkl') \n",
    "fast_hss, _ = create_hss(f\"fast_debug.nc\", fast_htf)\n",
    "slow_hss, _ = create_hss(f\"slow_debug.nc\", slow_htf)"
   ]
  },
  {
   "cell_type": "code",
   "execution_count": 6,
   "metadata": {},
   "outputs": [
    {
     "name": "stderr",
     "output_type": "stream",
     "text": [
      "DEBUG:mpiplus.mpiplus:Single node: executing <bound method MultiStateSampler._store_options of <instance of HybridRepexSampler>>\n",
      "DEBUG:openmmtools.multistate.multistatesampler:Storing general ReplicaExchange options...\n",
      "DEBUG:openmmtools.multistate.multistatesampler:********************************************************************************\n",
      "DEBUG:openmmtools.multistate.multistatesampler:Iteration 2/3\n",
      "DEBUG:openmmtools.multistate.multistatesampler:********************************************************************************\n",
      "DEBUG:mpiplus.mpiplus:Single node: executing <function ReplicaExchangeSampler._mix_replicas at 0x2b9254413d08>\n",
      "DEBUG:openmmtools.multistate.replicaexchange:Mixing replicas...\n",
      "DEBUG:openmmtools.utils:Mixing of replicas took    0.003s\n",
      "DEBUG:openmmtools.multistate.replicaexchange:Accepted 16158/57122 attempted swaps (28.3%)\n",
      "DEBUG:openmmtools.multistate.multistatesampler:Propagating all replicas...\n",
      "DEBUG:mpiplus.mpiplus:Running _propagate_replica serially.\n",
      "DEBUG:mpiplus.mpiplus:Running _get_replica_move_statistics serially.\n",
      "DEBUG:openmmtools.utils:Propagating all replicas took    2.073s\n",
      "DEBUG:mpiplus.mpiplus:Running _compute_replica_energies serially.\n",
      "DEBUG:openmmtools.utils:Computing energy matrix took    0.115s\n",
      "DEBUG:mpiplus.mpiplus:Single node: executing <function MultiStateSampler._report_iteration at 0x2b92543cd6a8>\n",
      "DEBUG:mpiplus.mpiplus:Single node: executing <function MultiStateSampler._report_iteration_items at 0x2b92543cd950>\n",
      "DEBUG:openmmtools.utils:Storing sampler states took    0.009s\n",
      "DEBUG:openmmtools.utils:Writing iteration information to storage took    0.037s\n",
      "DEBUG:openmmtools.multistate.multistatesampler:Not enough iterations for online analysis (self.online_analysis_minimum_iterations = 200)\n",
      "DEBUG:mpiplus.mpiplus:Single node: executing <function MultiStateSampler._online_analysis at 0x2b92543d0488>\n",
      "DEBUG:openmmtools.multistate.multistatesampler:*** ONLINE analysis free energies:\n",
      "DEBUG:openmmtools.multistate.multistatesampler:        -0.0    -0.2    -0.4    -0.3    -0.3    -1.4    -5.6    -0.0     0.2     0.2     0.2     0.1    -0.1\n",
      "DEBUG:openmmtools.utils:Computing online free energy estimate took    0.006s\n",
      "DEBUG:openmmtools.multistate.multistatesampler:Iteration took 2.265s.\n",
      "DEBUG:openmmtools.multistate.multistatesampler:Estimated completion in 0:00:02.268724, at Tue Feb  4 11:02:13 2020 (consuming total wall clock time 0:00:06.806173).\n",
      "DEBUG:openmmtools.multistate.multistatesampler:********************************************************************************\n",
      "DEBUG:openmmtools.multistate.multistatesampler:Iteration 3/3\n",
      "DEBUG:openmmtools.multistate.multistatesampler:********************************************************************************\n",
      "DEBUG:mpiplus.mpiplus:Single node: executing <function ReplicaExchangeSampler._mix_replicas at 0x2b9254413d08>\n",
      "DEBUG:openmmtools.multistate.replicaexchange:Mixing replicas...\n",
      "DEBUG:openmmtools.utils:Mixing of replicas took    0.002s\n",
      "DEBUG:openmmtools.multistate.replicaexchange:Accepted 13676/57122 attempted swaps (23.9%)\n",
      "DEBUG:openmmtools.multistate.multistatesampler:Propagating all replicas...\n",
      "DEBUG:mpiplus.mpiplus:Running _propagate_replica serially.\n",
      "DEBUG:mpiplus.mpiplus:Running _get_replica_move_statistics serially.\n",
      "DEBUG:openmmtools.utils:Propagating all replicas took    1.999s\n",
      "DEBUG:mpiplus.mpiplus:Running _compute_replica_energies serially.\n",
      "DEBUG:openmmtools.utils:Computing energy matrix took    0.123s\n",
      "DEBUG:mpiplus.mpiplus:Single node: executing <function MultiStateSampler._report_iteration at 0x2b92543cd6a8>\n",
      "DEBUG:mpiplus.mpiplus:Single node: executing <function MultiStateSampler._report_iteration_items at 0x2b92543cd950>\n",
      "DEBUG:openmmtools.utils:Storing sampler states took    0.009s\n",
      "DEBUG:openmmtools.utils:Writing iteration information to storage took    0.037s\n",
      "DEBUG:openmmtools.multistate.multistatesampler:Not enough iterations for online analysis (self.online_analysis_minimum_iterations = 200)\n",
      "DEBUG:mpiplus.mpiplus:Single node: executing <function MultiStateSampler._online_analysis at 0x2b92543d0488>\n",
      "DEBUG:openmmtools.multistate.multistatesampler:*** ONLINE analysis free energies:\n",
      "DEBUG:openmmtools.multistate.multistatesampler:        -0.0    -0.3    -0.6    -0.5    -0.4    -1.7    -6.9    -0.0     0.2     0.2     0.2     0.1    -0.4\n",
      "DEBUG:openmmtools.utils:Computing online free energy estimate took    0.006s\n",
      "DEBUG:openmmtools.multistate.multistatesampler:Iteration took 2.187s.\n",
      "DEBUG:openmmtools.multistate.multistatesampler:Estimated completion in 0:00:00, at Tue Feb  4 11:02:13 2020 (consuming total wall clock time 0:00:06.697544).\n",
      "DEBUG:mpiplus.mpiplus:Single node: executing <bound method MultiStateSampler._store_options of <instance of HybridRepexSampler>>\n",
      "DEBUG:openmmtools.multistate.multistatesampler:Storing general ReplicaExchange options...\n",
      "DEBUG:openmmtools.multistate.multistatesampler:********************************************************************************\n",
      "DEBUG:openmmtools.multistate.multistatesampler:Iteration 2/3\n",
      "DEBUG:openmmtools.multistate.multistatesampler:********************************************************************************\n",
      "DEBUG:mpiplus.mpiplus:Single node: executing <function ReplicaExchangeSampler._mix_replicas at 0x2b9254413d08>\n",
      "DEBUG:openmmtools.multistate.replicaexchange:Mixing replicas...\n",
      "DEBUG:openmmtools.utils:Mixing of replicas took    0.002s\n",
      "DEBUG:openmmtools.multistate.replicaexchange:Accepted 21384/57122 attempted swaps (37.4%)\n",
      "DEBUG:openmmtools.multistate.multistatesampler:Propagating all replicas...\n",
      "DEBUG:mpiplus.mpiplus:Running _propagate_replica serially.\n"
     ]
    },
    {
     "name": "stdout",
     "output_type": "stream",
     "text": [
      "%%%%%%%%%%%%%%%%%%%%%%%%%%%%%%\n"
     ]
    },
    {
     "name": "stderr",
     "output_type": "stream",
     "text": [
      "DEBUG:mpiplus.mpiplus:Running _get_replica_move_statistics serially.\n",
      "DEBUG:openmmtools.utils:Propagating all replicas took   10.416s\n",
      "DEBUG:mpiplus.mpiplus:Running _compute_replica_energies serially.\n",
      "DEBUG:openmmtools.utils:Computing energy matrix took    0.122s\n",
      "DEBUG:mpiplus.mpiplus:Single node: executing <function MultiStateSampler._report_iteration at 0x2b92543cd6a8>\n",
      "DEBUG:mpiplus.mpiplus:Single node: executing <function MultiStateSampler._report_iteration_items at 0x2b92543cd950>\n",
      "DEBUG:openmmtools.utils:Storing sampler states took    0.010s\n",
      "DEBUG:openmmtools.utils:Writing iteration information to storage took    0.038s\n",
      "DEBUG:openmmtools.multistate.multistatesampler:Not enough iterations for online analysis (self.online_analysis_minimum_iterations = 200)\n",
      "DEBUG:mpiplus.mpiplus:Single node: executing <function MultiStateSampler._online_analysis at 0x2b92543d0488>\n",
      "DEBUG:openmmtools.multistate.multistatesampler:*** ONLINE analysis free energies:\n",
      "DEBUG:openmmtools.multistate.multistatesampler:        -0.0    -0.8    -0.6    -0.0     0.2    -0.4    -4.0     0.5     0.7     0.7     0.7     0.7     0.7\n",
      "DEBUG:openmmtools.utils:Computing online free energy estimate took    0.006s\n",
      "DEBUG:openmmtools.multistate.multistatesampler:Iteration took 10.604s.\n",
      "DEBUG:openmmtools.multistate.multistatesampler:Estimated completion in 0:00:10.609951, at Tue Feb  4 11:02:35 2020 (consuming total wall clock time 0:00:31.829854).\n",
      "DEBUG:openmmtools.multistate.multistatesampler:********************************************************************************\n",
      "DEBUG:openmmtools.multistate.multistatesampler:Iteration 3/3\n",
      "DEBUG:openmmtools.multistate.multistatesampler:********************************************************************************\n",
      "DEBUG:mpiplus.mpiplus:Single node: executing <function ReplicaExchangeSampler._mix_replicas at 0x2b9254413d08>\n",
      "DEBUG:openmmtools.multistate.replicaexchange:Mixing replicas...\n",
      "DEBUG:openmmtools.utils:Mixing of replicas took    0.002s\n",
      "DEBUG:openmmtools.multistate.replicaexchange:Accepted 17958/57122 attempted swaps (31.4%)\n",
      "DEBUG:openmmtools.multistate.multistatesampler:Propagating all replicas...\n",
      "DEBUG:mpiplus.mpiplus:Running _propagate_replica serially.\n",
      "DEBUG:mpiplus.mpiplus:Running _get_replica_move_statistics serially.\n",
      "DEBUG:openmmtools.utils:Propagating all replicas took   10.367s\n",
      "DEBUG:mpiplus.mpiplus:Running _compute_replica_energies serially.\n",
      "DEBUG:openmmtools.utils:Computing energy matrix took    0.116s\n",
      "DEBUG:mpiplus.mpiplus:Single node: executing <function MultiStateSampler._report_iteration at 0x2b92543cd6a8>\n",
      "DEBUG:mpiplus.mpiplus:Single node: executing <function MultiStateSampler._report_iteration_items at 0x2b92543cd950>\n",
      "DEBUG:openmmtools.utils:Storing sampler states took    0.010s\n",
      "DEBUG:openmmtools.utils:Writing iteration information to storage took    0.037s\n",
      "DEBUG:openmmtools.multistate.multistatesampler:Not enough iterations for online analysis (self.online_analysis_minimum_iterations = 200)\n",
      "DEBUG:mpiplus.mpiplus:Single node: executing <function MultiStateSampler._online_analysis at 0x2b92543d0488>\n",
      "DEBUG:openmmtools.multistate.multistatesampler:*** ONLINE analysis free energies:\n",
      "DEBUG:openmmtools.multistate.multistatesampler:        -0.0    -1.2    -0.6     0.1     0.3    -0.6    -5.4     0.6     0.9     0.9     0.9     0.9     0.9\n",
      "DEBUG:openmmtools.utils:Computing online free energy estimate took    0.006s\n",
      "DEBUG:openmmtools.multistate.multistatesampler:Iteration took 10.549s.\n",
      "DEBUG:openmmtools.multistate.multistatesampler:Estimated completion in 0:00:00, at Tue Feb  4 11:02:35 2020 (consuming total wall clock time 0:00:31.752213).\n"
     ]
    }
   ],
   "source": [
    "fast_hss.extend(2)\n",
    "print(f\"%%%%%%%%%%%%%%%%%%%%%%%%%%%%%%\")\n",
    "slow_hss.extend(2)"
   ]
  },
  {
   "cell_type": "code",
   "execution_count": null,
   "metadata": {},
   "outputs": [],
   "source": [
    "# fast_lambda_alchemical_state = RelativeAlchemicalState.from_system(fast_htf.hybrid_system)\n",
    "# fast_lambda_alchemical_state.set_alchemical_parameters(0.0, LambdaProtocol(functions = 'default'))\n",
    "\n",
    "# slow_lambda_alchemical_state = RelativeAlchemicalState.from_system(slow_htf.hybrid_system)\n",
    "# slow_lambda_alchemical_state.set_alchemical_parameters(0.0, LambdaProtocol(functions = 'default'))\n",
    "\n",
    "# fast_thermodynamic_state = CompoundThermodynamicState(ThermodynamicState(fast_htf.hybrid_system, temperature = temperature),composable_states = [fast_lambda_alchemical_state])\n",
    "# slow_thermodynamic_state = CompoundThermodynamicState(ThermodynamicState(slow_htf.hybrid_system, temperature = temperature),composable_states = [slow_lambda_alchemical_state])\n",
    "\n",
    "# fast_sampler_state = SamplerState(positions = fast_htf._hybrid_positions, box_vectors=fast_htf.hybrid_system.getDefaultPeriodicBoxVectors())\n",
    "# slow_sampler_state = SamplerState(positions = slow_htf._hybrid_positions, box_vectors=slow_htf.hybrid_system.getDefaultPeriodicBoxVectors())\n",
    "\n",
    "# integrator_1 = integrators.LangevinIntegrator(temperature = temperature,\n",
    "#                                                  timestep = 4.0* unit.femtoseconds,\n",
    "#                                                  splitting = 'V R O R V',\n",
    "#                                                  measure_shadow_work = False,\n",
    "#                                                  measure_heat = False,\n",
    "#                                                  constraint_tolerance = 1e-6,\n",
    "#                                                  collision_rate = 5.0 / unit.picoseconds)\n",
    "\n",
    "# integrator_2 = integrators.LangevinIntegrator(temperature = temperature,\n",
    "#                                                  timestep = 4.0* unit.femtoseconds,\n",
    "#                                                  splitting = 'V R O R V',\n",
    "#                                                  measure_shadow_work = False,\n",
    "#                                                  measure_heat = False,\n",
    "#                                                  constraint_tolerance = 1e-6,\n",
    "#                                                  collision_rate = 5.0 / unit.picoseconds)\n",
    "\n",
    "\n",
    "# fast_context, fast_integrator = cache.global_context_cache.get_context(fast_thermodynamic_state, integrator_1)\n",
    "# slow_context, slow_integrator = cache.global_context_cache.get_context(slow_thermodynamic_state, integrator_2)\n",
    "\n",
    "# fast_sampler_state.apply_to_context(fast_context)\n",
    "# slow_sampler_state.apply_to_context(slow_context)"
   ]
  },
  {
   "cell_type": "markdown",
   "metadata": {},
   "source": [
    "perhaps if we remove the constraints, it will run faster?\n"
   ]
  },
  {
   "cell_type": "code",
   "execution_count": null,
   "metadata": {},
   "outputs": [],
   "source": []
  }
 ],
 "metadata": {
  "kernelspec": {
   "display_name": "Python 3",
   "language": "python",
   "name": "python3"
  },
  "language_info": {
   "codemirror_mode": {
    "name": "ipython",
    "version": 3
   },
   "file_extension": ".py",
   "mimetype": "text/x-python",
   "name": "python",
   "nbconvert_exporter": "python",
   "pygments_lexer": "ipython3",
   "version": "3.6.8"
  }
 },
 "nbformat": 4,
 "nbformat_minor": 4
}
