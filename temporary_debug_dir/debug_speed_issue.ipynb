{
 "cells": [
  {
   "cell_type": "markdown",
   "metadata": {},
   "source": [
    "here, i i will attempt to find the bug that is preventing certain protein mutations from running quickly..."
   ]
  },
  {
   "cell_type": "code",
   "execution_count": 1,
   "metadata": {},
   "outputs": [
    {
     "name": "stderr",
     "output_type": "stream",
     "text": [
      "/home/rufad/miniconda3/envs/openmm/lib/python3.6/site-packages/perses-0.4.0-py3.6.egg/perses/rjmc/coordinate_numba.py:14: NumbaPerformanceWarning: np.dot() is faster on contiguous arrays, called on (array(float64, 1d, A), array(float64, 1d, A))\n",
      "  n_2 = np.dot(a, a)\n",
      "/home/rufad/miniconda3/envs/openmm/lib/python3.6/site-packages/perses-0.4.0-py3.6.egg/perses/rjmc/coordinate_numba.py:65: NumbaPerformanceWarning: np.dot() is faster on contiguous arrays, called on (array(float64, 2d, A), array(float64, 1d, C))\n",
      "  d_ang = np.dot(angle_rotation_matrix, d_r)\n",
      "/home/rufad/miniconda3/envs/openmm/lib/python3.6/site-packages/perses-0.4.0-py3.6.egg/perses/rjmc/coordinate_numba.py:71: NumbaPerformanceWarning: np.dot() is faster on contiguous arrays, called on (array(float64, 2d, A), array(float64, 1d, C))\n",
      "  d_torsion = np.dot(torsion_rotation_matrix, d_ang)\n",
      "/home/rufad/miniconda3/envs/openmm/lib/python3.6/site-packages/perses-0.4.0-py3.6.egg/perses/rjmc/coordinate_numba.py:129: NumbaPerformanceWarning: np.dot() is faster on contiguous arrays, called on (array(float64, 1d, A), array(float64, 1d, A))\n",
      "  cos_phi = np.dot(plane1, plane2) / (_norm(plane1)*_norm(plane2))\n",
      "/home/rufad/miniconda3/envs/openmm/lib/python3.6/site-packages/perses-0.4.0-py3.6.egg/perses/rjmc/coordinate_numba.py:137: NumbaPerformanceWarning: np.dot() is faster on contiguous arrays, called on (array(float64, 1d, C), array(float64, 1d, A))\n",
      "  if np.dot(a, plane2) <= 0:\n"
     ]
    },
    {
     "name": "stdout",
     "output_type": "stream",
     "text": [
      "conducting subsequent work with the following platform: CUDA\n",
      "conducting subsequent work with the following platform: CUDA\n",
      "conducting subsequent work with the following platform: CUDA\n"
     ]
    }
   ],
   "source": [
    "import simtk.openmm as openmm\n",
    "from openmmtools.constants import kB\n",
    "import simtk.unit as unit\n",
    "temperature = 300 * unit.kelvin\n",
    "kT = kB * temperature\n",
    "beta = 1.0/kT\n",
    "from perses.rjmc.topology_proposal import TopologyProposal, NetworkXMolecule\n",
    "from openmmtools.states import ThermodynamicState, SamplerState, CompoundThermodynamicState\n",
    "from openmmtools import mcmc, utils\n",
    "import openmmtools.cache as cache\n",
    "from perses.dispersed.utils import configure_platform\n",
    "#cache.global_context_cache.platform = configure_platform(utils.get_fastest_platform().getName())\n",
    "from perses.annihilation.lambda_protocol import LambdaProtocol\n",
    "from perses.annihilation.lambda_protocol import RelativeAlchemicalState, LambdaProtocol\n",
    "import openmmtools.integrators as integrators\n",
    "from protein_test_cycle import *\n",
    "from openmmtools import mcmc, utils"
   ]
  },
  {
   "cell_type": "code",
   "execution_count": null,
   "metadata": {},
   "outputs": [],
   "source": []
  },
  {
   "cell_type": "markdown",
   "metadata": {},
   "source": [
    "and we should be using CUDA..."
   ]
  },
  {
   "cell_type": "code",
   "execution_count": 2,
   "metadata": {},
   "outputs": [
    {
     "name": "stdout",
     "output_type": "stream",
     "text": [
      "CUDA\n",
      "mixed\n"
     ]
    }
   ],
   "source": [
    "print(cache.global_context_cache.platform.getName())\n",
    "print(cache.global_context_cache.platform.getPropertyDefaultValue('CudaPrecision'))"
   ]
  },
  {
   "cell_type": "code",
   "execution_count": 3,
   "metadata": {},
   "outputs": [],
   "source": [
    "def deserialize(filename):\n",
    "    import pickle\n",
    "    with open(filename, 'rb') as f:\n",
    "        htf = pickle.load(f)\n",
    "    return htf\n",
    "\n"
   ]
  },
  {
   "cell_type": "markdown",
   "metadata": {},
   "source": [
    "as you can see above, even in vacuum, there is a big difference in the replica propagation time between the fast and slow systems, even in vacuum;\n",
    "perhaps if we remove the constraints in the slow system, we can fix the problem"
   ]
  },
  {
   "cell_type": "code",
   "execution_count": 4,
   "metadata": {},
   "outputs": [],
   "source": [
    "import copy"
   ]
  },
  {
   "cell_type": "code",
   "execution_count": null,
   "metadata": {},
   "outputs": [],
   "source": [
    "def create_integrator(htf, constraint_tol):\n",
    "    \"\"\"\n",
    "    create lambda alchemical states, thermodynamic states, sampler states, integrator, and return context, thermostate, sampler_state, integrator\n",
    "    \"\"\"\n",
    "    fast_lambda_alchemical_state = RelativeAlchemicalState.from_system(htf.hybrid_system)\n",
    "    fast_lambda_alchemical_state.set_alchemical_parameters(0.0, LambdaProtocol(functions = 'default'))\n",
    "    \n",
    "    fast_thermodynamic_state = CompoundThermodynamicState(ThermodynamicState(htf.hybrid_system, temperature = temperature),composable_states = [fast_lambda_alchemical_state])\n",
    "    \n",
    "    fast_sampler_state = SamplerState(positions = htf._hybrid_positions, box_vectors = htf.hybrid_system.getDefaultPeriodicBoxVectors())\n",
    "    \n",
    "#     integrator_1 = integrators.LangevinIntegrator(temperature = temperature,\n",
    "#                                                      timestep = 0.5* unit.femtoseconds,\n",
    "#                                                      splitting = 'V R O R V',\n",
    "#                                                      measure_shadow_work = False,\n",
    "#                                                      measure_heat = False,\n",
    "#                                                      constraint_tolerance = constraint_tol,\n",
    "#                                                      collision_rate = 5.0 / unit.picoseconds)\n",
    "    mcmc_moves=mcmc.LangevinSplittingDynamicsMove(timestep = 4.0 * unit.femtoseconds,\n",
    "                                                             collision_rate=5.0 / unit.picosecond,\n",
    "                                                             n_steps=1,\n",
    "                                                             reassign_velocities=False,\n",
    "                                                             n_restart_attempts=20,\n",
    "                                                             splitting=\"V R O R V\",\n",
    "                                                             constraint_tolerance=constraint_tol)\n",
    "    \n",
    "    \n",
    "    #print(integrator_1.getConstraintTolerance())\n",
    "    \n",
    "#     fast_context, fast_integrator = cache.global_context_cache.get_context(fast_thermodynamic_state, integrator_1)\n",
    "    \n",
    "    \n",
    "#     fast_sampler_state.apply_to_context(fast_context)\n",
    "    \n",
    "    return mcmc_moves, fast_thermodynamic_state, fast_sampler_state\n",
    "\n",
    "\n",
    "    \n",
    "    \n",
    "    \n",
    "    "
   ]
  },
  {
   "cell_type": "code",
   "execution_count": null,
   "metadata": {},
   "outputs": [],
   "source": [
    "def create_langevin_integrator(htf, constraint_tol):\n",
    "    \"\"\"\n",
    "    create lambda alchemical states, thermodynamic states, sampler states, integrator, and return context, thermostate, sampler_state, integrator\n",
    "    \"\"\"\n",
    "    fast_lambda_alchemical_state = RelativeAlchemicalState.from_system(htf.hybrid_system)\n",
    "    fast_lambda_alchemical_state.set_alchemical_parameters(0.0, LambdaProtocol(functions = 'default'))\n",
    "    \n",
    "    fast_thermodynamic_state = CompoundThermodynamicState(ThermodynamicState(htf.hybrid_system, temperature = temperature),composable_states = [fast_lambda_alchemical_state])\n",
    "    \n",
    "    fast_sampler_state = SamplerState(positions = htf._hybrid_positions, box_vectors = htf.hybrid_system.getDefaultPeriodicBoxVectors())\n",
    "    \n",
    "    integrator_1 = integrators.LangevinIntegrator(temperature = temperature,\n",
    "                                                     timestep = 4.0* unit.femtoseconds,\n",
    "                                                     splitting = 'V R O R V',\n",
    "                                                     measure_shadow_work = False,\n",
    "                                                     measure_heat = False,\n",
    "                                                     constraint_tolerance = constraint_tol,\n",
    "                                                     collision_rate = 5.0 / unit.picoseconds)\n",
    "#     mcmc_moves=mcmc.LangevinSplittingDynamicsMove(timestep = 4.0 * unit.femtoseconds,\n",
    "#                                                              collision_rate=5.0 / unit.picosecond,\n",
    "#                                                              n_steps=1,\n",
    "#                                                              reassign_velocities=False,\n",
    "#                                                              n_restart_attempts=20,\n",
    "#                                                              splitting=\"V R R R O R R R V\",\n",
    "#                                                              constraint_tolerance=constraint_tol)\n",
    "    \n",
    "    \n",
    "    #print(integrator_1.getConstraintTolerance())\n",
    "    \n",
    "    fast_context, fast_integrator = cache.global_context_cache.get_context(fast_thermodynamic_state, integrator_1)\n",
    "    \n",
    "    \n",
    "    fast_sampler_state.apply_to_context(fast_context)\n",
    "    \n",
    "    return fast_context, fast_thermodynamic_state, fast_sampler_state, fast_integrator"
   ]
  },
  {
   "cell_type": "code",
   "execution_count": null,
   "metadata": {},
   "outputs": [],
   "source": [
    "def time_integrator(move, thermostate, sstate, num_steps = 10):\n",
    "    import time\n",
    "    _time = []\n",
    "    #integrator.step(1)\n",
    "    move.apply(thermostate, sstate)\n",
    "    for i in range(num_steps):\n",
    "        start = time.time()\n",
    "        #integrator.step(1)\n",
    "        move.apply(thermostate, sstate)\n",
    "        end = time.time() - start\n",
    "        _time.append(end)\n",
    "    return np.array(_time)"
   ]
  },
  {
   "cell_type": "code",
   "execution_count": null,
   "metadata": {},
   "outputs": [],
   "source": [
    "def time_lan_integrator(integrator, num_steps = 10):\n",
    "    import time\n",
    "    _time = []\n",
    "    integrator.step(1)\n",
    "    #move.apply(thermostate, sstate)\n",
    "    for i in range(num_steps):\n",
    "        start = time.time()\n",
    "        integrator.step(1)\n",
    "        #move.apply(thermostate, sstate)\n",
    "        end = time.time() - start\n",
    "        _time.append(end)\n",
    "    return np.array(_time)"
   ]
  },
  {
   "cell_type": "markdown",
   "metadata": {},
   "source": [
    "let's compare the speeds of all the atom maps right now..."
   ]
  },
  {
   "cell_type": "code",
   "execution_count": null,
   "metadata": {},
   "outputs": [],
   "source": [
    "from openmmtools.utils import get_available_platforms"
   ]
  },
  {
   "cell_type": "code",
   "execution_count": null,
   "metadata": {},
   "outputs": [],
   "source": [
    "plats = get_available_platforms()\n",
    "for plat in plats:\n",
    "    print(plat.getName())"
   ]
  },
  {
   "cell_type": "code",
   "execution_count": null,
   "metadata": {},
   "outputs": [],
   "source": [
    "dipeptides = ['ALA', 'SER', 'THR', 'CYS']"
   ]
  },
  {
   "cell_type": "code",
   "execution_count": null,
   "metadata": {},
   "outputs": [],
   "source": [
    "print(f\"this is for platform {cache.global_context_cache.platform.getName()}\")\n",
    "\n",
    "for mapping in ['weak', 'default', 'strong']:\n",
    "    for i in ['SER']:\n",
    "        for j in ['CYS']:\n",
    "            if i != j:\n",
    "                for phase in ['sol']:\n",
    "                    print(f\"mapping {mapping} for phase {phase} with dipeptides: {i, j}\")\n",
    "                    htf = deserialize(f'{i}_{j}.{phase}.{mapping}_map.pkl')\n",
    "                    _, _, _, integrator = create_langevin_integrator(htf, 1e-6)\n",
    "                    fast = time_lan_integrator(integrator, 250)\n",
    "                    print(np.average(fast), np.std(fast))\n",
    "    print()\n",
    "                    \n",
    "    "
   ]
  },
  {
   "cell_type": "code",
   "execution_count": null,
   "metadata": {},
   "outputs": [],
   "source": [
    "print(f\"this is for platform {cache.global_context_cache.platform.getName()}\")\n",
    "\n",
    "for mapping in ['weak', 'default', 'strong']:\n",
    "    for i in ['SER']:\n",
    "        for j in ['CYS']:\n",
    "            if i != j:\n",
    "                for phase in ['sol']:\n",
    "                    print(f\"mapping {mapping} for phase {phase} with dipeptides: {i, j}\")\n",
    "                    htf = deserialize(f'{i}_{j}.{phase}.{mapping}_map.pkl')\n",
    "                    mcmc_moves, thermostate, sstate = create_integrator(htf, 1e-6)\n",
    "                    fast = time_integrator(mcmc_moves, thermostate, sstate, 250)\n",
    "                    print(np.average(fast), np.std(fast))\n",
    "    print()\n",
    "                    \n",
    "    "
   ]
  },
  {
   "cell_type": "code",
   "execution_count": null,
   "metadata": {},
   "outputs": [],
   "source": []
  },
  {
   "cell_type": "code",
   "execution_count": null,
   "metadata": {},
   "outputs": [],
   "source": [
    "# plats = get_available_platforms()\n",
    "# for plat in plats:\n",
    "#     print(plat.getName())\n",
    "# cache.global_context_cache.empty()\n",
    "# print(f\"this is for platform {cache.global_context_cache.platform.getName()}\")\n",
    "# for mapping in ['weak', 'default', 'strong']:\n",
    "#     for i in dipeptides:\n",
    "#         for j in dipeptides:\n",
    "#             if i != j:\n",
    "#                 for phase in ['vac']:\n",
    "#                     print(f\"mapping {mapping} for phase {phase} with dipeptides: {i, j}\")\n",
    "#                     htf = deserialize(f'{i}_{j}.{phase}.{mapping}_map.pkl')\n",
    "#                     try:\n",
    "#                         _, _, _, _int = create_integrator(htf, 1e-6)\n",
    "#                         fast = time_integrator(_int, num_steps = 100)\n",
    "#                         print(np.average(fast), np.std(fast))\n",
    "#                     except Exception as e:\n",
    "#                         print(e)\n",
    "#     print()"
   ]
  },
  {
   "cell_type": "code",
   "execution_count": null,
   "metadata": {},
   "outputs": [],
   "source": [
    "htf = deserialize(f'SER_CYS.vac.weak_map.pkl')"
   ]
  },
  {
   "cell_type": "markdown",
   "metadata": {},
   "source": [
    "the atom map names"
   ]
  },
  {
   "cell_type": "code",
   "execution_count": null,
   "metadata": {},
   "outputs": [],
   "source": [
    "[(htf._hybrid_to_old_map[hybrid_idx],  list(htf._topology_proposal._old_topology.atoms())[htf._hybrid_to_old_map[hybrid_idx]].name, htf._hybrid_to_new_map[hybrid_idx],  list(htf._topology_proposal._new_topology.atoms())[htf._hybrid_to_new_map[hybrid_idx]].name) for hybrid_idx in htf._atom_classes['core_atoms']]"
   ]
  },
  {
   "cell_type": "code",
   "execution_count": null,
   "metadata": {},
   "outputs": [],
   "source": [
    "[(htf._hybrid_to_old_map[hybrid_idx], list(htf._topology_proposal._old_topology.atoms())[htf._hybrid_to_old_map[hybrid_idx]].name, hybrid_idx) for hybrid_idx in htf._atom_classes['unique_old_atoms']]"
   ]
  },
  {
   "cell_type": "code",
   "execution_count": null,
   "metadata": {},
   "outputs": [],
   "source": [
    "[(htf._hybrid_to_new_map[hybrid_idx], list(htf._topology_proposal._new_topology.atoms())[htf._hybrid_to_new_map[hybrid_idx]].name, hybrid_idx) for hybrid_idx in htf._atom_classes['unique_new_atoms']]"
   ]
  },
  {
   "cell_type": "code",
   "execution_count": null,
   "metadata": {},
   "outputs": [],
   "source": [
    "num_constraints = htf._hybrid_system.getNumConstraints()"
   ]
  },
  {
   "cell_type": "code",
   "execution_count": null,
   "metadata": {},
   "outputs": [],
   "source": [
    "for idx in reversed(range(num_constraints)):\n",
    "    p1, p2, r = htf._hybrid_system.getConstraintParameters(idx)\n",
    "    \n",
    "#     old_idx, new_idx = htf._hybrid_to_old_map[p1], htf._hybrid_to_new_map[p2]\n",
    "#     old_name, new_name = list(htf._topology_proposal._old_topology.atoms())[old_idx].name, list(htf._topology_proposal._new_topology.atoms())[new_idx].name\n",
    "    print(p1, p2, r)"
   ]
  },
  {
   "cell_type": "markdown",
   "metadata": {},
   "source": [
    "so we know that the constraint distance changes, which is why we are not mapping the terminal hydrogen\n"
   ]
  },
  {
   "cell_type": "markdown",
   "metadata": {},
   "source": [
    "out of curiosity, can we make a CCCCO --> CCCCS with different mappings and see how it performs?\n"
   ]
  },
  {
   "cell_type": "code",
   "execution_count": null,
   "metadata": {},
   "outputs": [],
   "source": [
    "from perses.annihilation.relative import HybridTopologyFactory\n",
    "from perses.annihilation.lambda_protocol import RelativeAlchemicalState, LambdaProtocol\n",
    "from perses.rjmc.topology_proposal import TopologyProposal, TwoMoleculeSetProposalEngine, SystemGenerator,SmallMoleculeSetProposalEngine, PointMutationEngine\n",
    "from perses.rjmc.geometry import FFAllAngleGeometryEngine\n",
    "from perses.utils.openeye import createSystemFromSMILES"
   ]
  },
  {
   "cell_type": "code",
   "execution_count": null,
   "metadata": {},
   "outputs": [],
   "source": [
    "system_generator = SystemGenerator(['gaff2.xml'],\n",
    "                               barostat = None,\n",
    "                               forcefield_kwargs = {'removeCMMotion': False, \n",
    "                                                    'ewaldErrorTolerance': 1e-4, \n",
    "                                                    'nonbondedMethod': app.NoCutoff,\n",
    "                                                    'constraints' : app.HBonds, \n",
    "                                                    'hydrogenMass' : 4 * unit.amus})"
   ]
  },
  {
   "cell_type": "code",
   "execution_count": null,
   "metadata": {},
   "outputs": [],
   "source": []
  },
  {
   "cell_type": "code",
   "execution_count": null,
   "metadata": {},
   "outputs": [],
   "source": [
    "old_mol, old_system, old_pos, old_top = createSystemFromSMILES('CCCCO')\n",
    "old_system = system_generator.build_system(old_top)\n",
    "\n",
    "new_mol, new_system, new_pos, new_top = createSystemFromSMILES('CCCCS')\n",
    "new_system = system_generator.build_system(new_top)"
   ]
  },
  {
   "cell_type": "code",
   "execution_count": null,
   "metadata": {},
   "outputs": [],
   "source": [
    "num_old_constraints = old_system.getNumConstraints()\n",
    "print(num_old_constraints)\n",
    "for i in range(num_old_constraints):\n",
    "    print(old_system.getConstraintParameters(i))"
   ]
  },
  {
   "cell_type": "code",
   "execution_count": null,
   "metadata": {},
   "outputs": [],
   "source": [
    "num_old_constraints = new_system.getNumConstraints()\n",
    "print(num_old_constraints)\n",
    "for i in range(num_old_constraints):\n",
    "    print(new_system.getConstraintParameters(i))"
   ]
  },
  {
   "cell_type": "code",
   "execution_count": null,
   "metadata": {},
   "outputs": [],
   "source": [
    "def generate_top_pos_sys(topology, old_oemol, new_oemol, system, positions, system_generator, map_strength):\n",
    "    \"\"\"generate point mutation engine, geometry_engine, and conduct topology proposal, geometry propsal, and hybrid factory generation\"\"\"\n",
    "    #create the point mutation engine\n",
    "    print(f\"generating point mutation engine\")\n",
    "    proposal_engine = SmallMoleculeSetProposalEngine(['CCCCO', 'CCCCS'], system_generator, map_strength=map_strength, residue_name='MOL')\n",
    "    \n",
    "\n",
    "    #create a geometry engine\n",
    "    print(f\"generating geometry engine\")\n",
    "    geometry_engine = FFAllAngleGeometryEngine(metadata=None, \n",
    "                                           use_sterics=False, \n",
    "                                           n_bond_divisions=100, \n",
    "                                           n_angle_divisions=180, \n",
    "                                           n_torsion_divisions=360, \n",
    "                                           verbose=True, \n",
    "                                           storage=None, \n",
    "                                           bond_softening_constant=1.0, \n",
    "                                           angle_softening_constant=1.0, \n",
    "                                           neglect_angles = False, \n",
    "                                           use_14_nonbondeds = False)\n",
    "\n",
    "    #create a top proposal\n",
    "    print(f\"making topology proposal\")\n",
    "    topology_proposal = proposal_engine.propose(system, topology, old_oemol, new_oemol)\n",
    "\n",
    "    #make a geometry proposal forward\n",
    "    print(f\"making geometry proposal\")\n",
    "    forward_new_positions, logp_proposal = geometry_engine.propose(topology_proposal, positions, beta)\n",
    "\n",
    "\n",
    "    #create a hybrid topology factory\n",
    "    f\"making forward hybridtopologyfactory\"\n",
    "    forward_htf = HybridTopologyFactory(topology_proposal = topology_proposal,\n",
    "                 current_positions =  positions,\n",
    "                 new_positions = forward_new_positions,\n",
    "                 use_dispersion_correction = False,\n",
    "                 functions=None,\n",
    "                 softcore_alpha = None,\n",
    "                 bond_softening_constant=1.0,\n",
    "                 angle_softening_constant=1.0,\n",
    "                 soften_only_new = False,\n",
    "                 neglected_new_angle_terms = [],\n",
    "                 neglected_old_angle_terms = [],\n",
    "                 softcore_LJ_v2 = True,\n",
    "                 softcore_electrostatics = True,\n",
    "                 softcore_LJ_v2_alpha = 0.85,\n",
    "                 softcore_electrostatics_alpha = 0.3,\n",
    "                 softcore_sigma_Q = 1.0,\n",
    "                 interpolate_old_and_new_14s = False,\n",
    "                 omitted_terms = None)\n",
    "    \n",
    "    return topology_proposal, forward_new_positions, forward_htf\n",
    "\n",
    "\n"
   ]
  },
  {
   "cell_type": "code",
   "execution_count": null,
   "metadata": {},
   "outputs": [],
   "source": [
    "_, weak_sm_new_pos, weak_sm_htf = generate_top_pos_sys(old_top, old_mol, new_mol, old_system, old_pos, system_generator, 'weak')\n",
    "_, default_sm_new_pos, default_sm_htf = generate_top_pos_sys(old_top, old_mol, new_mol, old_system, old_pos, system_generator, 'default')\n",
    "_, strong_sm_new_pos, strong_sm_htf = generate_top_pos_sys(old_top, old_mol, new_mol, old_system, old_pos, system_generator, 'strong')"
   ]
  },
  {
   "cell_type": "code",
   "execution_count": null,
   "metadata": {},
   "outputs": [],
   "source": []
  },
  {
   "cell_type": "code",
   "execution_count": null,
   "metadata": {},
   "outputs": [],
   "source": [
    "print(weak_sm_htf._topology_proposal._unique_new_atoms)\n",
    "print(weak_sm_htf._topology_proposal._unique_old_atoms)\n",
    "\n",
    "print(default_sm_htf._topology_proposal._unique_new_atoms)\n",
    "print(default_sm_htf._topology_proposal._unique_old_atoms)\n",
    "\n",
    "print(strong_sm_htf._topology_proposal._unique_new_atoms)\n",
    "print(strong_sm_htf._topology_proposal._unique_old_atoms)"
   ]
  },
  {
   "cell_type": "code",
   "execution_count": null,
   "metadata": {},
   "outputs": [],
   "source": [
    "\n",
    "for htf in [weak_sm_htf, default_sm_htf, strong_sm_htf]:\n",
    "    _, _, _, _int = create_integrator(htf, 1e-6)\n",
    "    fast = time_integrator(_int, num_steps = 100)\n",
    "    print(np.average(fast), np.std(fast))"
   ]
  },
  {
   "cell_type": "code",
   "execution_count": null,
   "metadata": {},
   "outputs": [],
   "source": []
  }
 ],
 "metadata": {
  "kernelspec": {
   "display_name": "Python 3",
   "language": "python",
   "name": "python3"
  },
  "language_info": {
   "codemirror_mode": {
    "name": "ipython",
    "version": 3
   },
   "file_extension": ".py",
   "mimetype": "text/x-python",
   "name": "python",
   "nbconvert_exporter": "python",
   "pygments_lexer": "ipython3",
   "version": "3.6.8"
  }
 },
 "nbformat": 4,
 "nbformat_minor": 4
}
