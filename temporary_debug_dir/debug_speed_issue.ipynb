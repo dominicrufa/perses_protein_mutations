{
 "cells": [
  {
   "cell_type": "markdown",
   "metadata": {},
   "source": [
    "here, i i will attempt to find the bug that is preventing certain protein mutations from running quickly..."
   ]
  },
  {
   "cell_type": "code",
   "execution_count": 12,
   "metadata": {},
   "outputs": [],
   "source": [
    "import simtk.openmm as openmm\n",
    "from openmmtools.constants import kB\n",
    "import simtk.unit as unit\n",
    "temperature = 300 * unit.kelvin\n",
    "kT = kB * temperature\n",
    "beta = 1.0/kT\n",
    "from perses.rjmc.topology_proposal import TopologyProposal, NetworkXMolecule\n",
    "from openmmtools.states import ThermodynamicState, SamplerState, CompoundThermodynamicState\n",
    "from openmmtools import mcmc, utils\n",
    "import openmmtools.cache as cache\n",
    "from perses.dispersed.utils import configure_platform\n",
    "#cache.global_context_cache.platform = configure_platform(utils.get_fastest_platform().getName())\n",
    "from perses.annihilation.lambda_protocol import LambdaProtocol\n",
    "from perses.annihilation.lambda_protocol import RelativeAlchemicalState, LambdaProtocol\n",
    "import openmmtools.integrators as integrators\n",
<<<<<<< HEAD
    "from protein_test_cycle import *"
   ]
  },
  {
   "cell_type": "code",
   "execution_count": null,
   "metadata": {},
   "outputs": [],
   "source": []
  },
  {
   "cell_type": "markdown",
   "metadata": {},
   "source": [
    "and we should be using CUDA..."
=======
    "# from protein_test_cycle import *\n",
    "import numpy as np"
>>>>>>> 697b4775daeb51f29077b864293bb838f3db18e1
   ]
  },
  {
   "cell_type": "code",
   "execution_count": 4,
   "metadata": {},
   "outputs": [
    {
     "name": "stdout",
     "output_type": "stream",
     "text": [
      "CPU\n"
     ]
    }
   ],
   "source": [
    "print(cache.global_context_cache.platform.getName())\n",
<<<<<<< HEAD
    "print(cache.global_context_cache.platform.getPropertyDefaultValue('CudaPrecision'))"
   ]
  },
  {
   "cell_type": "code",
   "execution_count": 3,
   "metadata": {},
   "outputs": [],
   "source": [
    "def deserialize(filename):\n",
    "    import pickle\n",
    "    with open(filename, 'rb') as f:\n",
    "        htf = pickle.load(f)\n",
    "    return htf\n",
    "\n"
   ]
  },
  {
   "cell_type": "markdown",
   "metadata": {},
   "source": [
    "as you can see above, even in vacuum, there is a big difference in the replica propagation time between the fast and slow systems, even in vacuum;\n",
    "perhaps if we remove the constraints in the slow system, we can fix the problem"
=======
    "#print(cache.global_context_cache.platform.getPropertyDefaultValue('CudaPrecision'))"
>>>>>>> 697b4775daeb51f29077b864293bb838f3db18e1
   ]
  },
  {
   "cell_type": "code",
<<<<<<< HEAD
   "execution_count": 4,
=======
   "execution_count": 5,
>>>>>>> 697b4775daeb51f29077b864293bb838f3db18e1
   "metadata": {},
   "outputs": [],
   "source": [
    "import copy"
   ]
  },
  {
   "cell_type": "code",
<<<<<<< HEAD
   "execution_count": 52,
=======
   "execution_count": 22,
>>>>>>> 697b4775daeb51f29077b864293bb838f3db18e1
   "metadata": {},
   "outputs": [
    {
     "ename": "FileNotFoundError",
     "evalue": "[Errno 2] No such file or directory: 'ALA_THR.vac.pkl'",
     "output_type": "error",
     "traceback": [
      "\u001b[0;31m---------------------------------------------------------------------------\u001b[0m",
      "\u001b[0;31mFileNotFoundError\u001b[0m                         Traceback (most recent call last)",
      "\u001b[0;32m<ipython-input-22-7f956fd45f81>\u001b[0m in \u001b[0;36m<module>\u001b[0;34m\u001b[0m\n\u001b[1;32m      1\u001b[0m \u001b[0mfast_htf\u001b[0m \u001b[0;34m=\u001b[0m \u001b[0mdeserialize\u001b[0m\u001b[0;34m(\u001b[0m\u001b[0;34m'ALA_SER.vac.pkl'\u001b[0m\u001b[0;34m)\u001b[0m\u001b[0;34m\u001b[0m\u001b[0;34m\u001b[0m\u001b[0m\n\u001b[0;32m----> 2\u001b[0;31m \u001b[0mslow_htf\u001b[0m \u001b[0;34m=\u001b[0m \u001b[0mdeserialize\u001b[0m\u001b[0;34m(\u001b[0m\u001b[0;34m'ALA_THR.vac.pkl'\u001b[0m\u001b[0;34m)\u001b[0m\u001b[0;34m\u001b[0m\u001b[0;34m\u001b[0m\u001b[0m\n\u001b[0m\u001b[1;32m      3\u001b[0m \u001b[0;31m# fast_hss, _ = create_hss(f\"fast_debug.nc\", fast_htf)\u001b[0m\u001b[0;34m\u001b[0m\u001b[0;34m\u001b[0m\u001b[0;34m\u001b[0m\u001b[0m\n\u001b[1;32m      4\u001b[0m \u001b[0;31m# slow_hss, _ = create_hss(f\"slow_debug.nc\", slow_htf)\u001b[0m\u001b[0;34m\u001b[0m\u001b[0;34m\u001b[0m\u001b[0;34m\u001b[0m\u001b[0m\n",
      "\u001b[0;32m<ipython-input-5-6d880b67c949>\u001b[0m in \u001b[0;36mdeserialize\u001b[0;34m(filename)\u001b[0m\n\u001b[1;32m      1\u001b[0m \u001b[0;32mdef\u001b[0m \u001b[0mdeserialize\u001b[0m\u001b[0;34m(\u001b[0m\u001b[0mfilename\u001b[0m\u001b[0;34m)\u001b[0m\u001b[0;34m:\u001b[0m\u001b[0;34m\u001b[0m\u001b[0;34m\u001b[0m\u001b[0m\n\u001b[1;32m      2\u001b[0m     \u001b[0;32mimport\u001b[0m \u001b[0mpickle\u001b[0m\u001b[0;34m\u001b[0m\u001b[0;34m\u001b[0m\u001b[0m\n\u001b[0;32m----> 3\u001b[0;31m     \u001b[0;32mwith\u001b[0m \u001b[0mopen\u001b[0m\u001b[0;34m(\u001b[0m\u001b[0mfilename\u001b[0m\u001b[0;34m,\u001b[0m \u001b[0;34m'rb'\u001b[0m\u001b[0;34m)\u001b[0m \u001b[0;32mas\u001b[0m \u001b[0mf\u001b[0m\u001b[0;34m:\u001b[0m\u001b[0;34m\u001b[0m\u001b[0;34m\u001b[0m\u001b[0m\n\u001b[0m\u001b[1;32m      4\u001b[0m         \u001b[0mhtf\u001b[0m \u001b[0;34m=\u001b[0m \u001b[0mpickle\u001b[0m\u001b[0;34m.\u001b[0m\u001b[0mload\u001b[0m\u001b[0;34m(\u001b[0m\u001b[0mf\u001b[0m\u001b[0;34m)\u001b[0m\u001b[0;34m\u001b[0m\u001b[0;34m\u001b[0m\u001b[0m\n\u001b[1;32m      5\u001b[0m     \u001b[0;32mreturn\u001b[0m \u001b[0mhtf\u001b[0m\u001b[0;34m\u001b[0m\u001b[0;34m\u001b[0m\u001b[0m\n",
      "\u001b[0;31mFileNotFoundError\u001b[0m: [Errno 2] No such file or directory: 'ALA_THR.vac.pkl'"
     ]
    }
   ],
   "source": [
    "def create_integrator(htf, constraint_tol):\n",
    "    \"\"\"\n",
    "    create lambda alchemical states, thermodynamic states, sampler states, integrator, and return context, thermostate, sampler_state, integrator\n",
    "    \"\"\"\n",
    "    fast_lambda_alchemical_state = RelativeAlchemicalState.from_system(htf.hybrid_system)\n",
    "    fast_lambda_alchemical_state.set_alchemical_parameters(0.0, LambdaProtocol(functions = 'default'))\n",
    "    \n",
    "    fast_thermodynamic_state = CompoundThermodynamicState(ThermodynamicState(htf.hybrid_system, temperature = temperature),composable_states = [fast_lambda_alchemical_state])\n",
    "    \n",
    "    fast_sampler_state = SamplerState(positions = htf._hybrid_positions, box_vectors = htf.hybrid_system.getDefaultPeriodicBoxVectors())\n",
    "    \n",
    "#     integrator_1 = integrators.LangevinIntegrator(temperature = temperature,\n",
    "#                                                      timestep = 0.5* unit.femtoseconds,\n",
    "#                                                      splitting = 'V R O R V',\n",
    "#                                                      measure_shadow_work = False,\n",
    "#                                                      measure_heat = False,\n",
    "#                                                      constraint_tolerance = constraint_tol,\n",
    "#                                                      collision_rate = 5.0 / unit.picoseconds)\n",
    "    mcmc_moves=mcmc.LangevinSplittingDynamicsMove(timestep = 4.0 * unit.femtoseconds,\n",
    "                                                             collision_rate=5.0 / unit.picosecond,\n",
    "                                                             n_steps=1,\n",
    "                                                             reassign_velocities=False,\n",
    "                                                             n_restart_attempts=20,\n",
    "                                                             splitting=\"V R O R V\",\n",
    "                                                             constraint_tolerance=constraint_tol)\n",
    "    \n",
    "    \n",
    "    #print(integrator_1.getConstraintTolerance())\n",
    "    \n",
    "#     fast_context, fast_integrator = cache.global_context_cache.get_context(fast_thermodynamic_state, integrator_1)\n",
    "    \n",
    "    \n",
    "#     fast_sampler_state.apply_to_context(fast_context)\n",
    "    \n",
    "    return mcmc_moves, fast_thermodynamic_state, fast_sampler_state\n",
    "\n",
    "\n",
    "    \n",
    "    \n",
    "    \n",
    "    "
   ]
  },
  {
   "cell_type": "code",
<<<<<<< HEAD
   "execution_count": 42,
   "metadata": {},
   "outputs": [],
   "source": [
    "def create_langevin_integrator(htf, constraint_tol):\n",
    "    \"\"\"\n",
    "    create lambda alchemical states, thermodynamic states, sampler states, integrator, and return context, thermostate, sampler_state, integrator\n",
    "    \"\"\"\n",
    "    fast_lambda_alchemical_state = RelativeAlchemicalState.from_system(htf.hybrid_system)\n",
    "    fast_lambda_alchemical_state.set_alchemical_parameters(0.0, LambdaProtocol(functions = 'default'))\n",
    "    \n",
    "    fast_thermodynamic_state = CompoundThermodynamicState(ThermodynamicState(htf.hybrid_system, temperature = temperature),composable_states = [fast_lambda_alchemical_state])\n",
    "    \n",
    "    fast_sampler_state = SamplerState(positions = htf._hybrid_positions, box_vectors = htf.hybrid_system.getDefaultPeriodicBoxVectors())\n",
    "    \n",
    "    integrator_1 = integrators.LangevinIntegrator(temperature = temperature,\n",
    "                                                     timestep = 4.0* unit.femtoseconds,\n",
    "                                                     splitting = 'V R O R V',\n",
    "                                                     measure_shadow_work = False,\n",
    "                                                     measure_heat = False,\n",
    "                                                     constraint_tolerance = constraint_tol,\n",
    "                                                     collision_rate = 5.0 / unit.picoseconds)\n",
    "#     mcmc_moves=mcmc.LangevinSplittingDynamicsMove(timestep = 4.0 * unit.femtoseconds,\n",
    "#                                                              collision_rate=5.0 / unit.picosecond,\n",
    "#                                                              n_steps=1,\n",
    "#                                                              reassign_velocities=False,\n",
    "#                                                              n_restart_attempts=20,\n",
    "#                                                              splitting=\"V R R R O R R R V\",\n",
    "#                                                              constraint_tolerance=constraint_tol)\n",
    "    \n",
    "    \n",
    "    #print(integrator_1.getConstraintTolerance())\n",
    "    \n",
    "    fast_context, fast_integrator = cache.global_context_cache.get_context(fast_thermodynamic_state, integrator_1)\n",
    "    \n",
    "    \n",
    "    fast_sampler_state.apply_to_context(fast_context)\n",
    "    \n",
    "    return fast_context, fast_thermodynamic_state, fast_sampler_state, fast_integrator"
   ]
  },
  {
   "cell_type": "code",
   "execution_count": 31,
   "metadata": {},
   "outputs": [],
   "source": [
    "def time_integrator(move, thermostate, sstate, num_steps = 10):\n",
    "    import time\n",
    "    _time = []\n",
    "    #integrator.step(1)\n",
    "    move.apply(thermostate, sstate)\n",
    "    for i in range(num_steps):\n",
    "        start = time.time()\n",
    "        #integrator.step(1)\n",
    "        move.apply(thermostate, sstate)\n",
    "        end = time.time() - start\n",
    "        _time.append(end)\n",
    "    return np.array(_time)"
   ]
  },
  {
   "cell_type": "code",
   "execution_count": 43,
=======
   "execution_count": 7,
>>>>>>> 697b4775daeb51f29077b864293bb838f3db18e1
   "metadata": {},
   "outputs": [],
   "source": [
    "def time_lan_integrator(integrator, num_steps = 10):\n",
    "    import time\n",
    "    _time = []\n",
    "    integrator.step(1)\n",
    "    #move.apply(thermostate, sstate)\n",
    "    for i in range(num_steps):\n",
    "        start = time.time()\n",
    "        integrator.step(1)\n",
    "        #move.apply(thermostate, sstate)\n",
    "        end = time.time() - start\n",
    "        _time.append(end)\n",
    "    return np.array(_time)"
   ]
  },
  {
   "cell_type": "markdown",
   "metadata": {},
   "source": [
    "let's compare the speeds of all the atom maps right now..."
   ]
  },
  {
<<<<<<< HEAD
   "cell_type": "code",
   "execution_count": 44,
   "metadata": {},
   "outputs": [],
   "source": [
    "from openmmtools.utils import get_available_platforms"
   ]
  },
  {
   "cell_type": "code",
   "execution_count": 45,
   "metadata": {},
   "outputs": [
    {
     "name": "stdout",
     "output_type": "stream",
     "text": [
      "Reference\n",
      "CPU\n",
      "CUDA\n",
      "OpenCL\n"
     ]
    }
   ],
   "source": [
    "plats = get_available_platforms()\n",
    "for plat in plats:\n",
    "    print(plat.getName())"
   ]
  },
  {
   "cell_type": "code",
   "execution_count": 46,
   "metadata": {},
   "outputs": [],
   "source": [
    "dipeptides = ['ALA', 'SER', 'THR', 'CYS']"
   ]
  },
  {
   "cell_type": "code",
   "execution_count": 55,
   "metadata": {},
   "outputs": [
    {
     "name": "stdout",
     "output_type": "stream",
     "text": [
      "this is for platform CUDA\n",
      "mapping weak for phase sol with dipeptides: ('SER', 'CYS')\n",
      "0.0010621395111083984 0.0002283583699853395\n",
      "\n",
      "mapping default for phase sol with dipeptides: ('SER', 'CYS')\n",
      "0.0010469694137573242 0.0002144875294880531\n",
      "\n",
      "mapping strong for phase sol with dipeptides: ('SER', 'CYS')\n"
     ]
    },
    {
     "ename": "Exception",
     "evalue": "Particle coordinate is nan",
     "output_type": "error",
     "traceback": [
      "\u001b[0;31m---------------------------------------------------------------------------\u001b[0m",
      "\u001b[0;31mException\u001b[0m                                 Traceback (most recent call last)",
      "\u001b[0;32m<ipython-input-55-c1bb75d77787>\u001b[0m in \u001b[0;36m<module>\u001b[0;34m\u001b[0m\n\u001b[1;32m      9\u001b[0m                     \u001b[0mhtf\u001b[0m \u001b[0;34m=\u001b[0m \u001b[0mdeserialize\u001b[0m\u001b[0;34m(\u001b[0m\u001b[0;34mf'{i}_{j}.{phase}.{mapping}_map.pkl'\u001b[0m\u001b[0;34m)\u001b[0m\u001b[0;34m\u001b[0m\u001b[0;34m\u001b[0m\u001b[0m\n\u001b[1;32m     10\u001b[0m                     \u001b[0m_\u001b[0m\u001b[0;34m,\u001b[0m \u001b[0m_\u001b[0m\u001b[0;34m,\u001b[0m \u001b[0m_\u001b[0m\u001b[0;34m,\u001b[0m \u001b[0mintegrator\u001b[0m \u001b[0;34m=\u001b[0m \u001b[0mcreate_langevin_integrator\u001b[0m\u001b[0;34m(\u001b[0m\u001b[0mhtf\u001b[0m\u001b[0;34m,\u001b[0m \u001b[0;36m1e-6\u001b[0m\u001b[0;34m)\u001b[0m\u001b[0;34m\u001b[0m\u001b[0;34m\u001b[0m\u001b[0m\n\u001b[0;32m---> 11\u001b[0;31m                     \u001b[0mfast\u001b[0m \u001b[0;34m=\u001b[0m \u001b[0mtime_lan_integrator\u001b[0m\u001b[0;34m(\u001b[0m\u001b[0mintegrator\u001b[0m\u001b[0;34m,\u001b[0m \u001b[0;36m250\u001b[0m\u001b[0;34m)\u001b[0m\u001b[0;34m\u001b[0m\u001b[0;34m\u001b[0m\u001b[0m\n\u001b[0m\u001b[1;32m     12\u001b[0m                     \u001b[0mprint\u001b[0m\u001b[0;34m(\u001b[0m\u001b[0mnp\u001b[0m\u001b[0;34m.\u001b[0m\u001b[0maverage\u001b[0m\u001b[0;34m(\u001b[0m\u001b[0mfast\u001b[0m\u001b[0;34m)\u001b[0m\u001b[0;34m,\u001b[0m \u001b[0mnp\u001b[0m\u001b[0;34m.\u001b[0m\u001b[0mstd\u001b[0m\u001b[0;34m(\u001b[0m\u001b[0mfast\u001b[0m\u001b[0;34m)\u001b[0m\u001b[0;34m)\u001b[0m\u001b[0;34m\u001b[0m\u001b[0;34m\u001b[0m\u001b[0m\n\u001b[1;32m     13\u001b[0m     \u001b[0mprint\u001b[0m\u001b[0;34m(\u001b[0m\u001b[0;34m)\u001b[0m\u001b[0;34m\u001b[0m\u001b[0;34m\u001b[0m\u001b[0m\n",
      "\u001b[0;32m<ipython-input-43-f05d0c4ed3b3>\u001b[0m in \u001b[0;36mtime_lan_integrator\u001b[0;34m(integrator, num_steps)\u001b[0m\n\u001b[1;32m      6\u001b[0m     \u001b[0;32mfor\u001b[0m \u001b[0mi\u001b[0m \u001b[0;32min\u001b[0m \u001b[0mrange\u001b[0m\u001b[0;34m(\u001b[0m\u001b[0mnum_steps\u001b[0m\u001b[0;34m)\u001b[0m\u001b[0;34m:\u001b[0m\u001b[0;34m\u001b[0m\u001b[0;34m\u001b[0m\u001b[0m\n\u001b[1;32m      7\u001b[0m         \u001b[0mstart\u001b[0m \u001b[0;34m=\u001b[0m \u001b[0mtime\u001b[0m\u001b[0;34m.\u001b[0m\u001b[0mtime\u001b[0m\u001b[0;34m(\u001b[0m\u001b[0;34m)\u001b[0m\u001b[0;34m\u001b[0m\u001b[0;34m\u001b[0m\u001b[0m\n\u001b[0;32m----> 8\u001b[0;31m         \u001b[0mintegrator\u001b[0m\u001b[0;34m.\u001b[0m\u001b[0mstep\u001b[0m\u001b[0;34m(\u001b[0m\u001b[0;36m1\u001b[0m\u001b[0;34m)\u001b[0m\u001b[0;34m\u001b[0m\u001b[0;34m\u001b[0m\u001b[0m\n\u001b[0m\u001b[1;32m      9\u001b[0m         \u001b[0;31m#move.apply(thermostate, sstate)\u001b[0m\u001b[0;34m\u001b[0m\u001b[0;34m\u001b[0m\u001b[0;34m\u001b[0m\u001b[0m\n\u001b[1;32m     10\u001b[0m         \u001b[0mend\u001b[0m \u001b[0;34m=\u001b[0m \u001b[0mtime\u001b[0m\u001b[0;34m.\u001b[0m\u001b[0mtime\u001b[0m\u001b[0;34m(\u001b[0m\u001b[0;34m)\u001b[0m \u001b[0;34m-\u001b[0m \u001b[0mstart\u001b[0m\u001b[0;34m\u001b[0m\u001b[0;34m\u001b[0m\u001b[0m\n",
      "\u001b[0;32m~/miniconda3/envs/openmm/lib/python3.6/site-packages/simtk/openmm/openmm.py\u001b[0m in \u001b[0;36mstep\u001b[0;34m(self, steps)\u001b[0m\n\u001b[1;32m  19601\u001b[0m             \u001b[0mthe\u001b[0m \u001b[0mnumber\u001b[0m \u001b[0mof\u001b[0m \u001b[0mtime\u001b[0m \u001b[0msteps\u001b[0m \u001b[0mto\u001b[0m \u001b[0mtake\u001b[0m\u001b[0;34m\u001b[0m\u001b[0;34m\u001b[0m\u001b[0m\n\u001b[1;32m  19602\u001b[0m         \"\"\"\n\u001b[0;32m> 19603\u001b[0;31m         \u001b[0;32mreturn\u001b[0m \u001b[0m_openmm\u001b[0m\u001b[0;34m.\u001b[0m\u001b[0mCustomIntegrator_step\u001b[0m\u001b[0;34m(\u001b[0m\u001b[0mself\u001b[0m\u001b[0;34m,\u001b[0m \u001b[0msteps\u001b[0m\u001b[0;34m)\u001b[0m\u001b[0;34m\u001b[0m\u001b[0;34m\u001b[0m\u001b[0m\n\u001b[0m\u001b[1;32m  19604\u001b[0m \u001b[0;34m\u001b[0m\u001b[0m\n\u001b[1;32m  19605\u001b[0m \u001b[0;34m\u001b[0m\u001b[0m\n",
      "\u001b[0;31mException\u001b[0m: Particle coordinate is nan"
     ]
    }
   ],
   "source": [
    "print(f\"this is for platform {cache.global_context_cache.platform.getName()}\")\n",
    "\n",
    "for mapping in ['weak', 'default', 'strong']:\n",
    "    for i in ['SER']:\n",
    "        for j in ['CYS']:\n",
    "            if i != j:\n",
    "                for phase in ['sol']:\n",
    "                    print(f\"mapping {mapping} for phase {phase} with dipeptides: {i, j}\")\n",
    "                    htf = deserialize(f'{i}_{j}.{phase}.{mapping}_map.pkl')\n",
    "                    _, _, _, integrator = create_langevin_integrator(htf, 1e-6)\n",
    "                    fast = time_lan_integrator(integrator, 250)\n",
    "                    print(np.average(fast), np.std(fast))\n",
    "    print()\n",
    "                    \n",
    "    "
   ]
  },
  {
   "cell_type": "code",
   "execution_count": 56,
   "metadata": {},
   "outputs": [
    {
     "name": "stdout",
     "output_type": "stream",
     "text": [
      "this is for platform CUDA\n",
      "mapping weak for phase sol with dipeptides: ('SER', 'CYS')\n",
      "0.003755729675292969 0.00021046427752871745\n",
      "\n",
      "mapping default for phase sol with dipeptides: ('SER', 'CYS')\n",
      "0.0036699647903442384 0.000221162209488189\n",
      "\n",
      "mapping strong for phase sol with dipeptides: ('SER', 'CYS')\n"
     ]
    },
    {
     "name": "stderr",
     "output_type": "stream",
     "text": [
      "WARNING:openmmtools.mcmc:Potential energy is NaN after 0 attempts of integration with move LangevinSplittingDynamicsMove Attempting a restart...\n",
      "WARNING:openmmtools.mcmc:Potential energy is NaN after 1 attempts of integration with move LangevinSplittingDynamicsMove Attempting a restart...\n",
      "WARNING:openmmtools.mcmc:Potential energy is NaN after 2 attempts of integration with move LangevinSplittingDynamicsMove Attempting a restart...\n",
      "WARNING:openmmtools.mcmc:Potential energy is NaN after 3 attempts of integration with move LangevinSplittingDynamicsMove Attempting a restart...\n",
      "WARNING:openmmtools.mcmc:Potential energy is NaN after 4 attempts of integration with move LangevinSplittingDynamicsMove Attempting a restart...\n",
      "WARNING:openmmtools.mcmc:Potential energy is NaN after 5 attempts of integration with move LangevinSplittingDynamicsMove Attempting a restart...\n",
      "WARNING:openmmtools.mcmc:Potential energy is NaN after 6 attempts of integration with move LangevinSplittingDynamicsMove Attempting a restart...\n",
      "WARNING:openmmtools.mcmc:Potential energy is NaN after 7 attempts of integration with move LangevinSplittingDynamicsMove Attempting a restart...\n",
      "WARNING:openmmtools.mcmc:Potential energy is NaN after 8 attempts of integration with move LangevinSplittingDynamicsMove Attempting a restart...\n",
      "WARNING:openmmtools.mcmc:Potential energy is NaN after 9 attempts of integration with move LangevinSplittingDynamicsMove Attempting a restart...\n",
      "WARNING:openmmtools.mcmc:Potential energy is NaN after 10 attempts of integration with move LangevinSplittingDynamicsMove Attempting a restart...\n",
      "WARNING:openmmtools.mcmc:Potential energy is NaN after 11 attempts of integration with move LangevinSplittingDynamicsMove Attempting a restart...\n",
      "WARNING:openmmtools.mcmc:Potential energy is NaN after 12 attempts of integration with move LangevinSplittingDynamicsMove Attempting a restart...\n",
      "WARNING:openmmtools.mcmc:Potential energy is NaN after 13 attempts of integration with move LangevinSplittingDynamicsMove Attempting a restart...\n",
      "WARNING:openmmtools.mcmc:Potential energy is NaN after 14 attempts of integration with move LangevinSplittingDynamicsMove Attempting a restart...\n",
      "WARNING:openmmtools.mcmc:Potential energy is NaN after 15 attempts of integration with move LangevinSplittingDynamicsMove Attempting a restart...\n",
      "WARNING:openmmtools.mcmc:Potential energy is NaN after 16 attempts of integration with move LangevinSplittingDynamicsMove Attempting a restart...\n",
      "WARNING:openmmtools.mcmc:Potential energy is NaN after 17 attempts of integration with move LangevinSplittingDynamicsMove Attempting a restart...\n",
      "WARNING:openmmtools.mcmc:Potential energy is NaN after 18 attempts of integration with move LangevinSplittingDynamicsMove Attempting a restart...\n",
      "ERROR:openmmtools.mcmc:Potential energy is NaN after 19 attempts of integration with move LangevinSplittingDynamicsMove Trying to reinitialize Context as a last-resort restart attempt...\n",
      "WARNING:openmmtools.mcmc:Potential energy is NaN after 0 attempts of integration with move LangevinSplittingDynamicsMove Attempting a restart...\n",
      "WARNING:openmmtools.mcmc:Potential energy is NaN after 1 attempts of integration with move LangevinSplittingDynamicsMove Attempting a restart...\n",
      "WARNING:openmmtools.mcmc:Potential energy is NaN after 2 attempts of integration with move LangevinSplittingDynamicsMove Attempting a restart...\n",
      "WARNING:openmmtools.mcmc:Potential energy is NaN after 3 attempts of integration with move LangevinSplittingDynamicsMove Attempting a restart...\n",
      "WARNING:openmmtools.mcmc:Potential energy is NaN after 4 attempts of integration with move LangevinSplittingDynamicsMove Attempting a restart...\n",
      "WARNING:openmmtools.mcmc:Potential energy is NaN after 5 attempts of integration with move LangevinSplittingDynamicsMove Attempting a restart...\n",
      "WARNING:openmmtools.mcmc:Potential energy is NaN after 6 attempts of integration with move LangevinSplittingDynamicsMove Attempting a restart...\n",
      "WARNING:openmmtools.mcmc:Potential energy is NaN after 7 attempts of integration with move LangevinSplittingDynamicsMove Attempting a restart...\n",
      "WARNING:openmmtools.mcmc:Potential energy is NaN after 8 attempts of integration with move LangevinSplittingDynamicsMove Attempting a restart...\n",
      "WARNING:openmmtools.mcmc:Potential energy is NaN after 9 attempts of integration with move LangevinSplittingDynamicsMove Attempting a restart...\n",
      "WARNING:openmmtools.mcmc:Potential energy is NaN after 10 attempts of integration with move LangevinSplittingDynamicsMove Attempting a restart...\n",
      "WARNING:openmmtools.mcmc:Potential energy is NaN after 11 attempts of integration with move LangevinSplittingDynamicsMove Attempting a restart...\n",
      "WARNING:openmmtools.mcmc:Potential energy is NaN after 12 attempts of integration with move LangevinSplittingDynamicsMove Attempting a restart...\n",
      "WARNING:openmmtools.mcmc:Potential energy is NaN after 13 attempts of integration with move LangevinSplittingDynamicsMove Attempting a restart...\n",
      "WARNING:openmmtools.mcmc:Potential energy is NaN after 14 attempts of integration with move LangevinSplittingDynamicsMove Attempting a restart...\n",
      "WARNING:openmmtools.mcmc:Potential energy is NaN after 15 attempts of integration with move LangevinSplittingDynamicsMove Attempting a restart...\n",
      "WARNING:openmmtools.mcmc:Potential energy is NaN after 16 attempts of integration with move LangevinSplittingDynamicsMove Attempting a restart...\n",
      "WARNING:openmmtools.mcmc:Potential energy is NaN after 17 attempts of integration with move LangevinSplittingDynamicsMove Attempting a restart...\n",
      "WARNING:openmmtools.mcmc:Potential energy is NaN after 18 attempts of integration with move LangevinSplittingDynamicsMove Attempting a restart...\n",
      "ERROR:openmmtools.mcmc:Potential energy is NaN after 19 attempts of integration with move LangevinSplittingDynamicsMove Trying to reinitialize Context as a last-resort restart attempt...\n"
     ]
    },
    {
     "ename": "Exception",
     "evalue": "Particle coordinate is nan",
     "output_type": "error",
     "traceback": [
      "\u001b[0;31m---------------------------------------------------------------------------\u001b[0m",
      "\u001b[0;31mException\u001b[0m                                 Traceback (most recent call last)",
      "\u001b[0;32m<ipython-input-56-6734bfabbfea>\u001b[0m in \u001b[0;36m<module>\u001b[0;34m\u001b[0m\n\u001b[1;32m      9\u001b[0m                     \u001b[0mhtf\u001b[0m \u001b[0;34m=\u001b[0m \u001b[0mdeserialize\u001b[0m\u001b[0;34m(\u001b[0m\u001b[0;34mf'{i}_{j}.{phase}.{mapping}_map.pkl'\u001b[0m\u001b[0;34m)\u001b[0m\u001b[0;34m\u001b[0m\u001b[0;34m\u001b[0m\u001b[0m\n\u001b[1;32m     10\u001b[0m                     \u001b[0mmcmc_moves\u001b[0m\u001b[0;34m,\u001b[0m \u001b[0mthermostate\u001b[0m\u001b[0;34m,\u001b[0m \u001b[0msstate\u001b[0m \u001b[0;34m=\u001b[0m \u001b[0mcreate_integrator\u001b[0m\u001b[0;34m(\u001b[0m\u001b[0mhtf\u001b[0m\u001b[0;34m,\u001b[0m \u001b[0;36m1e-6\u001b[0m\u001b[0;34m)\u001b[0m\u001b[0;34m\u001b[0m\u001b[0;34m\u001b[0m\u001b[0m\n\u001b[0;32m---> 11\u001b[0;31m                     \u001b[0mfast\u001b[0m \u001b[0;34m=\u001b[0m \u001b[0mtime_integrator\u001b[0m\u001b[0;34m(\u001b[0m\u001b[0mmcmc_moves\u001b[0m\u001b[0;34m,\u001b[0m \u001b[0mthermostate\u001b[0m\u001b[0;34m,\u001b[0m \u001b[0msstate\u001b[0m\u001b[0;34m,\u001b[0m \u001b[0;36m250\u001b[0m\u001b[0;34m)\u001b[0m\u001b[0;34m\u001b[0m\u001b[0;34m\u001b[0m\u001b[0m\n\u001b[0m\u001b[1;32m     12\u001b[0m                     \u001b[0mprint\u001b[0m\u001b[0;34m(\u001b[0m\u001b[0mnp\u001b[0m\u001b[0;34m.\u001b[0m\u001b[0maverage\u001b[0m\u001b[0;34m(\u001b[0m\u001b[0mfast\u001b[0m\u001b[0;34m)\u001b[0m\u001b[0;34m,\u001b[0m \u001b[0mnp\u001b[0m\u001b[0;34m.\u001b[0m\u001b[0mstd\u001b[0m\u001b[0;34m(\u001b[0m\u001b[0mfast\u001b[0m\u001b[0;34m)\u001b[0m\u001b[0;34m)\u001b[0m\u001b[0;34m\u001b[0m\u001b[0;34m\u001b[0m\u001b[0m\n\u001b[1;32m     13\u001b[0m     \u001b[0mprint\u001b[0m\u001b[0;34m(\u001b[0m\u001b[0;34m)\u001b[0m\u001b[0;34m\u001b[0m\u001b[0;34m\u001b[0m\u001b[0m\n",
      "\u001b[0;32m<ipython-input-31-7f784a559654>\u001b[0m in \u001b[0;36mtime_integrator\u001b[0;34m(move, thermostate, sstate, num_steps)\u001b[0m\n\u001b[1;32m      7\u001b[0m         \u001b[0mstart\u001b[0m \u001b[0;34m=\u001b[0m \u001b[0mtime\u001b[0m\u001b[0;34m.\u001b[0m\u001b[0mtime\u001b[0m\u001b[0;34m(\u001b[0m\u001b[0;34m)\u001b[0m\u001b[0;34m\u001b[0m\u001b[0;34m\u001b[0m\u001b[0m\n\u001b[1;32m      8\u001b[0m         \u001b[0;31m#integrator.step(1)\u001b[0m\u001b[0;34m\u001b[0m\u001b[0;34m\u001b[0m\u001b[0;34m\u001b[0m\u001b[0m\n\u001b[0;32m----> 9\u001b[0;31m         \u001b[0mmove\u001b[0m\u001b[0;34m.\u001b[0m\u001b[0mapply\u001b[0m\u001b[0;34m(\u001b[0m\u001b[0mthermostate\u001b[0m\u001b[0;34m,\u001b[0m \u001b[0msstate\u001b[0m\u001b[0;34m)\u001b[0m\u001b[0;34m\u001b[0m\u001b[0;34m\u001b[0m\u001b[0m\n\u001b[0m\u001b[1;32m     10\u001b[0m         \u001b[0mend\u001b[0m \u001b[0;34m=\u001b[0m \u001b[0mtime\u001b[0m\u001b[0;34m.\u001b[0m\u001b[0mtime\u001b[0m\u001b[0;34m(\u001b[0m\u001b[0;34m)\u001b[0m \u001b[0;34m-\u001b[0m \u001b[0mstart\u001b[0m\u001b[0;34m\u001b[0m\u001b[0;34m\u001b[0m\u001b[0m\n\u001b[1;32m     11\u001b[0m         \u001b[0m_time\u001b[0m\u001b[0;34m.\u001b[0m\u001b[0mappend\u001b[0m\u001b[0;34m(\u001b[0m\u001b[0mend\u001b[0m\u001b[0;34m)\u001b[0m\u001b[0;34m\u001b[0m\u001b[0;34m\u001b[0m\u001b[0m\n",
      "\u001b[0;32m~/miniconda3/envs/openmm/lib/python3.6/site-packages/openmmtools-0.18.3+0.g6cf88cc.dirty-py3.6-linux-x86_64.egg/openmmtools/mcmc.py\u001b[0m in \u001b[0;36mapply\u001b[0;34m(self, thermodynamic_state, sampler_state)\u001b[0m\n\u001b[1;32m   1112\u001b[0m         \"\"\"\n\u001b[1;32m   1113\u001b[0m         \u001b[0;31m# Explicitly implemented just to have more specific docstring.\u001b[0m\u001b[0;34m\u001b[0m\u001b[0;34m\u001b[0m\u001b[0;34m\u001b[0m\u001b[0m\n\u001b[0;32m-> 1114\u001b[0;31m         \u001b[0msuper\u001b[0m\u001b[0;34m(\u001b[0m\u001b[0mLangevinDynamicsMove\u001b[0m\u001b[0;34m,\u001b[0m \u001b[0mself\u001b[0m\u001b[0;34m)\u001b[0m\u001b[0;34m.\u001b[0m\u001b[0mapply\u001b[0m\u001b[0;34m(\u001b[0m\u001b[0mthermodynamic_state\u001b[0m\u001b[0;34m,\u001b[0m \u001b[0msampler_state\u001b[0m\u001b[0;34m)\u001b[0m\u001b[0;34m\u001b[0m\u001b[0;34m\u001b[0m\u001b[0m\n\u001b[0m\u001b[1;32m   1115\u001b[0m \u001b[0;34m\u001b[0m\u001b[0m\n\u001b[1;32m   1116\u001b[0m     \u001b[0;32mdef\u001b[0m \u001b[0m__getstate__\u001b[0m\u001b[0;34m(\u001b[0m\u001b[0mself\u001b[0m\u001b[0;34m)\u001b[0m\u001b[0;34m:\u001b[0m\u001b[0;34m\u001b[0m\u001b[0;34m\u001b[0m\u001b[0m\n",
      "\u001b[0;32m~/miniconda3/envs/openmm/lib/python3.6/site-packages/openmmtools-0.18.3+0.g6cf88cc.dirty-py3.6-linux-x86_64.egg/openmmtools/mcmc.py\u001b[0m in \u001b[0;36mapply\u001b[0;34m(self, thermodynamic_state, sampler_state)\u001b[0m\n\u001b[1;32m    698\u001b[0m                     \u001b[0mlogger\u001b[0m\u001b[0;34m.\u001b[0m\u001b[0merror\u001b[0m\u001b[0;34m(\u001b[0m\u001b[0merr_msg\u001b[0m \u001b[0;34m+\u001b[0m \u001b[0;34m' Trying to reinitialize Context as a last-resort restart attempt...'\u001b[0m\u001b[0;34m)\u001b[0m\u001b[0;34m\u001b[0m\u001b[0;34m\u001b[0m\u001b[0m\n\u001b[1;32m    699\u001b[0m                     \u001b[0mcontext\u001b[0m\u001b[0;34m.\u001b[0m\u001b[0mreinitialize\u001b[0m\u001b[0;34m(\u001b[0m\u001b[0;34m)\u001b[0m\u001b[0;34m\u001b[0m\u001b[0;34m\u001b[0m\u001b[0m\n\u001b[0;32m--> 700\u001b[0;31m                     \u001b[0msampler_state\u001b[0m\u001b[0;34m.\u001b[0m\u001b[0mapply_to_context\u001b[0m\u001b[0;34m(\u001b[0m\u001b[0mcontext\u001b[0m\u001b[0;34m)\u001b[0m\u001b[0;34m\u001b[0m\u001b[0;34m\u001b[0m\u001b[0m\n\u001b[0m\u001b[1;32m    701\u001b[0m                     \u001b[0mthermodynamic_state\u001b[0m\u001b[0;34m.\u001b[0m\u001b[0mapply_to_context\u001b[0m\u001b[0;34m(\u001b[0m\u001b[0mcontext\u001b[0m\u001b[0;34m)\u001b[0m\u001b[0;34m\u001b[0m\u001b[0;34m\u001b[0m\u001b[0m\n\u001b[1;32m    702\u001b[0m                 \u001b[0;31m# If we have hit the number of restart attempts, raise an exception.\u001b[0m\u001b[0;34m\u001b[0m\u001b[0;34m\u001b[0m\u001b[0;34m\u001b[0m\u001b[0m\n",
      "\u001b[0;32m~/miniconda3/envs/openmm/lib/python3.6/site-packages/openmmtools-0.18.3+0.g6cf88cc.dirty-py3.6-linux-x86_64.egg/openmmtools/states.py\u001b[0m in \u001b[0;36mapply_to_context\u001b[0;34m(self, context, ignore_velocities)\u001b[0m\n\u001b[1;32m   2077\u001b[0m         \u001b[0;32mif\u001b[0m \u001b[0mself\u001b[0m\u001b[0;34m.\u001b[0m\u001b[0mbox_vectors\u001b[0m \u001b[0;32mis\u001b[0m \u001b[0;32mnot\u001b[0m \u001b[0;32mNone\u001b[0m\u001b[0;34m:\u001b[0m\u001b[0;34m\u001b[0m\u001b[0;34m\u001b[0m\u001b[0m\n\u001b[1;32m   2078\u001b[0m             \u001b[0mcontext\u001b[0m\u001b[0;34m.\u001b[0m\u001b[0msetPeriodicBoxVectors\u001b[0m\u001b[0;34m(\u001b[0m\u001b[0;34m*\u001b[0m\u001b[0mself\u001b[0m\u001b[0;34m.\u001b[0m\u001b[0mbox_vectors\u001b[0m\u001b[0;34m)\u001b[0m\u001b[0;34m\u001b[0m\u001b[0;34m\u001b[0m\u001b[0m\n\u001b[0;32m-> 2079\u001b[0;31m         \u001b[0mcontext\u001b[0m\u001b[0;34m.\u001b[0m\u001b[0msetPositions\u001b[0m\u001b[0;34m(\u001b[0m\u001b[0mself\u001b[0m\u001b[0;34m.\u001b[0m\u001b[0m_unitless_positions\u001b[0m\u001b[0;34m)\u001b[0m\u001b[0;34m\u001b[0m\u001b[0;34m\u001b[0m\u001b[0m\n\u001b[0m\u001b[1;32m   2080\u001b[0m         \u001b[0;32mif\u001b[0m \u001b[0mself\u001b[0m\u001b[0;34m.\u001b[0m\u001b[0m_velocities\u001b[0m \u001b[0;32mis\u001b[0m \u001b[0;32mnot\u001b[0m \u001b[0;32mNone\u001b[0m \u001b[0;32mand\u001b[0m \u001b[0;32mnot\u001b[0m \u001b[0mignore_velocities\u001b[0m\u001b[0;34m:\u001b[0m\u001b[0;34m\u001b[0m\u001b[0;34m\u001b[0m\u001b[0m\n\u001b[1;32m   2081\u001b[0m             \u001b[0mcontext\u001b[0m\u001b[0;34m.\u001b[0m\u001b[0msetVelocities\u001b[0m\u001b[0;34m(\u001b[0m\u001b[0mself\u001b[0m\u001b[0;34m.\u001b[0m\u001b[0m_unitless_velocities\u001b[0m\u001b[0;34m)\u001b[0m\u001b[0;34m\u001b[0m\u001b[0;34m\u001b[0m\u001b[0m\n",
      "\u001b[0;32m~/miniconda3/envs/openmm/lib/python3.6/site-packages/simtk/openmm/openmm.py\u001b[0m in \u001b[0;36msetPositions\u001b[0;34m(self, positions)\u001b[0m\n\u001b[1;32m  11951\u001b[0m             \u001b[0ma\u001b[0m \u001b[0mvector\u001b[0m \u001b[0mwhose\u001b[0m \u001b[0mlength\u001b[0m \u001b[0mequals\u001b[0m \u001b[0mthe\u001b[0m \u001b[0mnumber\u001b[0m \u001b[0mof\u001b[0m \u001b[0mparticles\u001b[0m \u001b[0;32min\u001b[0m \u001b[0mthe\u001b[0m \u001b[0mSystem\u001b[0m\u001b[0;34m.\u001b[0m \u001b[0mThe\u001b[0m \u001b[0mi\u001b[0m\u001b[0;34m'th element contains the position of the i'\u001b[0m\u001b[0mth\u001b[0m \u001b[0mparticle\u001b[0m\u001b[0;34m.\u001b[0m\u001b[0;34m\u001b[0m\u001b[0;34m\u001b[0m\u001b[0m\n\u001b[1;32m  11952\u001b[0m         \"\"\"\n\u001b[0;32m> 11953\u001b[0;31m         \u001b[0;32mreturn\u001b[0m \u001b[0m_openmm\u001b[0m\u001b[0;34m.\u001b[0m\u001b[0mContext_setPositions\u001b[0m\u001b[0;34m(\u001b[0m\u001b[0mself\u001b[0m\u001b[0;34m,\u001b[0m \u001b[0mpositions\u001b[0m\u001b[0;34m)\u001b[0m\u001b[0;34m\u001b[0m\u001b[0;34m\u001b[0m\u001b[0m\n\u001b[0m\u001b[1;32m  11954\u001b[0m \u001b[0;34m\u001b[0m\u001b[0m\n\u001b[1;32m  11955\u001b[0m \u001b[0;34m\u001b[0m\u001b[0m\n",
      "\u001b[0;31mException\u001b[0m: Particle coordinate is nan"
     ]
    }
   ],
   "source": [
    "print(f\"this is for platform {cache.global_context_cache.platform.getName()}\")\n",
    "\n",
    "for mapping in ['weak', 'default', 'strong']:\n",
    "    for i in ['SER']:\n",
    "        for j in ['CYS']:\n",
    "            if i != j:\n",
    "                for phase in ['sol']:\n",
    "                    print(f\"mapping {mapping} for phase {phase} with dipeptides: {i, j}\")\n",
    "                    htf = deserialize(f'{i}_{j}.{phase}.{mapping}_map.pkl')\n",
    "                    mcmc_moves, thermostate, sstate = create_integrator(htf, 1e-6)\n",
    "                    fast = time_integrator(mcmc_moves, thermostate, sstate, 250)\n",
    "                    print(np.average(fast), np.std(fast))\n",
    "    print()\n",
    "                    \n",
    "    "
   ]
  },
  {
   "cell_type": "code",
   "execution_count": null,
   "metadata": {},
   "outputs": [],
   "source": []
  },
  {
   "cell_type": "code",
   "execution_count": null,
   "metadata": {},
   "outputs": [],
   "source": [
    "# plats = get_available_platforms()\n",
    "# for plat in plats:\n",
    "#     print(plat.getName())\n",
    "# cache.global_context_cache.empty()\n",
    "# print(f\"this is for platform {cache.global_context_cache.platform.getName()}\")\n",
    "# for mapping in ['weak', 'default', 'strong']:\n",
    "#     for i in dipeptides:\n",
    "#         for j in dipeptides:\n",
    "#             if i != j:\n",
    "#                 for phase in ['vac']:\n",
    "#                     print(f\"mapping {mapping} for phase {phase} with dipeptides: {i, j}\")\n",
    "#                     htf = deserialize(f'{i}_{j}.{phase}.{mapping}_map.pkl')\n",
    "#                     try:\n",
    "#                         _, _, _, _int = create_integrator(htf, 1e-6)\n",
    "#                         fast = time_integrator(_int, num_steps = 100)\n",
    "#                         print(np.average(fast), np.std(fast))\n",
    "#                     except Exception as e:\n",
    "#                         print(e)\n",
    "#     print()"
   ]
  },
  {
   "cell_type": "code",
   "execution_count": null,
   "metadata": {},
   "outputs": [],
   "source": [
    "htf = deserialize(f'SER_CYS.vac.weak_map.pkl')"
   ]
  },
  {
   "cell_type": "markdown",
   "metadata": {},
   "source": [
    "the atom map names"
   ]
  },
  {
   "cell_type": "code",
   "execution_count": null,
   "metadata": {},
   "outputs": [],
   "source": [
    "[(htf._hybrid_to_old_map[hybrid_idx],  list(htf._topology_proposal._old_topology.atoms())[htf._hybrid_to_old_map[hybrid_idx]].name, htf._hybrid_to_new_map[hybrid_idx],  list(htf._topology_proposal._new_topology.atoms())[htf._hybrid_to_new_map[hybrid_idx]].name) for hybrid_idx in htf._atom_classes['core_atoms']]"
   ]
  },
  {
   "cell_type": "code",
   "execution_count": null,
   "metadata": {},
   "outputs": [],
   "source": [
    "[(htf._hybrid_to_old_map[hybrid_idx], list(htf._topology_proposal._old_topology.atoms())[htf._hybrid_to_old_map[hybrid_idx]].name, hybrid_idx) for hybrid_idx in htf._atom_classes['unique_old_atoms']]"
   ]
  },
  {
   "cell_type": "code",
   "execution_count": null,
   "metadata": {},
   "outputs": [],
   "source": [
    "[(htf._hybrid_to_new_map[hybrid_idx], list(htf._topology_proposal._new_topology.atoms())[htf._hybrid_to_new_map[hybrid_idx]].name, hybrid_idx) for hybrid_idx in htf._atom_classes['unique_new_atoms']]"
   ]
  },
  {
   "cell_type": "code",
   "execution_count": null,
   "metadata": {},
   "outputs": [],
   "source": [
    "num_constraints = htf._hybrid_system.getNumConstraints()"
   ]
  },
  {
   "cell_type": "code",
   "execution_count": null,
   "metadata": {},
   "outputs": [],
   "source": [
    "for idx in reversed(range(num_constraints)):\n",
    "    p1, p2, r = htf._hybrid_system.getConstraintParameters(idx)\n",
    "    \n",
    "#     old_idx, new_idx = htf._hybrid_to_old_map[p1], htf._hybrid_to_new_map[p2]\n",
    "#     old_name, new_name = list(htf._topology_proposal._old_topology.atoms())[old_idx].name, list(htf._topology_proposal._new_topology.atoms())[new_idx].name\n",
    "    print(p1, p2, r)"
   ]
  },
  {
=======
>>>>>>> 697b4775daeb51f29077b864293bb838f3db18e1
   "cell_type": "markdown",
   "metadata": {},
   "source": [
    "so we know that the constraint distance changes, which is why we are not mapping the terminal hydrogen\n"
   ]
  },
  {
   "cell_type": "markdown",
   "metadata": {},
   "source": [
    "out of curiosity, can we make a CCCCO --> CCCCS with different mappings and see how it performs?\n"
   ]
  },
  {
   "cell_type": "code",
<<<<<<< HEAD
   "execution_count": null,
   "metadata": {},
   "outputs": [],
   "source": [
    "from perses.annihilation.relative import HybridTopologyFactory\n",
    "from perses.annihilation.lambda_protocol import RelativeAlchemicalState, LambdaProtocol\n",
    "from perses.rjmc.topology_proposal import TopologyProposal, TwoMoleculeSetProposalEngine, SystemGenerator,SmallMoleculeSetProposalEngine, PointMutationEngine\n",
    "from perses.rjmc.geometry import FFAllAngleGeometryEngine\n",
    "from perses.utils.openeye import createSystemFromSMILES"
   ]
  },
  {
   "cell_type": "code",
   "execution_count": null,
   "metadata": {},
   "outputs": [],
   "source": [
    "system_generator = SystemGenerator(['gaff2.xml'],\n",
    "                               barostat = None,\n",
    "                               forcefield_kwargs = {'removeCMMotion': False, \n",
    "                                                    'ewaldErrorTolerance': 1e-4, \n",
    "                                                    'nonbondedMethod': app.NoCutoff,\n",
    "                                                    'constraints' : app.HBonds, \n",
    "                                                    'hydrogenMass' : 4 * unit.amus})"
   ]
  },
  {
   "cell_type": "code",
   "execution_count": null,
=======
   "execution_count": 8,
>>>>>>> 697b4775daeb51f29077b864293bb838f3db18e1
   "metadata": {},
   "outputs": [],
   "source": []
  },
  {
   "cell_type": "code",
<<<<<<< HEAD
   "execution_count": null,
=======
   "execution_count": 17,
>>>>>>> 697b4775daeb51f29077b864293bb838f3db18e1
   "metadata": {},
   "outputs": [],
   "source": [
    "old_mol, old_system, old_pos, old_top = createSystemFromSMILES('CCCCO')\n",
    "old_system = system_generator.build_system(old_top)\n",
    "\n",
    "new_mol, new_system, new_pos, new_top = createSystemFromSMILES('CCCCS')\n",
    "new_system = system_generator.build_system(new_top)"
   ]
  },
  {
   "cell_type": "code",
<<<<<<< HEAD
   "execution_count": null,
=======
   "execution_count": 18,
>>>>>>> 697b4775daeb51f29077b864293bb838f3db18e1
   "metadata": {},
   "outputs": [],
   "source": [
    "num_old_constraints = old_system.getNumConstraints()\n",
    "print(num_old_constraints)\n",
    "for i in range(num_old_constraints):\n",
    "    print(old_system.getConstraintParameters(i))"
   ]
  },
  {
   "cell_type": "code",
   "execution_count": null,
   "metadata": {},
   "outputs": [],
   "source": [
    "num_old_constraints = new_system.getNumConstraints()\n",
    "print(num_old_constraints)\n",
    "for i in range(num_old_constraints):\n",
    "    print(new_system.getConstraintParameters(i))"
   ]
  },
  {
   "cell_type": "code",
<<<<<<< HEAD
   "execution_count": null,
=======
   "execution_count": 19,
>>>>>>> 697b4775daeb51f29077b864293bb838f3db18e1
   "metadata": {},
   "outputs": [],
   "source": [
    "def generate_top_pos_sys(topology, old_oemol, new_oemol, system, positions, system_generator, map_strength):\n",
    "    \"\"\"generate point mutation engine, geometry_engine, and conduct topology proposal, geometry propsal, and hybrid factory generation\"\"\"\n",
    "    #create the point mutation engine\n",
    "    print(f\"generating point mutation engine\")\n",
    "    proposal_engine = SmallMoleculeSetProposalEngine(['CCCCO', 'CCCCS'], system_generator, map_strength=map_strength, residue_name='MOL')\n",
    "    \n",
    "\n",
    "    #create a geometry engine\n",
    "    print(f\"generating geometry engine\")\n",
    "    geometry_engine = FFAllAngleGeometryEngine(metadata=None, \n",
    "                                           use_sterics=False, \n",
    "                                           n_bond_divisions=100, \n",
    "                                           n_angle_divisions=180, \n",
    "                                           n_torsion_divisions=360, \n",
    "                                           verbose=True, \n",
    "                                           storage=None, \n",
    "                                           bond_softening_constant=1.0, \n",
    "                                           angle_softening_constant=1.0, \n",
    "                                           neglect_angles = False, \n",
    "                                           use_14_nonbondeds = False)\n",
    "\n",
    "    #create a top proposal\n",
    "    print(f\"making topology proposal\")\n",
    "    topology_proposal = proposal_engine.propose(system, topology, old_oemol, new_oemol)\n",
    "\n",
    "    #make a geometry proposal forward\n",
    "    print(f\"making geometry proposal\")\n",
    "    forward_new_positions, logp_proposal = geometry_engine.propose(topology_proposal, positions, beta)\n",
    "\n",
    "\n",
    "    #create a hybrid topology factory\n",
    "    f\"making forward hybridtopologyfactory\"\n",
    "    forward_htf = HybridTopologyFactory(topology_proposal = topology_proposal,\n",
    "                 current_positions =  positions,\n",
    "                 new_positions = forward_new_positions,\n",
    "                 use_dispersion_correction = False,\n",
    "                 functions=None,\n",
    "                 softcore_alpha = None,\n",
    "                 bond_softening_constant=1.0,\n",
    "                 angle_softening_constant=1.0,\n",
    "                 soften_only_new = False,\n",
    "                 neglected_new_angle_terms = [],\n",
    "                 neglected_old_angle_terms = [],\n",
    "                 softcore_LJ_v2 = True,\n",
    "                 softcore_electrostatics = True,\n",
    "                 softcore_LJ_v2_alpha = 0.85,\n",
    "                 softcore_electrostatics_alpha = 0.3,\n",
    "                 softcore_sigma_Q = 1.0,\n",
    "                 interpolate_old_and_new_14s = False,\n",
    "                 omitted_terms = None)\n",
    "    \n",
    "    return topology_proposal, forward_new_positions, forward_htf\n",
    "\n",
    "\n"
   ]
  },
  {
   "cell_type": "code",
<<<<<<< HEAD
   "execution_count": null,
   "metadata": {},
   "outputs": [],
=======
   "execution_count": 20,
   "metadata": {},
   "outputs": [
    {
     "name": "stdout",
     "output_type": "stream",
     "text": [
      "0.0012963438034057618 0.00017365259597791006\n",
      "0.0012608838081359863 0.0001394109475754756\n",
      "0.0012266659736633301 0.00011619802694094898\n",
      "0.001241781711578369 0.00011578275430538863\n",
      "0.0012153458595275878 0.00011124351557612184\n"
     ]
    }
   ],
>>>>>>> 697b4775daeb51f29077b864293bb838f3db18e1
   "source": [
    "_, weak_sm_new_pos, weak_sm_htf = generate_top_pos_sys(old_top, old_mol, new_mol, old_system, old_pos, system_generator, 'weak')\n",
    "_, default_sm_new_pos, default_sm_htf = generate_top_pos_sys(old_top, old_mol, new_mol, old_system, old_pos, system_generator, 'default')\n",
    "_, strong_sm_new_pos, strong_sm_htf = generate_top_pos_sys(old_top, old_mol, new_mol, old_system, old_pos, system_generator, 'strong')"
   ]
  },
  {
   "cell_type": "code",
   "execution_count": null,
   "metadata": {},
   "outputs": [],
   "source": []
  },
  {
   "cell_type": "code",
   "execution_count": null,
   "metadata": {},
   "outputs": [],
   "source": [
    "print(weak_sm_htf._topology_proposal._unique_new_atoms)\n",
    "print(weak_sm_htf._topology_proposal._unique_old_atoms)\n",
    "\n",
    "print(default_sm_htf._topology_proposal._unique_new_atoms)\n",
    "print(default_sm_htf._topology_proposal._unique_old_atoms)\n",
    "\n",
    "print(strong_sm_htf._topology_proposal._unique_new_atoms)\n",
    "print(strong_sm_htf._topology_proposal._unique_old_atoms)"
   ]
  },
  {
   "cell_type": "code",
   "execution_count": null,
   "metadata": {},
   "outputs": [],
   "source": [
    "\n",
    "for htf in [weak_sm_htf, default_sm_htf, strong_sm_htf]:\n",
    "    _, _, _, _int = create_integrator(htf, 1e-6)\n",
    "    fast = time_integrator(_int, num_steps = 100)\n",
    "    print(np.average(fast), np.std(fast))"
   ]
  },
  {
   "cell_type": "code",
   "execution_count": null,
   "metadata": {},
   "outputs": [],
   "source": []
  }
 ],
 "metadata": {
  "kernelspec": {
   "display_name": "Python 3",
   "language": "python",
   "name": "python3"
  },
  "language_info": {
   "codemirror_mode": {
    "name": "ipython",
    "version": 3
   },
   "file_extension": ".py",
   "mimetype": "text/x-python",
   "name": "python",
   "nbconvert_exporter": "python",
   "pygments_lexer": "ipython3",
   "version": "3.6.8"
  }
 },
 "nbformat": 4,
 "nbformat_minor": 4
}
