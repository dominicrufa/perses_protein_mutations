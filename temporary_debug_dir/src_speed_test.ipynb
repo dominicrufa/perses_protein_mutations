{
 "cells": [
  {
   "cell_type": "markdown",
   "metadata": {},
   "source": [
    "here, i will attempt to document a discrepancy in the speed issue between `LangevinSplittingDynamicsMove` and `LangevinIntegrator`"
   ]
  },
  {
   "cell_type": "code",
   "execution_count": 1,
   "metadata": {},
   "outputs": [
    {
     "name": "stdout",
     "output_type": "stream",
     "text": [
      "conducting subsequent work with the following platform: CUDA\n",
      "conducting subsequent work with the following platform: CUDA\n",
      "conducting subsequent work with the following platform: CUDA\n"
     ]
    }
   ],
   "source": [
    "import simtk.openmm as openmm\n",
    "from openmmtools.constants import kB\n",
    "import simtk.unit as unit\n",
    "temperature = 300 * unit.kelvin\n",
    "kT = kB * temperature\n",
    "beta = 1.0/kT\n",
    "from openmmtools.states import ThermodynamicState, SamplerState, CompoundThermodynamicState\n",
    "from openmmtools import mcmc, utils\n",
    "import openmmtools.cache as cache\n",
    "from perses.dispersed.utils import configure_platform\n",
    "import openmmtools.integrators as integrators\n",
    "from protein_test_cycle import *\n",
    "from openmmtools import mcmc, utils"
   ]
  },
  {
   "cell_type": "markdown",
   "metadata": {},
   "source": [
    "and we should be using CUDA..."
   ]
  },
  {
   "cell_type": "code",
   "execution_count": 2,
   "metadata": {},
   "outputs": [
    {
     "name": "stdout",
     "output_type": "stream",
     "text": [
      "CUDA\n",
      "mixed\n"
     ]
    }
   ],
   "source": [
    "print(cache.global_context_cache.platform.getName())\n",
    "print(cache.global_context_cache.platform.getPropertyDefaultValue('CudaPrecision'))"
   ]
  },
  {
   "cell_type": "code",
   "execution_count": 5,
   "metadata": {},
   "outputs": [],
   "source": [
    "from openmmtools.testsystems import SrcExplicit as src\n",
    "src = src()"
   ]
  },
  {
   "cell_type": "code",
   "execution_count": null,
   "metadata": {},
   "outputs": [],
   "source": []
  },
  {
   "cell_type": "code",
   "execution_count": 36,
   "metadata": {},
   "outputs": [],
   "source": [
    "def create_integrator(system, topology, positions, constraint_tol):\n",
    "    \"\"\"\n",
    "    create lambda alchemical states, thermodynamic states, sampler states, integrator, and return context, thermostate, sampler_state, integrator\n",
    "    \"\"\"\n",
    "    \n",
    "    fast_thermodynamic_state = ThermodynamicState(system, temperature = temperature)\n",
    "    \n",
    "    fast_sampler_state = SamplerState(positions = positions, box_vectors = system.getDefaultPeriodicBoxVectors())\n",
    "    \n",
    "    mcmc_moves=mcmc.LangevinSplittingDynamicsMove(timestep = 4.0 * unit.femtoseconds,\n",
    "                                                             collision_rate=5.0 / unit.picosecond,\n",
    "                                                             n_steps=250,\n",
    "                                                             reassign_velocities=False,\n",
    "                                                             n_restart_attempts=20,\n",
    "                                                             splitting=\"V R O R V\",\n",
    "                                                             constraint_tolerance=constraint_tol)\n",
    "    \n",
    "    return mcmc_moves, fast_thermodynamic_state, fast_sampler_state\n",
    "\n",
    "\n",
    "    \n",
    "    \n",
    "    \n",
    "    "
   ]
  },
  {
   "cell_type": "code",
   "execution_count": 37,
   "metadata": {},
   "outputs": [],
   "source": [
    "def create_langevin_integrator(system, topology, positions, constraint_tol):\n",
    "    \"\"\"\n",
    "    create lambda alchemical states, thermodynamic states, sampler states, integrator, and return context, thermostate, sampler_state, integrator\n",
    "    \"\"\"\n",
    "\n",
    "        \n",
    "    fast_thermodynamic_state = ThermodynamicState(system, temperature = temperature)\n",
    "    \n",
    "    fast_sampler_state = SamplerState(positions = positions, box_vectors = system.getDefaultPeriodicBoxVectors())\\\n",
    "    \n",
    "    integrator_1 = integrators.LangevinIntegrator(temperature = temperature,\n",
    "                                                     timestep = 4.0* unit.femtoseconds,\n",
    "                                                     splitting = 'V R O R V',\n",
    "                                                     measure_shadow_work = False,\n",
    "                                                     measure_heat = False,\n",
    "                                                     constraint_tolerance = constraint_tol,\n",
    "                                                     collision_rate = 5.0 / unit.picoseconds)\n",
    "\n",
    "    \n",
    "    \n",
    "    #print(integrator_1.getConstraintTolerance())\n",
    "    \n",
    "    fast_context, fast_integrator = cache.global_context_cache.get_context(fast_thermodynamic_state, integrator_1)\n",
    "    \n",
    "    \n",
    "    fast_sampler_state.apply_to_context(fast_context)\n",
    "    \n",
    "    return fast_context, fast_thermodynamic_state, fast_sampler_state, fast_integrator"
   ]
  },
  {
   "cell_type": "code",
   "execution_count": 38,
   "metadata": {},
   "outputs": [],
   "source": [
    "def time_integrator(move, thermostate, sstate, num_steps = 10):\n",
    "    import time\n",
    "    _time = []\n",
    "    #integrator.step(1)\n",
    "    move.apply(thermostate, sstate)\n",
    "    for i in range(num_steps):\n",
    "        start = time.time()\n",
    "        #integrator.step(1)\n",
    "        move.apply(thermostate, sstate)\n",
    "        end = time.time() - start\n",
    "        _time.append(end)\n",
    "    return np.array(_time)"
   ]
  },
  {
   "cell_type": "code",
   "execution_count": 39,
   "metadata": {},
   "outputs": [],
   "source": [
    "def time_lan_integrator(integrator, num_steps = 10):\n",
    "    import time\n",
    "    _time = []\n",
    "    integrator.step(1)\n",
    "    #move.apply(thermostate, sstate)\n",
    "    for i in range(num_steps):\n",
    "        start = time.time()\n",
    "        integrator.step(1)\n",
    "        #move.apply(thermostate, sstate)\n",
    "        end = time.time() - start\n",
    "        _time.append(end)\n",
    "    return np.array(_time)"
   ]
  },
  {
   "cell_type": "markdown",
   "metadata": {},
   "source": [
    "let's compare the speeds of all the atom maps right now..."
   ]
  },
  {
   "cell_type": "code",
   "execution_count": 40,
   "metadata": {},
   "outputs": [],
   "source": [
    "from openmmtools.utils import get_available_platforms"
   ]
  },
  {
   "cell_type": "code",
   "execution_count": 41,
   "metadata": {},
   "outputs": [
    {
     "name": "stdout",
     "output_type": "stream",
     "text": [
      "Reference\n",
      "CPU\n",
      "CUDA\n",
      "OpenCL\n"
     ]
    }
   ],
   "source": [
    "plats = get_available_platforms()\n",
    "for plat in plats:\n",
    "    print(plat.getName())"
   ]
  },
  {
   "cell_type": "code",
   "execution_count": 42,
   "metadata": {},
   "outputs": [
    {
     "name": "stdout",
     "output_type": "stream",
     "text": [
      "this is for platform CUDA\n"
     ]
    }
   ],
   "source": [
    "print(f\"this is for platform {cache.global_context_cache.platform.getName()}\")\n",
    "_, _, _, integrator = create_langevin_integrator(src.system, src.topology, src.positions, 1e-6)\n",
    "fast = time_lan_integrator(integrator, 250)    \n",
    "\n",
    "mcmc_moves, thermostate, sstate = create_integrator(src.system, src.topology, src.positions, 1e-6)\n",
    "slow = time_integrator(mcmc_moves, thermostate, sstate, 1)\n",
    "    "
   ]
  },
  {
   "cell_type": "code",
   "execution_count": 44,
   "metadata": {},
   "outputs": [
    {
     "name": "stdout",
     "output_type": "stream",
     "text": [
      "0.011655369758605956 0.0062754618314890855 0.01177958583831787 0.0\n"
     ]
    }
   ],
   "source": [
    "print(np.average(fast), np.std(fast), np.average(slow)/250, np.std(slow))\n"
   ]
  },
  {
   "cell_type": "markdown",
   "metadata": {},
   "source": [
    "so the mcmc move is about 4x slower than if we simply create a `LangevinIntegrator`"
   ]
  },
  {
   "cell_type": "markdown",
   "metadata": {},
   "source": [
    "now , we'll just serialize the system and state"
   ]
  },
  {
   "cell_type": "code",
   "execution_count": null,
   "metadata": {},
   "outputs": [],
   "source": []
  }
 ],
 "metadata": {
  "kernelspec": {
   "display_name": "Python 3",
   "language": "python",
   "name": "python3"
  },
  "language_info": {
   "codemirror_mode": {
    "name": "ipython",
    "version": 3
   },
   "file_extension": ".py",
   "mimetype": "text/x-python",
   "name": "python",
   "nbconvert_exporter": "python",
   "pygments_lexer": "ipython3",
   "version": "3.6.8"
  }
 },
 "nbformat": 4,
 "nbformat_minor": 4
}
